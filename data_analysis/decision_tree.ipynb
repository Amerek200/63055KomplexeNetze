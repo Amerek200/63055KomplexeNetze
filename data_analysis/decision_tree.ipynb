{
 "cells": [
  {
   "metadata": {},
   "cell_type": "markdown",
   "source": "#### Imports",
   "id": "f286f177f795e910"
  },
  {
   "metadata": {
    "ExecuteTime": {
     "end_time": "2025-07-08T10:37:59.024831Z",
     "start_time": "2025-07-08T10:37:58.994272Z"
    }
   },
   "cell_type": "code",
   "source": [
    "import pandas as pd\n",
    "from sklearn.tree import DecisionTreeClassifier\n",
    "from sklearn.model_selection import cross_val_score, KFold, RepeatedStratifiedKFold\n",
    "import numpy as np\n",
    "import matplotlib.pyplot as plt\n",
    "import math"
   ],
   "id": "b9fd77c9c78c0a10",
   "outputs": [],
   "execution_count": 595
  },
  {
   "metadata": {},
   "cell_type": "markdown",
   "source": "#### Daten einlesen",
   "id": "d8497cdcf06cbac"
  },
  {
   "metadata": {
    "ExecuteTime": {
     "end_time": "2025-07-08T10:37:59.111125Z",
     "start_time": "2025-07-08T10:37:59.083315Z"
    }
   },
   "cell_type": "code",
   "source": [
    "df = pd.read_csv(\"output_combined.csv\").iloc[4:, :]\n",
    "df = df[df[\"stopwords_removed\"] == True]\n",
    "# df = df[df[\"language\"] == \"en\"]\n",
    "\n",
    "# Filter für Features, die mit in Klassifizierung mit einbezogen werden\n",
    "features = ['node_count', 'edge_count', 'average_degree', 'median_degree', 'diameter', 'average_distance', 'betweenness_average', 'average_clustering']\n",
    "\n",
    "\n",
    "X = df[features]\n",
    "y = df['author']"
   ],
   "id": "a11209fc6a132101",
   "outputs": [],
   "execution_count": 596
  },
  {
   "metadata": {},
   "cell_type": "markdown",
   "source": "#### Erstellen des Entscheidungsbaums und trainieren",
   "id": "bff5f972c64d8e0b"
  },
  {
   "metadata": {
    "collapsed": true,
    "ExecuteTime": {
     "end_time": "2025-07-08T10:37:59.913511Z",
     "start_time": "2025-07-08T10:37:59.143015Z"
    }
   },
   "cell_type": "code",
   "source": [
    "# Je Split teilen wir die Daten auf\n",
    "split_count = 4\n",
    "\n",
    "cv = RepeatedStratifiedKFold(n_splits=split_count, n_repeats=50, random_state=42)\n",
    "\n",
    "\n",
    "decision_tree = DecisionTreeClassifier()\n",
    "\n",
    "accuracy_scores = cross_val_score(decision_tree, X, y, cv=cv) # statt cv kann hier auch direkt split_count genutzt werden\n",
    "\n",
    "print(accuracy_scores)"
   ],
   "id": "initial_id",
   "outputs": [
    {
     "name": "stdout",
     "output_type": "stream",
     "text": [
      "[0.55555556 0.44444444 0.375      0.375      0.33333333 0.33333333\n",
      " 0.375      0.375      0.33333333 0.77777778 0.5        0.25\n",
      " 0.66666667 0.44444444 0.5        0.5        0.44444444 0.33333333\n",
      " 0.25       0.5        0.44444444 0.22222222 0.5        0.375\n",
      " 0.44444444 0.22222222 0.375      0.25       0.55555556 0.22222222\n",
      " 0.125      0.5        0.22222222 0.44444444 0.375      0.25\n",
      " 0.         0.44444444 0.125      0.25       0.33333333 0.22222222\n",
      " 0.5        0.25       0.55555556 0.33333333 0.375      0.5\n",
      " 0.44444444 0.33333333 0.25       0.375      0.22222222 0.22222222\n",
      " 0.25       0.5        0.33333333 0.44444444 0.125      0.375\n",
      " 0.55555556 0.55555556 0.25       0.125      0.44444444 0.66666667\n",
      " 0.         0.375      0.44444444 0.33333333 0.375      0.375\n",
      " 0.33333333 0.33333333 0.5        0.5        0.33333333 0.33333333\n",
      " 0.375      0.125      0.66666667 0.22222222 0.25       0.5\n",
      " 0.44444444 0.33333333 0.         0.375      0.44444444 0.33333333\n",
      " 0.625      0.375      0.44444444 0.33333333 0.5        0.125\n",
      " 0.55555556 0.22222222 0.5        0.5        0.44444444 0.22222222\n",
      " 0.25       0.75       0.33333333 0.44444444 0.625      0.25\n",
      " 0.22222222 0.44444444 0.625      0.375      0.44444444 0.44444444\n",
      " 0.375      0.25       0.33333333 0.33333333 0.5        0.25\n",
      " 0.33333333 0.22222222 0.25       0.5        0.33333333 0.66666667\n",
      " 0.5        0.5        0.44444444 0.33333333 0.625      0.375\n",
      " 0.33333333 0.44444444 0.5        0.5        0.11111111 0.55555556\n",
      " 0.375      0.5        0.11111111 0.66666667 0.375      0.25\n",
      " 0.33333333 0.33333333 0.375      0.375      0.44444444 0.22222222\n",
      " 0.5        0.375      0.66666667 0.33333333 0.5        0.25\n",
      " 0.33333333 0.22222222 0.5        0.5        0.22222222 0.33333333\n",
      " 0.375      0.25       0.44444444 0.44444444 0.25       0.375\n",
      " 0.44444444 0.33333333 0.125      0.375      0.44444444 0.55555556\n",
      " 0.125      0.625      0.44444444 0.33333333 0.625      0.375\n",
      " 0.         0.55555556 0.375      0.375      0.22222222 0.55555556\n",
      " 0.5        0.125      0.11111111 0.44444444 0.375      0.5\n",
      " 0.33333333 0.44444444 0.375      0.375      0.11111111 0.33333333\n",
      " 0.375      0.375     ]\n"
     ]
    }
   ],
   "execution_count": 597
  },
  {
   "metadata": {},
   "cell_type": "markdown",
   "source": "#### Anzeige der Ergebnisse",
   "id": "b3556d1023fc10e9"
  },
  {
   "metadata": {
    "ExecuteTime": {
     "end_time": "2025-07-08T10:37:59.944381Z",
     "start_time": "2025-07-08T10:37:59.937557Z"
    }
   },
   "cell_type": "code",
   "source": [
    "accuracy_mean = np.mean(accuracy_scores)\n",
    "print(f\"Testdaten-Anteil: {1 / split_count}\")\n",
    "print(f\"Unterschiedliche Aufteilungen der Daten: {len(accuracy_scores)}\")\n",
    "print(f\"Genauigkeit: \")\n",
    "print(f\"    Durchschnitt: {accuracy_mean}\")\n",
    "print(f\"    Minimum: {min(accuracy_scores)}\")\n",
    "print(f\"    Maximum: {max(accuracy_scores)}\")\n",
    "print(f\"    Standardabweichung: {np.std(accuracy_scores)}\")\n",
    "print(f\"Insgesamt {len(df)} Einträge im Dataframe. \")"
   ],
   "id": "919ba339ea3c3af",
   "outputs": [
    {
     "name": "stdout",
     "output_type": "stream",
     "text": [
      "Testdaten-Anteil: 0.25\n",
      "Unterschiedliche Aufteilungen der Daten: 200\n",
      "Genauigkeit: \n",
      "    Durchschnitt: 0.3769444444444444\n",
      "    Minimum: 0.0\n",
      "    Maximum: 0.7777777777777778\n",
      "    Standardabweichung: 0.1452637023136769\n",
      "Insgesamt 34 Einträge im Dataframe. \n"
     ]
    }
   ],
   "execution_count": 598
  },
  {
   "metadata": {
    "ExecuteTime": {
     "end_time": "2025-07-08T10:38:00.174978Z",
     "start_time": "2025-07-08T10:37:59.985054Z"
    }
   },
   "cell_type": "code",
   "source": [
    "plt.hist(accuracy_scores, bins=10, edgecolor=\"black\")\n",
    "plt.xlabel(\"Genauigkeit\")\n",
    "plt.ylabel(\"Häufigkeit\")\n",
    "plt.title(f\"Verteilung der Genauigkeiten über {len(accuracy_scores)} Läufe\")\n",
    "plt.show()"
   ],
   "id": "9fc4309b1420e0eb",
   "outputs": [
    {
     "data": {
      "text/plain": [
       "<Figure size 640x480 with 1 Axes>"
      ],
      "image/png": "[encoded data removed]"
     },
     "metadata": {},
     "output_type": "display_data"
    }
   ],
   "execution_count": 599
  },
  {
   "metadata": {},
   "cell_type": "code",
   "outputs": [],
   "execution_count": null,
   "source": [
    "# plt.figure(figsize=(12, 8))\n",
    "# tree.plot_tree(decision_tree, feature_names=features, filled=True)\n",
    "# plt.show()"
   ],
   "id": "bcf7e7fb81efb303"
  }
 ],
 "metadata": {
  "kernelspec": {
   "display_name": "Python 3",
   "language": "python",
   "name": "python3"
  },
  "language_info": {
   "codemirror_mode": {
    "name": "ipython",
    "version": 2
   },
   "file_extension": ".py",
   "mimetype": "text/x-python",
   "name": "python",
   "nbconvert_exporter": "python",
   "pygments_lexer": "ipython2",
   "version": "2.7.6"
  }
 },
 "nbformat": 4,
 "nbformat_minor": 5
}
