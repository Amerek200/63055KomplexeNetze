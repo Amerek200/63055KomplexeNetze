{
 "cells": [
  {
   "metadata": {},
   "cell_type": "markdown",
   "source": "#### Imports",
   "id": "f286f177f795e910"
  },
  {
   "metadata": {
    "ExecuteTime": {
     "end_time": "2025-07-19T11:02:00.062489Z",
     "start_time": "2025-07-19T11:02:00.052241Z"
    }
   },
   "cell_type": "code",
   "source": [
    "import pandas as pd\n",
    "from sklearn.dummy import DummyClassifier\n",
    "from sklearn.inspection import permutation_importance\n",
    "from sklearn.tree import DecisionTreeClassifier\n",
    "from sklearn.model_selection import cross_val_score, KFold, RepeatedStratifiedKFold\n",
    "from sklearn.naive_bayes import GaussianNB\n",
    "from sklearn.neighbors import KNeighborsClassifier\n",
    "\n",
    "import helper.normalizer\n",
    "from config import FEATURES_USED_BY_CLASSIFIER\n",
    "import helper.normalizer as normalizer\n",
    "import numpy as np\n",
    "import matplotlib.pyplot as plt\n",
    "import math\n",
    "\n",
    "import importlib\n",
    "importlib.reload(helper.normalizer)\n"
   ],
   "id": "b9fd77c9c78c0a10",
   "outputs": [
    {
     "data": {
      "text/plain": [
       "<module 'helper.normalizer' from '/Users/levin/PycharmProjects/Code/helper/normalizer.py'>"
      ]
     },
     "execution_count": 41,
     "metadata": {},
     "output_type": "execute_result"
    }
   ],
   "execution_count": 41
  },
  {
   "metadata": {},
   "cell_type": "markdown",
   "source": "#### Daten einlesen",
   "id": "d8497cdcf06cbac"
  },
  {
   "metadata": {
    "ExecuteTime": {
     "end_time": "2025-07-19T11:02:00.101829Z",
     "start_time": "2025-07-19T11:02:00.083609Z"
    }
   },
   "cell_type": "code",
   "source": [
    "df = pd.read_csv('output_isDigit.csv')\n",
    "df = df[df['stopwords_removed'] == True]\n",
    "df = df[df['author'] != 'ALL']\n",
    "df = df[df['link_distance'] != '1']\n",
    "df = df[df['fixed_token_count'] == df['fixed_token_count'].max()]\n",
    "\n",
    "# Filter für Features, die in Klassifizierung mit einbezogen werden\n",
    "features = FEATURES_USED_BY_CLASSIFIER\n",
    "\n",
    "df = normalizer.normalize(df, features)\n",
    "\n",
    "X = df[features]\n",
    "y = df['author']\n",
    "\n",
    "# print(X['betweenness_min'])\n",
    "# print(df['assortativity_coefficient'])\n",
    "# print(X[X.isna().any(axis=1)])"
   ],
   "id": "a11209fc6a132101",
   "outputs": [],
   "execution_count": 42
  },
  {
   "metadata": {},
   "cell_type": "markdown",
   "source": "#### Klassifikatoren erstellen, trainieren und Genauigkeit auswerten",
   "id": "bff5f972c64d8e0b"
  },
  {
   "metadata": {
    "collapsed": true,
    "ExecuteTime": {
     "end_time": "2025-07-19T11:02:00.476488Z",
     "start_time": "2025-07-19T11:02:00.115164Z"
    }
   },
   "cell_type": "code",
   "source": [
    "\n",
    "# Je Split teilen wir die Daten auf\n",
    "split_count = 4\n",
    "n_repeats = 100\n",
    "\n",
    "# Fold festlegen für Kreuzvalidierung\n",
    "cv = RepeatedStratifiedKFold(n_splits=split_count, n_repeats=n_repeats, random_state=42)\n",
    "\n",
    "classifier_list = [\n",
    "    DummyClassifier(strategy='uniform'),\n",
    "    DecisionTreeClassifier(), # Entscheidungsbaum\n",
    "    KNeighborsClassifier(n_neighbors=5), # KNN-Algorithmus\n",
    "    GaussianNB() # Naive-Bayes-Algorithmus\n",
    "]\n",
    "\n",
    "for classifier in classifier_list:\n",
    "\n",
    "    # Bilden der Genauigkeitswerte\n",
    "    accuracy_scores = cross_val_score(classifier, X, y, cv=cv)\n",
    "\n",
    "    # Statistiken dazu ausgeben\n",
    "    print(f'Testdaten-Anteil: {1 / split_count}')\n",
    "    print(f'Unterschiedliche Aufteilungen der Daten: {len(accuracy_scores)}')\n",
    "    print(f'Genauigkeit: ')\n",
    "    print(f'    Durchschnitt: {np.mean(accuracy_scores)}')\n",
    "    print(f'    Minimum: {min(accuracy_scores)}')\n",
    "    print(f'    Maximum: {max(accuracy_scores)}')\n",
    "    print(f'    Standardabweichung: {np.std(accuracy_scores)}')\n",
    "    print(f'Insgesamt {len(df)} Einträge im Dataframe.')\n",
    "\n",
    "    # Histogramm zu Genauigkeiten plotten\n",
    "    plt.hist(accuracy_scores, bins=10, edgecolor='black')\n",
    "    plt.xlabel('Genauigkeit')\n",
    "    plt.ylabel('Häufigkeit')\n",
    "    plt.title(f'Verteilung der Genauigkeiten über {len(accuracy_scores)} Läufe')\n",
    "    plt.show()\n",
    "\n",
    "    # Klassifikator auf alle verfügbaren Daten trainieren, damit Permutationswichtigkeit bestimmt werden kann.\n",
    "    classifier.fit(X, y)\n",
    "\n",
    "    # Bestimmung der Permutationswichtigkeit\n",
    "    permutation_importance_list = permutation_importance(classifier, X, y, n_repeats=10)\n",
    "    most_important_features = sorted(list(zip(features, permutation_importance_list.importances_mean)), key = lambda x: x[1])\n",
    "\n",
    "    powerlaw_xmin_tuple = [tuple for tuple in most_important_features if tuple[0] == 'powerlaw_xmin_value']\n",
    "    print(f'Platzierung von powerlaw_xmin_value: {most_important_features.index(powerlaw_xmin_tuple)}')\n",
    "\n",
    "    print(f\"Die zwei wichtigsten Metriken: {most_important_features}\")\n",
    "    print(f\"\\n\\n\")\n"
   ],
   "id": "initial_id",
   "outputs": [
    {
     "name": "stdout",
     "output_type": "stream",
     "text": [
      "Testdaten-Anteil: 0.25\n",
      "Unterschiedliche Aufteilungen der Daten: 400\n",
      "Genauigkeit: \n",
      "    Durchschnitt: 0.2572058823529412\n",
      "    Minimum: 0.0\n",
      "    Maximum: 0.7647058823529411\n",
      "    Standardabweichung: 0.10651353943534589\n",
      "Insgesamt 68 Einträge im Dataframe.\n"
     ]
    },
    {
     "data": {
      "text/plain": [
       "<Figure size 640x480 with 1 Axes>"
      ],
      "image/png": "[encoded data removed]"
     },
     "metadata": {},
     "output_type": "display_data"
    },
    {
     "ename": "ValueError",
     "evalue": "[('powerlaw_xmin_value', -0.05441176470588236)] is not in list",
     "output_type": "error",
     "traceback": [
      "\u001B[0;31m---------------------------------------------------------------------------\u001B[0m",
      "\u001B[0;31mValueError\u001B[0m                                Traceback (most recent call last)",
      "Cell \u001B[0;32mIn[43], line 45\u001B[0m\n\u001B[1;32m     42\u001B[0m most_important_features \u001B[38;5;241m=\u001B[39m \u001B[38;5;28msorted\u001B[39m(\u001B[38;5;28mlist\u001B[39m(\u001B[38;5;28mzip\u001B[39m(features, permutation_importance_list\u001B[38;5;241m.\u001B[39mimportances_mean)), key \u001B[38;5;241m=\u001B[39m \u001B[38;5;28;01mlambda\u001B[39;00m x: x[\u001B[38;5;241m1\u001B[39m])\n\u001B[1;32m     44\u001B[0m powerlaw_xmin_tuple \u001B[38;5;241m=\u001B[39m [\u001B[38;5;28mtuple\u001B[39m \u001B[38;5;28;01mfor\u001B[39;00m \u001B[38;5;28mtuple\u001B[39m \u001B[38;5;129;01min\u001B[39;00m most_important_features \u001B[38;5;28;01mif\u001B[39;00m \u001B[38;5;28mtuple\u001B[39m[\u001B[38;5;241m0\u001B[39m] \u001B[38;5;241m==\u001B[39m \u001B[38;5;124m'\u001B[39m\u001B[38;5;124mpowerlaw_xmin_value\u001B[39m\u001B[38;5;124m'\u001B[39m]\n\u001B[0;32m---> 45\u001B[0m \u001B[38;5;28mprint\u001B[39m(\u001B[38;5;124mf\u001B[39m\u001B[38;5;124m'\u001B[39m\u001B[38;5;124mPlatzierung von powerlaw_xmin_value: \u001B[39m\u001B[38;5;132;01m{\u001B[39;00mmost_important_features\u001B[38;5;241m.\u001B[39mindex(powerlaw_xmin_tuple)\u001B[38;5;132;01m}\u001B[39;00m\u001B[38;5;124m'\u001B[39m)\n\u001B[1;32m     47\u001B[0m \u001B[38;5;28mprint\u001B[39m(\u001B[38;5;124mf\u001B[39m\u001B[38;5;124m\"\u001B[39m\u001B[38;5;124mDie zwei wichtigsten Metriken: \u001B[39m\u001B[38;5;132;01m{\u001B[39;00mmost_important_features\u001B[38;5;132;01m}\u001B[39;00m\u001B[38;5;124m\"\u001B[39m)\n\u001B[1;32m     48\u001B[0m \u001B[38;5;28mprint\u001B[39m(\u001B[38;5;124mf\u001B[39m\u001B[38;5;124m\"\u001B[39m\u001B[38;5;130;01m\\n\u001B[39;00m\u001B[38;5;130;01m\\n\u001B[39;00m\u001B[38;5;124m\"\u001B[39m)\n",
      "\u001B[0;31mValueError\u001B[0m: [('powerlaw_xmin_value', -0.05441176470588236)] is not in list"
     ]
    }
   ],
   "execution_count": 43
  }
 ],
 "metadata": {
  "kernelspec": {
   "display_name": "Python 3",
   "language": "python",
   "name": "python3"
  },
  "language_info": {
   "codemirror_mode": {
    "name": "ipython",
    "version": 2
   },
   "file_extension": ".py",
   "mimetype": "text/x-python",
   "name": "python",
   "nbconvert_exporter": "python",
   "pygments_lexer": "ipython2",
   "version": "2.7.6"
  }
 },
 "nbformat": 4,
 "nbformat_minor": 5
}
