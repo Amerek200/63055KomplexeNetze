{
 "cells": [
  {
   "cell_type": "code",
   "execution_count": 5,
   "id": "afa551de",
   "metadata": {},
   "outputs": [],
   "source": [
    "import sys\n",
    "sys.path.append(\"..\") #to access helper\n",
    "\n",
    "import numpy as np\n",
    "import powerlaw\n",
    "import networkx as nx\n",
    "import matplotlib.pyplot as plt\n",
    "\n",
    "from helper import file_preprocesser, graph_analyzer"
   ]
  },
  {
   "cell_type": "code",
   "execution_count": 22,
   "id": "ca5fbfbb",
   "metadata": {},
   "outputs": [],
   "source": [
    "def find_word_regiment_candidates_grouped(deg_prob_dict, start=0, stop=0, step=1, max_diff=5):\n",
    "    bucket_dict = group_by_power_of_two(deg_prob_dict)\n",
    "    sorted_tuple_list = [(bucket, bucket_dict[bucket]) for bucket in sorted(bucket_dict.keys())]\n",
    "    res = dict()\n",
    "\n",
    "    for i in range(start, stop if stop != 0 else len(sorted_tuple_list), step):\n",
    "        left = sorted_tuple_list[start:i]\n",
    "        right = sorted_tuple_list[i:]\n",
    "        probs_left = [t[1] for t in left]\n",
    "        probs_right = [t[1] for t in right]\n",
    "        try:\n",
    "            powerlaw_left = powerlaw.Fit(probs_left, xmin = min(probs_left) )\n",
    "            powerlaw_right = powerlaw.Fit(probs_right, xmin= (min(probs_right)))\n",
    "            #if np.isinf(powerlaw_left.alpha) or np.isinf(powerlaw_right.alpha): continue #doenst work ,,,\n",
    "            res[i] = { \"left\": powerlaw_left.alpha, \"right\": powerlaw_right.alpha}\n",
    "        except Exception as e:\n",
    "            print(f\"Skipping {i} due to error: {e}\")\n",
    "            continue\n",
    "\n",
    "    #sort by difference between left-right regmiment, desc\n",
    "    res = dict(filter(lambda item: abs(item[1][\"left\"] - item[1][\"right\"]) <= max_diff, res.items()))\n",
    "    res = dict(sorted(\n",
    "        res.items(), \n",
    "        key=lambda item: abs(item[1][\"left\"] - item[1][\"right\"]),\n",
    "        reverse=True\n",
    "        ))\n",
    "    return res\n",
    "\n",
    "def group_by_power_of_two(deg_prob_dict):\n",
    "    max_deg = max(deg_prob_dict.keys())\n",
    "    #create neccessary buckets\n",
    "    bucket_dict = dict()\n",
    "    i = 0 #small world of human language starts at 2. (no 2^0=1), but this clashes with the largest power <= deg binning method.\n",
    "    while 2**i < max_deg:\n",
    "        bucket_dict[2**i] = 0\n",
    "        i += 1\n",
    "    print(str.format(\"Anzahl der Knotengrade: {0}, max degree: {1}, Anzahl Buckets: {2}\", len(deg_prob_dict), max_deg, len(bucket_dict)))\n",
    "    #fill buckets, not sure by which method papers groups so we take largest power of two <= deg\n",
    "    for deg, prob in deg_prob_dict.items():\n",
    "        bucket = 2 ** int(np.floor(np.log2(deg)))\n",
    "        #print(str.format(\"deg: {0}, bin: {1}\", deg, bucket))\n",
    "        bucket_dict[bucket] = bucket_dict[bucket] + prob\n",
    "    return bucket_dict\n",
    "\t\n",
    "def get_deg_probability_dict(graph):\n",
    "    deg_frequency_list = np.array(nx.degree_histogram(graph))\n",
    "    total_nodes = graph.order()\n",
    "    res = {}\n",
    "    for deg in range(len(deg_frequency_list)):\n",
    "        if deg_frequency_list[deg] == 0: continue\n",
    "        else:\n",
    "            res[deg] = deg_frequency_list[deg] / total_nodes\n",
    "    return res\n",
    "\n",
    "#Visualisierung\n",
    "def grouped_deg_prob_scatter_plot(grouped_dict):\n",
    "    x = np.array(list(grouped_dict.keys()), dtype=int) #degree buckets\n",
    "    y = np.array(list(grouped_dict.values()),dtype=float) #prob values\n",
    "    plt.scatter(x, y)\n",
    "    plt.xscale(\"log\")\n",
    "    plt.yscale(\"log\")\n",
    "    plt.xlabel(\"deg\")\n",
    "    plt.ylabel(\"p(deg)\")\n",
    "    plt.grid(True)\n",
    "    plt.show()"
   ]
  },
  {
   "cell_type": "markdown",
   "id": "35d5f7b2",
   "metadata": {},
   "source": [
    "### Graph erzeugen"
   ]
  },
  {
   "cell_type": "code",
   "execution_count": 7,
   "id": "e0764bd4",
   "metadata": {},
   "outputs": [],
   "source": [
    "with open(\"../data/input/ALL_ALLmitMann_de.txt\") as f:\n",
    "    text = \" \".join(f.readlines())\n",
    "tokens = file_preprocesser.prepare_text_with_libraries(text, remove_stopwords=False, language=\"de\")\n",
    "G = file_preprocesser.convert_preprocessed_tokens_to_graph(tokens, neighbour_distance=1)"
   ]
  },
  {
   "cell_type": "markdown",
   "id": "a4275b6a",
   "metadata": {},
   "source": [
    "## Gruppierung und mögliche Trennungen"
   ]
  },
  {
   "cell_type": "code",
   "execution_count": 23,
   "id": "36aa145d",
   "metadata": {},
   "outputs": [],
   "source": [
    "deg_prob_dict = get_deg_probability_dict(G)\n"
   ]
  },
  {
   "cell_type": "code",
   "execution_count": 25,
   "id": "ed34f94a",
   "metadata": {},
   "outputs": [
    {
     "name": "stdout",
     "output_type": "stream",
     "text": [
      "Anzahl der Knotengrade: 712, max degree: 40226, Anzahl Buckets: 16\n",
      "Skipping 0 due to error: min() iterable argument is empty\n",
      "Trennung bei Bucket Nr.: 14 mit Wert 16384 -> links: 1.2082 / rechts: 2.8205\n",
      "Trennung bei Bucket Nr.: 13 mit Wert 8192 -> links: 1.2520 / rechts: 2.0379\n",
      "Trennung bei Bucket Nr.: 7 mit Wert 128 -> links: 1.8162 / rechts: 1.2819\n",
      "Trennung bei Bucket Nr.: 6 mit Wert 64 -> links: 1.7384 / rechts: 1.2533\n",
      "Trennung bei Bucket Nr.: 2 mit Wert 4 -> links: 1.6163 / rechts: 1.1869\n",
      "Trennung bei Bucket Nr.: 5 mit Wert 32 -> links: 1.6519 / rechts: 1.2312\n",
      "Trennung bei Bucket Nr.: 12 mit Wert 4096 -> links: 1.2829 / rechts: 1.6796\n",
      "Trennung bei Bucket Nr.: 4 mit Wert 16 -> links: 1.5907 / rechts: 1.2139\n",
      "Trennung bei Bucket Nr.: 3 mit Wert 8 -> links: 1.5610 / rechts: 1.1995\n",
      "Trennung bei Bucket Nr.: 8 mit Wert 256 -> links: 1.6018 / rechts: 1.3195\n",
      "Trennung bei Bucket Nr.: 11 mit Wert 2048 -> links: 1.2956 / rechts: 1.5183\n",
      "Trennung bei Bucket Nr.: 9 mit Wert 512 -> links: 1.4501 / rechts: 1.3687\n",
      "Trennung bei Bucket Nr.: 10 mit Wert 1024 -> links: 1.3510 / rechts: 1.4322\n"
     ]
    },
    {
     "name": "stderr",
     "output_type": "stream",
     "text": [
      "Not enough data. Returning nan\n",
      "Not enough data. Returning nan\n"
     ]
    }
   ],
   "source": [
    "regiment_candidates = find_word_regiment_candidates_grouped(deg_prob_dict, max_diff=10)\n",
    "for split_at, vals in regiment_candidates.items():\n",
    "    print(str.format(\"Trennung bei Bucket Nr.: {0} mit Wert {1} -> links: {2:.4f} / rechts: {3:.4f}\", \n",
    "                     split_at, 2**split_at, vals[\"left\"], vals[\"right\"]))"
   ]
  },
  {
   "cell_type": "code",
   "execution_count": 20,
   "id": "e6a0c87b",
   "metadata": {},
   "outputs": [
    {
     "name": "stdout",
     "output_type": "stream",
     "text": [
      "max degree: 40226, Anzahl Buckets: 16\n",
      "Skipping 1 due to error: min() iterable argument is empty\n",
      "Trennung bei Bucket Nr.: 14 mit Wert 16384 -> links: 1.2117 / rechts: 2.8205\n",
      "Trennung bei Bucket Nr.: 3 mit Wert 8 -> links: 2.7501 / rechts: 1.1995\n",
      "Trennung bei Bucket Nr.: 4 mit Wert 16 -> links: 2.1992 / rechts: 1.2139\n",
      "Trennung bei Bucket Nr.: 13 mit Wert 8192 -> links: 1.2556 / rechts: 2.0379\n",
      "Trennung bei Bucket Nr.: 5 mit Wert 32 -> links: 1.9814 / rechts: 1.2312\n",
      "Trennung bei Bucket Nr.: 6 mit Wert 64 -> links: 1.8550 / rechts: 1.2533\n",
      "Trennung bei Bucket Nr.: 7 mit Wert 128 -> links: 1.7058 / rechts: 1.2819\n",
      "Trennung bei Bucket Nr.: 12 mit Wert 4096 -> links: 1.2854 / rechts: 1.6796\n",
      "Trennung bei Bucket Nr.: 8 mit Wert 256 -> links: 1.5580 / rechts: 1.3195\n",
      "Trennung bei Bucket Nr.: 11 mit Wert 2048 -> links: 1.2958 / rechts: 1.5183\n",
      "Trennung bei Bucket Nr.: 10 mit Wert 1024 -> links: 1.3467 / rechts: 1.4322\n",
      "Trennung bei Bucket Nr.: 9 mit Wert 512 -> links: 1.4345 / rechts: 1.3687\n"
     ]
    },
    {
     "name": "stderr",
     "output_type": "stream",
     "text": [
      "/home/sebastian/Programming/Python/venvs/komplNetzeVenv/lib/python3.12/site-packages/powerlaw.py:1151: RuntimeWarning: divide by zero encountered in scalar divide\n",
      "  self.alpha = 1 + (self.n / sum(log(data/self.xmin)))\n",
      "Not enough data. Returning nan\n",
      "Not enough data. Returning nan\n"
     ]
    }
   ],
   "source": [
    "regiment_candidates = find_word_regiment_candidates_grouped(deg_prob_dict, start=1, max_diff=10)\n",
    "for split_at, vals in regiment_candidates.items():\n",
    "    print(str.format(\"Trennung bei Bucket Nr.: {0} mit Wert {1} -> links: {2:.4f} / rechts: {3:.4f}\", \n",
    "                     split_at, 2**split_at, vals[\"left\"], vals[\"right\"]))"
   ]
  },
  {
   "cell_type": "code",
   "execution_count": 16,
   "id": "bc0d913d",
   "metadata": {},
   "outputs": [
    {
     "name": "stdout",
     "output_type": "stream",
     "text": [
      "max degree: 40226, Anzahl Buckets: 16\n"
     ]
    },
    {
     "data": {
      "image/png": "[encoded data removed]",
      "text/plain": [
       "<Figure size 640x480 with 1 Axes>"
      ]
     },
     "metadata": {},
     "output_type": "display_data"
    }
   ],
   "source": [
    "grouped_deg_prob_scatter_plot(group_by_power_of_two(get_deg_probability_dict(G)))"
   ]
  },
  {
   "cell_type": "code",
   "execution_count": null,
   "id": "cfd834cf",
   "metadata": {},
   "outputs": [],
   "source": []
  }
 ],
 "metadata": {
  "kernelspec": {
   "display_name": "komplNetzeVenv",
   "language": "python",
   "name": "python3"
  },
  "language_info": {
   "codemirror_mode": {
    "name": "ipython",
    "version": 3
   },
   "file_extension": ".py",
   "mimetype": "text/x-python",
   "name": "python",
   "nbconvert_exporter": "python",
   "pygments_lexer": "ipython3",
   "version": "3.12.3"
  }
 },
 "nbformat": 4,
 "nbformat_minor": 5
}
