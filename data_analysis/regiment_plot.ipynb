{
 "cells": [
  {
   "cell_type": "code",
   "execution_count": 1,
   "id": "afa551de",
   "metadata": {},
   "outputs": [
    {
     "name": "stdout",
     "output_type": "stream",
     "text": [
      "/home/sebastian/OneDrive/Dokumente/FernUni/Komplexe Netze/Code/data_analysis\n"
     ]
    }
   ],
   "source": [
    "import os\n",
    "import sys\n",
    "print(os.getcwd())\n",
    "# Add project root (one level up from data_analysis) to sys.path\n",
    "sys.path.append(os.path.abspath('..'))\n",
    "\n",
    "import numpy as np\n",
    "import powerlaw\n",
    "import networkx as nx\n",
    "import matplotlib.pyplot as plt\n",
    "\n",
    "from helper import graph_analyzer, file_preprocesser"
   ]
  },
  {
   "cell_type": "code",
   "execution_count": 7,
   "id": "ca5fbfbb",
   "metadata": {},
   "outputs": [],
   "source": [
    "def find_word_regiment_candidates_grouped(deg_prob_dict, start=0, stop=0, step=1, max_diff=5, group_method=\"lower\"):\n",
    "    bucket_dict = group_by_power_of_two(deg_prob_dict, group_method=group_method)\n",
    "    sorted_tuple_list = [(bucket, bucket_dict[bucket]) for bucket in sorted(bucket_dict.keys())]\n",
    "    res = dict()\n",
    "\n",
    "    for i in range(start, stop if stop != 0 else len(sorted_tuple_list)-1, step):\n",
    "        #vielleicht den Schnittpunkt in beide Berechnungen mit aufnehmen?\n",
    "        left = sorted_tuple_list[start:i+1]\n",
    "        right = sorted_tuple_list[i:]\n",
    "        probs_left = [t[1] for t in left]\n",
    "        probs_right = [t[1] for t in right]\n",
    "        try:\n",
    "            powerlaw_left = powerlaw.Fit(probs_left, xmin = min(probs_left) )\n",
    "            powerlaw_right = powerlaw.Fit(probs_right, xmin= (min(probs_right)))\n",
    "            #if np.isinf(powerlaw_left.alpha) or np.isinf(powerlaw_right.alpha): continue #doenst work ,,,\n",
    "            res[i] = { \"left\": powerlaw_left.alpha, \"right\": powerlaw_right.alpha}\n",
    "        except Exception as e:\n",
    "            print(f\"Skipping {i} due to error: {e}\")\n",
    "            continue\n",
    "\n",
    "    #sort by difference between left-right regmiment, desc\n",
    "    res = dict(filter(lambda item: abs(item[1][\"left\"] - item[1][\"right\"]) <= max_diff, res.items()))\n",
    "    res = dict(sorted(\n",
    "        res.items(), \n",
    "        key=lambda item: abs(item[1][\"left\"] - item[1][\"right\"]),\n",
    "        reverse=True\n",
    "        ))\n",
    "    return res\n",
    "\n",
    "def group_by_power_of_two(deg_prob_dict, group_method=\"lower\"):\n",
    "    max_deg = max(deg_prob_dict.keys())\n",
    "    bucket_dict = dict()\n",
    "    for deg, prob in deg_prob_dict.items():\n",
    "        if group_method == \"lower\":\n",
    "            bucket = 2 ** int(np.floor(np.log2(deg)))\n",
    "        elif group_method == \"upper\":\n",
    "            bucket = 2 ** int(np.ceil(np.log2(deg)))\n",
    "        #print(str.format(\"deg: {0}, bin: {1}\", deg, bucket))\n",
    "        if bucket not in bucket_dict:\n",
    "            bucket_dict[bucket] = prob\n",
    "        else:\n",
    "            bucket_dict[bucket] = bucket_dict[bucket] + prob\n",
    "    print(str.format(\"Anzahl der Knotengrade: {0}, max degree: {1}, Anzahl Buckets: {2}\", len(deg_prob_dict), max_deg, len(bucket_dict)))\n",
    "    return bucket_dict\n",
    "\t\n",
    "def get_deg_probability_dict(graph):\n",
    "    deg_frequency_list = np.array(nx.degree_histogram(graph))\n",
    "    total_nodes = graph.order()\n",
    "    res = {}\n",
    "    for deg in range(len(deg_frequency_list)):\n",
    "        if deg_frequency_list[deg] == 0: continue\n",
    "        else:\n",
    "            res[deg] = deg_frequency_list[deg] / total_nodes\n",
    "    return res\n",
    "\n",
    "def get_node_count_per_bucket(G: nx.Graph, grouped_dict ,group_method=\"lower\"):\n",
    "    deg_hist = np.array(nx.degree_histogram(G))\n",
    "    res = dict.fromkeys(grouped_dict, 0)\n",
    "    print(deg_hist)\n",
    "    for deg in range(len(deg_hist)):\n",
    "        if deg_hist[deg] == 0: continue\n",
    "        if group_method == \"lower\":\n",
    "            bucket = 2 ** int(np.floor(np.log2(deg)))\n",
    "        elif group_method == \"upper\":\n",
    "            bucket = 2 ** int(np.ceil(np.log2(deg)))\n",
    "        res[bucket] = res[bucket] + deg_hist[deg]\n",
    "    return res\n",
    "\n",
    "#Visualisierung\n",
    "def grouped_deg_prob_scatter_plot(grouped_dict):\n",
    "    x = np.array(list(grouped_dict.keys()), dtype=int) #degree buckets\n",
    "    y = np.array(list(grouped_dict.values()),dtype=float) #prob values\n",
    "    plt.scatter(x, y)\n",
    "    plt.xscale(\"log\")\n",
    "    plt.yscale(\"log\")\n",
    "    plt.xlabel(\"deg\")\n",
    "    plt.ylabel(\"p(deg)\")\n",
    "    plt.grid(True)\n",
    "    plt.show()"
   ]
  },
  {
   "cell_type": "markdown",
   "id": "35d5f7b2",
   "metadata": {},
   "source": [
    "## Gruppierung und mögliche Trennungen, Link Distance 2"
   ]
  },
  {
   "cell_type": "code",
   "execution_count": 3,
   "id": "e0764bd4",
   "metadata": {},
   "outputs": [],
   "source": [
    "with open(\"../data/input/ALL_ALLmitMann_de.txt\") as f:\n",
    "    text = \" \".join(f.readlines())\n",
    "tokens = file_preprocesser.prepare_text_with_libraries(text, remove_stopwords=False, language=\"de\")\n",
    "G = file_preprocesser.convert_preprocessed_tokens_to_graph(tokens, neighbour_distance=2)"
   ]
  },
  {
   "cell_type": "markdown",
   "id": "a4275b6a",
   "metadata": {},
   "source": []
  },
  {
   "cell_type": "code",
   "execution_count": 5,
   "id": "36aa145d",
   "metadata": {},
   "outputs": [
    {
     "name": "stdout",
     "output_type": "stream",
     "text": [
      "92862\n",
      "1535363\n"
     ]
    }
   ],
   "source": [
    "print(G.order())\n",
    "print(len(G.edges()))\n",
    "deg_prob_dict = get_deg_probability_dict(G)"
   ]
  },
  {
   "cell_type": "code",
   "execution_count": 8,
   "id": "ed34f94a",
   "metadata": {},
   "outputs": [
    {
     "name": "stdout",
     "output_type": "stream",
     "text": [
      "Anzahl der Knotengrade: 1029, max degree: 53890, Anzahl Buckets: 16\n",
      "Trennung bei Bucket Nr.: 14 mit Wert 16384 -> links: 1.1822 / rechts: 5.9326\n",
      "Trennung bei Bucket Nr.: 4 mit Wert 16 -> links: 2.2090 / rechts: 1.2166\n",
      "Trennung bei Bucket Nr.: 5 mit Wert 32 -> links: 2.2224 / rechts: 1.2335\n",
      "Trennung bei Bucket Nr.: 13 mit Wert 8192 -> links: 1.2552 / rechts: 2.0701\n",
      "Trennung bei Bucket Nr.: 3 mit Wert 8 -> links: 1.9879 / rechts: 1.2021\n",
      "Trennung bei Bucket Nr.: 2 mit Wert 4 -> links: 1.9377 / rechts: 1.1879\n",
      "Trennung bei Bucket Nr.: 6 mit Wert 64 -> links: 1.9482 / rechts: 1.2546\n",
      "Trennung bei Bucket Nr.: 12 mit Wert 4096 -> links: 1.2604 / rechts: 1.7134\n",
      "Trennung bei Bucket Nr.: 7 mit Wert 128 -> links: 1.7308 / rechts: 1.2823\n",
      "Trennung bei Bucket Nr.: 11 mit Wert 2048 -> links: 1.2957 / rechts: 1.5424\n",
      "Trennung bei Bucket Nr.: 8 mit Wert 256 -> links: 1.5521 / rechts: 1.3195\n",
      "Trennung bei Bucket Nr.: 10 mit Wert 1024 -> links: 1.3391 / rechts: 1.4412\n",
      "Trennung bei Bucket Nr.: 9 mit Wert 512 -> links: 1.4241 / rechts: 1.3704\n"
     ]
    },
    {
     "name": "stderr",
     "output_type": "stream",
     "text": [
      "Not enough data. Returning nan\n"
     ]
    }
   ],
   "source": [
    "regiment_candidates = find_word_regiment_candidates_grouped(deg_prob_dict, max_diff=10, start=1, group_method=\"lower\")\n",
    "for split_at, vals in regiment_candidates.items():\n",
    "    print(str.format(\"Trennung bei Bucket Nr.: {0} mit Wert {1} -> links: {2:.4f} / rechts: {3:.4f}\", \n",
    "                     split_at, 2**split_at, vals[\"left\"], vals[\"right\"]))"
   ]
  },
  {
   "cell_type": "code",
   "execution_count": 62,
   "id": "e6a0c87b",
   "metadata": {},
   "outputs": [
    {
     "name": "stdout",
     "output_type": "stream",
     "text": [
      "Anzahl der Knotengrade: 1029, max degree: 53890, Anzahl Buckets: 17\n",
      "Trennung bei Bucket Nr.: 15 mit Wert 32768 -> links: 1.1848 / rechts: 5.9326\n",
      "Trennung bei Bucket Nr.: 14 mit Wert 16384 -> links: 1.2628 / rechts: 2.0701\n",
      "Trennung bei Bucket Nr.: 13 mit Wert 8192 -> links: 1.2708 / rechts: 1.7134\n",
      "Trennung bei Bucket Nr.: 12 mit Wert 4096 -> links: 1.3132 / rechts: 1.5424\n",
      "Trennung bei Bucket Nr.: 2 mit Wert 4 -> links: 1.3583 / rechts: 1.1814\n",
      "Trennung bei Bucket Nr.: 3 mit Wert 8 -> links: 1.3069 / rechts: 1.1930\n",
      "Trennung bei Bucket Nr.: 4 mit Wert 16 -> links: 1.2905 / rechts: 1.2038\n",
      "Trennung bei Bucket Nr.: 11 mit Wert 2048 -> links: 1.3687 / rechts: 1.4412\n",
      "Trennung bei Bucket Nr.: 5 mit Wert 32 -> links: 1.2868 / rechts: 1.2172\n",
      "Trennung bei Bucket Nr.: 6 mit Wert 64 -> links: 1.2903 / rechts: 1.2339\n",
      "Trennung bei Bucket Nr.: 7 mit Wert 128 -> links: 1.2982 / rechts: 1.2549\n",
      "Trennung bei Bucket Nr.: 8 mit Wert 256 -> links: 1.3107 / rechts: 1.2825\n",
      "Trennung bei Bucket Nr.: 10 mit Wert 1024 -> links: 1.3564 / rechts: 1.3705\n",
      "Trennung bei Bucket Nr.: 9 mit Wert 512 -> links: 1.3294 / rechts: 1.3196\n"
     ]
    },
    {
     "name": "stderr",
     "output_type": "stream",
     "text": [
      "Not enough data. Returning nan\n"
     ]
    }
   ],
   "source": [
    "regiment_candidates = find_word_regiment_candidates_grouped(deg_prob_dict, max_diff=10, start=1, group_method=\"upper\")\n",
    "for split_at, vals in regiment_candidates.items():\n",
    "    print(str.format(\"Trennung bei Bucket Nr.: {0} mit Wert {1} -> links: {2:.4f} / rechts: {3:.4f}\", \n",
    "                     split_at, 2**split_at, vals[\"left\"], vals[\"right\"]))"
   ]
  },
  {
   "cell_type": "code",
   "execution_count": 57,
   "id": "bc0d913d",
   "metadata": {},
   "outputs": [
    {
     "name": "stdout",
     "output_type": "stream",
     "text": [
      "Anzahl der Knotengrade: 1029, max degree: 53890, Anzahl Buckets: 16\n"
     ]
    },
    {
     "data": {
      "image/png": "[encoded data removed]",
      "text/plain": [
       "<Figure size 640x480 with 1 Axes>"
      ]
     },
     "metadata": {},
     "output_type": "display_data"
    }
   ],
   "source": [
    "grouped_deg_prob_scatter_plot(group_by_power_of_two(get_deg_probability_dict(G), group_method=\"lower\"))"
   ]
  },
  {
   "cell_type": "code",
   "execution_count": 58,
   "id": "ead77d82",
   "metadata": {},
   "outputs": [
    {
     "name": "stdout",
     "output_type": "stream",
     "text": [
      "Anzahl der Knotengrade: 1029, max degree: 53890, Anzahl Buckets: 17\n"
     ]
    },
    {
     "data": {
      "image/png": "[encoded data removed]",
      "text/plain": [
       "<Figure size 640x480 with 1 Axes>"
      ]
     },
     "metadata": {},
     "output_type": "display_data"
    }
   ],
   "source": [
    "grouped_deg_prob_scatter_plot(group_by_power_of_two(get_deg_probability_dict(G), group_method=\"upper\"))"
   ]
  },
  {
   "cell_type": "code",
   "execution_count": 21,
   "id": "85e925fc",
   "metadata": {},
   "outputs": [
    {
     "name": "stdout",
     "output_type": "stream",
     "text": [
      "[40226]\n"
     ]
    }
   ],
   "source": [
    "deg_prob_dict = get_deg_probability_dict(G)\n",
    "lastBucket = [k for k in deg_prob_dict.keys() if k > 32768]\n",
    "print(lastBucket)"
   ]
  },
  {
   "cell_type": "code",
   "execution_count": 55,
   "id": "4db5f5e8",
   "metadata": {},
   "outputs": [
    {
     "name": "stdout",
     "output_type": "stream",
     "text": [
      "Anzahl der Knotengrade: 1029, max degree: 53890, Anzahl Buckets: 16\n",
      "[  0   1 191 ...   0   0   1]\n",
      "bucket: 1, count: 1\n",
      "bucket: 2, count: 6134\n",
      "bucket: 4, count: 51760\n",
      "bucket: 8, count: 15145\n",
      "bucket: 16, count: 8051\n",
      "bucket: 32, count: 5045\n",
      "bucket: 64, count: 3225\n",
      "bucket: 128, count: 1876\n",
      "bucket: 256, count: 930\n",
      "bucket: 512, count: 401\n",
      "bucket: 1024, count: 160\n",
      "bucket: 2048, count: 74\n",
      "bucket: 4096, count: 33\n",
      "bucket: 8192, count: 22\n",
      "bucket: 16384, count: 3\n",
      "bucket: 32768, count: 2\n"
     ]
    }
   ],
   "source": [
    "deg_prob_dict = get_deg_probability_dict(G)\n",
    "grouped = group_by_power_of_two(deg_prob_dict, group_method=\"lower\")\n",
    "node_count_per_bucket = get_node_count_per_bucket(G, grouped, group_method=\"lower\")\n",
    "for k, v in node_count_per_bucket.items():\n",
    "    print(str.format(\"bucket: {0}, count: {1}\", k, v))"
   ]
  },
  {
   "cell_type": "code",
   "execution_count": 56,
   "id": "7f9cf285",
   "metadata": {},
   "outputs": [
    {
     "name": "stdout",
     "output_type": "stream",
     "text": [
      "Anzahl der Knotengrade: 1029, max degree: 53890, Anzahl Buckets: 17\n",
      "[  0   1 191 ...   0   0   1]\n",
      "bucket: 1, count: 1\n",
      "bucket: 2, count: 191\n",
      "bucket: 4, count: 50711\n",
      "bucket: 8, count: 12637\n",
      "bucket: 16, count: 10376\n",
      "bucket: 32, count: 7456\n",
      "bucket: 64, count: 4868\n",
      "bucket: 128, count: 3153\n",
      "bucket: 256, count: 1852\n",
      "bucket: 512, count: 924\n",
      "bucket: 1024, count: 399\n",
      "bucket: 2048, count: 160\n",
      "bucket: 4096, count: 74\n",
      "bucket: 8192, count: 33\n",
      "bucket: 16384, count: 22\n",
      "bucket: 32768, count: 3\n",
      "bucket: 65536, count: 2\n"
     ]
    }
   ],
   "source": [
    "deg_prob_dict = get_deg_probability_dict(G)\n",
    "grouped = group_by_power_of_two(deg_prob_dict, group_method=\"upper\")\n",
    "node_count_per_bucket = get_node_count_per_bucket(G, grouped, group_method=\"upper\")\n",
    "for k, v in node_count_per_bucket.items():\n",
    "    print(str.format(\"bucket: {0}, count: {1}\", k, v))"
   ]
  },
  {
   "cell_type": "code",
   "execution_count": null,
   "id": "cc14592e",
   "metadata": {},
   "outputs": [
    {
     "name": "stdout",
     "output_type": "stream",
     "text": [
      "True\n"
     ]
    }
   ],
   "source": [
    "#sanity check\n",
    "sum = 0\n",
    "for v in node_count_per_bucket.values():\n",
    "    sum += v\n",
    "\n",
    "print(sum == G.order())"
   ]
  },
  {
   "cell_type": "markdown",
   "id": "5a6c6762",
   "metadata": {},
   "source": [
    "## Gruppierung und mögliche Trennungen, Link Distance 1"
   ]
  },
  {
   "cell_type": "code",
   "execution_count": 9,
   "id": "9e88a1a4",
   "metadata": {},
   "outputs": [],
   "source": [
    "with open(\"../data/input/ALL_ALLmitMann_de.txt\") as f:\n",
    "    text = \" \".join(f.readlines())\n",
    "tokens = file_preprocesser.prepare_text_with_libraries(text, remove_stopwords=False, language=\"de\")\n",
    "G = file_preprocesser.convert_preprocessed_tokens_to_graph(tokens, neighbour_distance=1)"
   ]
  },
  {
   "cell_type": "code",
   "execution_count": 10,
   "id": "05e0b74d",
   "metadata": {},
   "outputs": [
    {
     "name": "stdout",
     "output_type": "stream",
     "text": [
      "92862\n",
      "821584\n"
     ]
    }
   ],
   "source": [
    "print(G.order())\n",
    "print(len(G.edges()))\n",
    "deg_prob_dict = get_deg_probability_dict(G)"
   ]
  },
  {
   "cell_type": "code",
   "execution_count": 11,
   "id": "77aed1eb",
   "metadata": {},
   "outputs": [
    {
     "name": "stdout",
     "output_type": "stream",
     "text": [
      "Anzahl der Knotengrade: 712, max degree: 40226, Anzahl Buckets: 16\n",
      "Trennung bei Bucket Nr.: 14 mit Wert 16384 -> links: 1.1949 / rechts: 2.8205\n",
      "Trennung bei Bucket Nr.: 13 mit Wert 8192 -> links: 1.2082 / rechts: 2.0379\n",
      "Trennung bei Bucket Nr.: 6 mit Wert 64 -> links: 1.8162 / rechts: 1.2533\n",
      "Trennung bei Bucket Nr.: 5 mit Wert 32 -> links: 1.7384 / rechts: 1.2312\n",
      "Trennung bei Bucket Nr.: 1 mit Wert 2 -> links: 1.6163 / rechts: 1.1748\n",
      "Trennung bei Bucket Nr.: 4 mit Wert 16 -> links: 1.6519 / rechts: 1.2139\n",
      "Trennung bei Bucket Nr.: 12 mit Wert 4096 -> links: 1.2520 / rechts: 1.6796\n",
      "Trennung bei Bucket Nr.: 3 mit Wert 8 -> links: 1.5907 / rechts: 1.1995\n",
      "Trennung bei Bucket Nr.: 2 mit Wert 4 -> links: 1.5610 / rechts: 1.1869\n",
      "Trennung bei Bucket Nr.: 7 mit Wert 128 -> links: 1.6018 / rechts: 1.2819\n",
      "Trennung bei Bucket Nr.: 11 mit Wert 2048 -> links: 1.2829 / rechts: 1.5183\n",
      "Trennung bei Bucket Nr.: 10 mit Wert 1024 -> links: 1.2956 / rechts: 1.4322\n",
      "Trennung bei Bucket Nr.: 8 mit Wert 256 -> links: 1.4501 / rechts: 1.3195\n",
      "Trennung bei Bucket Nr.: 9 mit Wert 512 -> links: 1.3510 / rechts: 1.3687\n"
     ]
    },
    {
     "name": "stderr",
     "output_type": "stream",
     "text": [
      "Not enough data. Returning nan\n"
     ]
    }
   ],
   "source": [
    "regiment_candidates = find_word_regiment_candidates_grouped(deg_prob_dict, max_diff=10, start=0, group_method=\"lower\")\n",
    "for split_at, vals in regiment_candidates.items():\n",
    "    print(str.format(\"Trennung bei Bucket Nr.: {0} mit Wert {1} -> links: {2:.4f} / rechts: {3:.4f}\", \n",
    "                     split_at, 2**split_at, vals[\"left\"], vals[\"right\"]))"
   ]
  },
  {
   "cell_type": "code",
   "execution_count": 12,
   "id": "a120ec6e",
   "metadata": {},
   "outputs": [
    {
     "name": "stdout",
     "output_type": "stream",
     "text": [
      "Anzahl der Knotengrade: 712, max degree: 40226, Anzahl Buckets: 17\n",
      "Trennung bei Bucket Nr.: 15 mit Wert 32768 -> links: 1.1897 / rechts: 2.8205\n",
      "Trennung bei Bucket Nr.: 14 mit Wert 16384 -> links: 1.2029 / rechts: 2.0379\n",
      "Trennung bei Bucket Nr.: 7 mit Wert 128 -> links: 1.8287 / rechts: 1.2536\n",
      "Trennung bei Bucket Nr.: 6 mit Wert 64 -> links: 1.7759 / rechts: 1.2317\n",
      "Trennung bei Bucket Nr.: 5 mit Wert 32 -> links: 1.6966 / rechts: 1.2145\n",
      "Trennung bei Bucket Nr.: 1 mit Wert 2 -> links: 1.6303 / rechts: 1.1697\n",
      "Trennung bei Bucket Nr.: 4 mit Wert 16 -> links: 1.6422 / rechts: 1.2006\n",
      "Trennung bei Bucket Nr.: 13 mit Wert 8192 -> links: 1.2453 / rechts: 1.6796\n",
      "Trennung bei Bucket Nr.: 3 mit Wert 8 -> links: 1.6093 / rechts: 1.1892\n",
      "Trennung bei Bucket Nr.: 2 mit Wert 4 -> links: 1.5994 / rechts: 1.1797\n",
      "Trennung bei Bucket Nr.: 8 mit Wert 256 -> links: 1.5991 / rechts: 1.2823\n",
      "Trennung bei Bucket Nr.: 12 mit Wert 4096 -> links: 1.2758 / rechts: 1.5183\n",
      "Trennung bei Bucket Nr.: 11 mit Wert 2048 -> links: 1.2883 / rechts: 1.4327\n",
      "Trennung bei Bucket Nr.: 9 mit Wert 512 -> links: 1.4441 / rechts: 1.3199\n",
      "Trennung bei Bucket Nr.: 10 mit Wert 1024 -> links: 1.3443 / rechts: 1.3691\n"
     ]
    },
    {
     "name": "stderr",
     "output_type": "stream",
     "text": [
      "Not enough data. Returning nan\n"
     ]
    }
   ],
   "source": [
    "regiment_candidates = find_word_regiment_candidates_grouped(deg_prob_dict, max_diff=10, start=0, group_method=\"upper\")\n",
    "for split_at, vals in regiment_candidates.items():\n",
    "    print(str.format(\"Trennung bei Bucket Nr.: {0} mit Wert {1} -> links: {2:.4f} / rechts: {3:.4f}\", \n",
    "                     split_at, 2**split_at, vals[\"left\"], vals[\"right\"]))"
   ]
  },
  {
   "cell_type": "code",
   "execution_count": 13,
   "id": "d438529d",
   "metadata": {},
   "outputs": [
    {
     "name": "stdout",
     "output_type": "stream",
     "text": [
      "Anzahl der Knotengrade: 712, max degree: 40226, Anzahl Buckets: 16\n"
     ]
    },
    {
     "data": {
      "image/png": "[encoded data removed]",
      "text/plain": [
       "<Figure size 640x480 with 1 Axes>"
      ]
     },
     "metadata": {},
     "output_type": "display_data"
    }
   ],
   "source": [
    "grouped_deg_prob_scatter_plot(group_by_power_of_two(get_deg_probability_dict(G), group_method=\"lower\"))"
   ]
  },
  {
   "cell_type": "code",
   "execution_count": 14,
   "id": "c6586be4",
   "metadata": {},
   "outputs": [
    {
     "name": "stdout",
     "output_type": "stream",
     "text": [
      "Anzahl der Knotengrade: 712, max degree: 40226, Anzahl Buckets: 17\n"
     ]
    },
    {
     "data": {
      "image/png": "[encoded data removed]",
      "text/plain": [
       "<Figure size 640x480 with 1 Axes>"
      ]
     },
     "metadata": {},
     "output_type": "display_data"
    }
   ],
   "source": [
    "grouped_deg_prob_scatter_plot(group_by_power_of_two(get_deg_probability_dict(G), group_method=\"upper\"))"
   ]
  },
  {
   "cell_type": "code",
   "execution_count": 15,
   "id": "a48ffca3",
   "metadata": {},
   "outputs": [
    {
     "name": "stdout",
     "output_type": "stream",
     "text": [
      "Anzahl der Knotengrade: 712, max degree: 40226, Anzahl Buckets: 16\n",
      "[    0  2073 49498 ...     0     0     1]\n",
      "bucket: 1, count: 2073\n",
      "bucket: 2, count: 53218\n",
      "bucket: 4, count: 16973\n",
      "bucket: 8, count: 8604\n",
      "bucket: 16, count: 5091\n",
      "bucket: 32, count: 3269\n",
      "bucket: 64, count: 1923\n",
      "bucket: 128, count: 980\n",
      "bucket: 256, count: 424\n",
      "bucket: 512, count: 165\n",
      "bucket: 1024, count: 69\n",
      "bucket: 2048, count: 43\n",
      "bucket: 4096, count: 20\n",
      "bucket: 8192, count: 6\n",
      "bucket: 16384, count: 3\n",
      "bucket: 32768, count: 1\n"
     ]
    }
   ],
   "source": [
    "deg_prob_dict = get_deg_probability_dict(G)\n",
    "grouped = group_by_power_of_two(deg_prob_dict, group_method=\"lower\")\n",
    "node_count_per_bucket = get_node_count_per_bucket(G, grouped, group_method=\"lower\")\n",
    "for k, v in node_count_per_bucket.items():\n",
    "    print(str.format(\"bucket: {0}, count: {1}\", k, v))"
   ]
  },
  {
   "cell_type": "code",
   "execution_count": 16,
   "id": "b4b19861",
   "metadata": {},
   "outputs": [
    {
     "name": "stdout",
     "output_type": "stream",
     "text": [
      "Anzahl der Knotengrade: 712, max degree: 40226, Anzahl Buckets: 17\n",
      "[    0  2073 49498 ...     0     0     1]\n",
      "bucket: 1, count: 2073\n",
      "bucket: 2, count: 49498\n",
      "bucket: 4, count: 12951\n",
      "bucket: 8, count: 9865\n",
      "bucket: 16, count: 7029\n",
      "bucket: 32, count: 4740\n",
      "bucket: 64, count: 3118\n",
      "bucket: 128, count: 1894\n",
      "bucket: 256, count: 968\n",
      "bucket: 512, count: 421\n",
      "bucket: 1024, count: 164\n",
      "bucket: 2048, count: 68\n",
      "bucket: 4096, count: 43\n",
      "bucket: 8192, count: 20\n",
      "bucket: 16384, count: 6\n",
      "bucket: 32768, count: 3\n",
      "bucket: 65536, count: 1\n"
     ]
    }
   ],
   "source": [
    "deg_prob_dict = get_deg_probability_dict(G)\n",
    "grouped = group_by_power_of_two(deg_prob_dict, group_method=\"upper\")\n",
    "node_count_per_bucket = get_node_count_per_bucket(G, grouped, group_method=\"upper\")\n",
    "for k, v in node_count_per_bucket.items():\n",
    "    print(str.format(\"bucket: {0}, count: {1}\", k, v))"
   ]
  },
  {
   "cell_type": "code",
   "execution_count": null,
   "id": "c2b29b80",
   "metadata": {},
   "outputs": [],
   "source": []
  }
 ],
 "metadata": {
  "kernelspec": {
   "display_name": "Python (komplNetzeEnv",
   "language": "python",
   "name": "jupyterkomplnetze"
  },
  "language_info": {
   "codemirror_mode": {
    "name": "ipython",
    "version": 3
   },
   "file_extension": ".py",
   "mimetype": "text/x-python",
   "name": "python",
   "nbconvert_exporter": "python",
   "pygments_lexer": "ipython3",
   "version": "3.12.3"
  }
 },
 "nbformat": 4,
 "nbformat_minor": 5
}
