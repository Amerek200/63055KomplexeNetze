{
 "cells": [
  {
   "metadata": {},
   "cell_type": "markdown",
   "source": "#### Imports",
   "id": "6f5977d4e009df9d"
  },
  {
   "metadata": {
    "ExecuteTime": {
     "end_time": "2025-07-22T23:58:35.960041Z",
     "start_time": "2025-07-22T23:58:35.949586Z"
    }
   },
   "cell_type": "code",
   "source": [
    "import pandas as pd\n",
    "from sklearn.tree import DecisionTreeClassifier\n",
    "from sklearn.metrics import accuracy_score\n",
    "from sklearn.inspection import permutation_importance\n",
    "from sklearn.naive_bayes import GaussianNB\n",
    "from sklearn.dummy import DummyClassifier\n",
    "from sklearn.neighbors import KNeighborsClassifier\n",
    "\n",
    "import numpy as np\n",
    "\n",
    "from helper.normalizer import normalize\n",
    "from config import FEATURES_USED_BY_CLASSIFIER"
   ],
   "id": "5fd49805ee3c7cb7",
   "outputs": [],
   "execution_count": 61
  },
  {
   "metadata": {},
   "cell_type": "markdown",
   "source": "#### Einlesen der Daten und Aufteilen in Training- und Testdaten",
   "id": "6ba7fc13a436687f"
  },
  {
   "metadata": {
    "ExecuteTime": {
     "end_time": "2025-07-22T23:58:36.028691Z",
     "start_time": "2025-07-22T23:58:36.012518Z"
    }
   },
   "cell_type": "code",
   "source": [
    "df = pd.read_csv('output_isDigit.csv')\n",
    "df = df[df['stopwords_removed'] == True]\n",
    "df = df[df['author'] != 'ALL']\n",
    "df = df[df['link_distance'] == 1]\n",
    "df = df[df['fixed_token_count'] == df['fixed_token_count'].max()]\n",
    "\n",
    "features = FEATURES_USED_BY_CLASSIFIER\n",
    "\n",
    "df = normalize(df, features)\n",
    "\n",
    "df_train = df[df['language'] == 'en'] # Trainingsdaten\n",
    "df_test = df[df['language'] == 'de'] # Testdaten\n",
    "\n",
    "\n",
    "X_train = df_train[features]\n",
    "y_train = df_train['author']\n",
    "\n",
    "X_test = df_test[features]\n",
    "y_test = df_test['author']"
   ],
   "id": "2324b9c5ab2ec029",
   "outputs": [],
   "execution_count": 62
  },
  {
   "metadata": {},
   "cell_type": "markdown",
   "source": "#### Trainieren des Klassifikators und Speichern der Genauigkeitswerte",
   "id": "d15aa056b53dd6d1"
  },
  {
   "metadata": {
    "ExecuteTime": {
     "end_time": "2025-07-22T23:58:36.531652Z",
     "start_time": "2025-07-22T23:58:36.058896Z"
    }
   },
   "cell_type": "code",
   "source": [
    "# Zufallszahlen setzen für reproduzierbare Ergebnisse\n",
    "random_number = 123\n",
    "np.random.seed(random_number)\n",
    "\n",
    "classifier_list = [\n",
    "    DummyClassifier(strategy='uniform', random_state=random_number),\n",
    "    DecisionTreeClassifier(random_state=random_number), # Entscheidungsbaum\n",
    "    KNeighborsClassifier(n_neighbors=5), # KNN-Algorithmus\n",
    "    GaussianNB() # Naive-Bayes-Algorithmus\n",
    "]\n",
    "\n",
    "\n",
    "\n",
    "for classifier in classifier_list:\n",
    "\n",
    "    print(f'Klassifikator: {classifier.__class__.__name__}')\n",
    "\n",
    "    accuracy_score_list = []\n",
    "\n",
    "    # Um Zufallseffekte zu umgehen, bilden wir den Durchschnitt der Genauigkeit in 10 unterschiedlichen Läufen\n",
    "    for _ in range(10):\n",
    "\n",
    "        classifier.fit(X_train, y_train)\n",
    "\n",
    "        y_prediction = classifier.predict(X_test)\n",
    "\n",
    "        accuracy_score_list.append(accuracy_score(y_test, y_prediction))\n",
    "\n",
    "    print(f'    Durchschnitt: {np.mean(accuracy_score_list)}')\n",
    "    print(f'    Standardabweichung: {np.std(accuracy_score_list)}')\n",
    "\n",
    "    # Klassifikator auf alle möglichen Daten fitten\n",
    "    # (für Bestimmung der Permutationswichtigkeit)\n",
    "    classifier.fit(X_train, y_train)\n",
    "\n",
    "    permutation_importance_list = permutation_importance(classifier, X_train, y_train, n_repeats=10, random_state=random_number)\n",
    "    most_important_features = sorted(list(zip(features, permutation_importance_list.importances_mean)), key = lambda x: x[1], reverse=True)\n",
    "\n",
    "    print(f'    Wichtigste Features: {most_important_features[:2]}')\n",
    "\n"
   ],
   "id": "initial_id",
   "outputs": [
    {
     "name": "stdout",
     "output_type": "stream",
     "text": [
      "Klassifikator: DummyClassifier\n",
      "    Durchschnitt: 0.17647058823529413\n",
      "    Standardabweichung: 0.0\n",
      "    Wichtigste Features: [('node_count', 0.0), ('edge_count', 0.0)]\n",
      "Klassifikator: DecisionTreeClassifier\n",
      "    Durchschnitt: 0.5294117647058824\n",
      "    Standardabweichung: 0.0\n",
      "    Wichtigste Features: [('average_degree', 0.3647058823529411), ('edge_count', 0.3058823529411765)]\n",
      "Klassifikator: KNeighborsClassifier\n",
      "    Durchschnitt: 0.4117647058823529\n",
      "    Standardabweichung: 0.0\n",
      "    Wichtigste Features: [('edge_count', 0.005882352941176472), ('diameter', 0.005882352941176472)]\n",
      "Klassifikator: GaussianNB\n",
      "    Durchschnitt: 0.4117647058823529\n",
      "    Standardabweichung: 0.0\n",
      "    Wichtigste Features: [('diameter', 0.2176470588235294), ('node_count', 0.09411764705882351)]\n"
     ]
    }
   ],
   "execution_count": 63
  }
 ],
 "metadata": {
  "kernelspec": {
   "display_name": "Python 3",
   "language": "python",
   "name": "python3"
  },
  "language_info": {
   "codemirror_mode": {
    "name": "ipython",
    "version": 2
   },
   "file_extension": ".py",
   "mimetype": "text/x-python",
   "name": "python",
   "nbconvert_exporter": "python",
   "pygments_lexer": "ipython2",
   "version": "2.7.6"
  }
 },
 "nbformat": 4,
 "nbformat_minor": 5
}
