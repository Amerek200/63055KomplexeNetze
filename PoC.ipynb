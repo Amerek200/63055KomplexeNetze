{
 "cells": [
  {
   "cell_type": "markdown",
   "id": "03a06d43-644e-4157-8835-4c20211325b5",
   "metadata": {},
   "source": [
    "### Todo\n",
    "- Graphen hübsch machen\n",
    "- Betweenness\n",
    "- Standardabweichungen berechnen wo es interessant sein könnte.\n",
    "- Logger für Analyseergebnisse?\n",
    "\n",
    "### Mögliche Tools:\n",
    "- CoreNLP leider nicht da Java\n",
    "- SpaCy: Fokus aus Production\n",
    "- NLTK: python, scheinbar guter \"Fokus\" auf Bildung.\n",
    "  - package punkt_tab fürs tokenizing runtergeladen\n",
    "  - package \"stopwords\" aus nltk.corpora heruntergeladen. Insgesamt 232 für DE.\n",
    "- simplemma.lemmatize passt Groß- & Kleinschreibung für uns automatisch an. D.h. wir brauchen scheinbar kein explizites .lower()\n",
    "- string.punctuation liefert !\"#$%&'()*+,-./:;<=>?@[\\]^_`{|}~ \n",
    "  - können wir zum entfernen nach tokennizen & lemmatizen verwenden.\n",
    "- deutscher POS Tagger:\n",
    "  - https://textmining.wp.hs-hannover.de/Preprocessing.html gibts hier bzw:\n",
    "  https://serwiss.bib.hs-hannover.de/frontdoor/index/index/docId/1527 \\ und hier https://github.com/wartaal/HanTa \n",
    "  - Erklärung der Tags: https://homepage.ruhr-uni-bochum.de/stephen.berman/Korpuslinguistik/Tagsets-STTS.html\n",
    "\n",
    "### Backend Notizen\n",
    "- Anzahl der Jobs hat bei mir hauptsächlich Einfluss auf RAM Verbrauch. (CPU Last steigt von 4 auf 8 jobs nicht nenneswert. RAM Verbrauch von 4gb auf 9gb)\n",
    "\n",
    "\n",
    "### Resultate\n",
    "- Bundesregierung.xml einfaches parsen ergibt: \n",
    "  - nodes: 133467 edges: 1343521\n",
    "  - mean degree: 20.132632036383526\n",
    "  - median degree: 2.0\n",
    "  - diameter wurde schon nicht mehr (aufm Laptop) in anständiger Zeit berechnet. (5 Minuten)\n",
    "- Bundesregierung.xml mit lemmatize und greedy:\n",
    "  - nodes: 93913 edges: 1007780\n",
    "  - mean degree: 21.46199141758862\n",
    "  - median degree: 2.0\n",
    "  -clustering jetzt 16 Minuten (aufm Laptop) laufen lassen ohne Resultat.\n",
    "- Bundesregierung mit lemmatize, removeStopwords, removePunctuation, libary tokenizer:\n",
    "  - nodes: 98774 edges: 1379927\n",
    "  - mean degree: 27.941097859760667\n",
    "  - median degree: 2.0\n",
    "- Bundesregierung mit lemmatize, stopword, punctuation, isalpha() check und libary tokenizer:\n",
    "  - nodes: 85815 edges: 1333270\n",
    "  - mean degree: 31.0731224144963\n",
    "  - median degree: 4.0\n",
    "  - der isalpha() Check scheint auf jeden Fall ne Menge Mist raus zu werfen. (-13k Einträge)\n",
    "- Bundesregierung mit allem da oben und Nomen & Namen Filter nach 30 Minuten abgebrochen. (Laptop)\n",
    "- Bundesregierung um 12:55 gestartet mit parallel = 2, hatte nach 20 Minuten allen RAM gefressen und Rechner gecrasht (>10gb)\n",
    "\n",
    "##### Beispieltext TEXT\n",
    "- Einfaches parsen ohne lemmatize \n",
    "  - len(text) = 126 \n",
    "  - nodes: 93 edges: 117\n",
    "- parsen mit lemmatize, greedy = False\n",
    "  - len(text) = 126, wie erwartet.\n",
    "  - nodes: 83 edges: 111\n",
    "- parsen mit lemmatzie, greedy = True\n",
    "   - nodes: 83 edges: 111 d.h. unverändert.\n",
    "- parsen mit nltk tokenizer, lemmatize, stopwords und punctuation removed\n",
    "  - nodes: 64, edges: 86\n",
    "-parsen mit nltk tokenizer, lemmatize, stopwords & punctuatin removed & isalpha() check:\n",
    "  - nodes: 57, edges: 61\n"
   ]
  },
  {
   "cell_type": "code",
   "execution_count": 2,
   "id": "7af1a060-545e-4acc-b678-1830dab9fcb4",
   "metadata": {},
   "outputs": [],
   "source": [
    "import string\n",
    "import simplemma\n",
    "import networkx as nx\n",
    "import nx_parallel as nxp\n",
    "import numpy as np\n",
    "import nltk\n",
    "import matplotlib.pyplot as plt\n",
    "from HanTa import HanoverTagger as ht\n",
    "\n",
    "\n",
    "# enabling networkx's config for nx-parallel\n",
    "nx.config.backends.parallel.active = True\n",
    "\n",
    "# setting `n_jobs` (by default, `n_jobs=None`)\n",
    "nx.config.backends.parallel.n_jobs = 2\n",
    "\n",
    "TAGGER_DE = ht.HanoverTagger('morphmodel_ger.pgz') #for POS Tagging\n",
    "TAGGER_EN = ht.HanoverTagger('morphmodel_en.pgz')\n",
    "\n",
    "TEXT = \"\"\"\n",
    "Meine Als Damen und Herren, als am 1. September 1948 in Bonn die 65 von den damals gerade gewählten Landtagen der elf Bundesländer bestellten Mitglieder des parlamentarischen Rates zusammentraten, 61 Männer und ganze 4 Frauen, auch da hat sich manches in diesen Jahrzehnten weiterentwickelt, um dem nichtsouveränen, unter der Kontrolle alliierter Besatzungsmächte stehenden westlichen Teil Deutschland eine gemeinsame vorläufige Verfassung zu geben, wurde in einer damals kaum vorhersehbaren, von vielen auch schlicht nicht für möglich gehaltenen nachhaltigen Weise die Grundlage der Bundesrepublik Deutschland gelegt, deren 60. Geburtstag wir in diesem Jahr begehen können. Heute wissen wir, dass mit der Konstituierung des Parlamentarischen Rates gleich drei präjudizierende Entscheidungen verbunden waren: Die Entscheidung für einen Standort, die Entscheidung für eine Persönlichkeit und die Entscheidung für ein Konzept.\n",
    "Die Entscheidung für Bonn als Standort, für Konrad\n",
    "\"\"\"\n",
    "WHITELIST = string.ascii_lowercase + \"äüöß \""
   ]
  },
  {
   "cell_type": "markdown",
   "id": "3f7cb1f1",
   "metadata": {},
   "source": [
    "## Verarbeitung"
   ]
  },
  {
   "cell_type": "code",
   "execution_count": 3,
   "id": "a9b85122-a174-4c3a-9ab3-2c7fc1e07359",
   "metadata": {},
   "outputs": [],
   "source": [
    "#erster Anlauf ohne \"ausgiebige\" Nutzung anderer Module außer dem Lemmatizer.\n",
    "#greedy=stronger reduction, might be closer to stemming (Wörter auf Wortstamm) than lemmatization (Flexation -> Grundform)\n",
    "def prepareText(text, lemmatize=True, greedy=False):\n",
    "    text = text.replace(\"\\n\", \" \").strip().lower()\n",
    "    text = \"\".join([c for c in text if c in WHITELIST])\n",
    "    text = [word for word in text.split(\" \") if len(word) > 0]\n",
    "    if lemmatize:\n",
    "        text = [ simplemma.lemmatize(token, lang='de', greedy=greedy) for token in text ]\n",
    "    print(text)\n",
    "    return text\n",
    "\n",
    "def textToGraph(preparedText: list):\n",
    "    graph = nx.Graph()\n",
    "    graph.add_nodes_from(preparedText)\n",
    "    for i in range(len(preparedText)-1):\n",
    "        graph.add_edge(preparedText[i], preparedText[i+1])\n",
    "    return graph\n",
    "\n",
    "#### Zweiter Anlauf mit Modulnutzung für stopwords, tokenizing, lemmatizing\n",
    "\n",
    "####Allgemeine, zusammenfassende Methoden\n",
    "def prepareTextWithLibaries(text: str, filterNouns=False, removeStopwords=True, language=\"de\") -> list[str]:\n",
    "    t = tokenize(text, language=language)\n",
    "    t = filterTokens(lemmatize(t, language=language), removeStopwords=removeStopwords)\n",
    "    if filterNouns:\n",
    "        t = filterNounsAndNames(t)\n",
    "    return t\n",
    "\n",
    "def fileToGraph(filename, graph, filterNouns=False, removeStopwords=False, language=\"de\"):\n",
    "    totalTokens = 0\n",
    "    with open(filename) as file:\n",
    "        lastToken = None\n",
    "        for line in file:\n",
    "            tokens = prepareTextWithLibaries(line, filterNouns=filterNouns, removeStopwords=removeStopwords, language=language)\n",
    "            # we have to remember the last token per line to connect with first token of next line\n",
    "            if len(tokens) > 0:\n",
    "                if lastToken != None:\n",
    "                    graph.add_edge(lastToken, tokens[0])\n",
    "                lastToken = tokens[-1]\n",
    "                totalTokens = totalTokens + len(tokens)\n",
    "            for i in range(len(tokens)-1):\n",
    "                graph.add_edge(tokens[i], tokens[i+1])\n",
    "    print(str.format(\"processed {0} tokens in total. Resulting graph has {1} nodes and {2} edges.\", totalTokens, len(graph.nodes), len(graph.edges)))\n",
    "    return graph\n",
    "\n",
    "#removes stopwords, punctuation, and every non alphabetic token\n",
    "def filterTokens(text: list, removeStopwords=False, language=\"de\") -> list[str]:\n",
    "    punctuation = set(string.punctuation)\n",
    "    if not removeStopwords:\n",
    "        return [ word for word in text if word.isalpha() and word not in punctuation ]\n",
    "    stop = getStopwords(language)\n",
    "    stopAndPunctuation = stop.union(punctuation)\n",
    "    return [ word for word in text if word.isalpha() and word not in stopAndPunctuation ]\n",
    "\n",
    "def lemmatize(text: list, greedy=True, language=\"de\"):\n",
    "    return [ simplemma.lemmatize(token, lang=language, greedy=greedy) for token in text ]\n",
    "\n",
    "#### Hilfsmethoden\n",
    "def tokenize(text: str, language=\"de\"):\n",
    "    if language == \"de\":\n",
    "        lang = \"german\"\n",
    "    elif language == \"en\":\n",
    "        lang = \"english\"\n",
    "    else:\n",
    "        raise ValueError(\"language must be de or en\")\n",
    "    return nltk.word_tokenize(text, language=lang)\n",
    "\n",
    "def getStopwords(language):\n",
    "    if language == \"de\":\n",
    "        return set(nltk.corpus.stopwords.words(\"german\"))\n",
    "    elif language == \"en\":\n",
    "        return set(nltk.corpus.stopwords.words(\"english\"))\n",
    "    else:\n",
    "        raise ValueError(\"language must be de or en\")\n",
    "\n",
    "def removeStopwords(text: list, language=\"de\"):\n",
    "    stop = getStopwords(language)\n",
    "    return [ word for word in text if word not in stop ]\n",
    "\n",
    "def removePunctuation(text: list):\n",
    "    punctuation = string.punctuation\n",
    "    return [word for word in text if word not in punctuation ]\n",
    "\n",
    "def removeNonAlphabetToken(text: list):\n",
    "    return [ word for word in text if word.isalpha() ]\n",
    "\n",
    "def filterNounsAndNames(token : list[str], language=\"de\"):\n",
    "    keepTags = [ \"NN\", \"NE\" ] #NN = Noun, NE = Name\n",
    "    return [ word for word in token if any(tag in getTags(word, language=language) for tag in keepTags) ]\n",
    "\n",
    "#Tagger sollte aus Performancegründen nicht mit jedem Aufruf geladen werden. Daher global.\n",
    "def getTags(word, language=\"de\"):\n",
    "    if language == \"de\":\n",
    "        tagger = TAGGER_DE\n",
    "    elif language == \"en\":\n",
    "        tagger = TAGGER_EN\n",
    "    else:\n",
    "        raise ValueError(\"language must be de or en\")\n",
    "    return [ res[0] for res in tagger.tag_word(word) ] #res[0] = tag, res[1] = propability\n",
    "\n",
    "\n"
   ]
  },
  {
   "cell_type": "markdown",
   "id": "b1cfd211",
   "metadata": {},
   "source": [
    "## Analyse"
   ]
  },
  {
   "cell_type": "code",
   "execution_count": 6,
   "id": "fd6d7341",
   "metadata": {},
   "outputs": [],
   "source": [
    "def analyzeGraph(graph, parallel=False):\n",
    "    print(str.format(\"nodes: {0} edges: {1}\", len(graph.nodes), len(graph.edges)))\n",
    "    degrees = np.array([ deg for node, deg in graph.degree ])\n",
    "    print(str.format(\"mean degree: {0}\", np.mean(degrees)))\n",
    "    print(str.format(\"median degree: {0}\", np.median(degrees)))\n",
    "    if parallel:\n",
    "        parallelResults = parallelGetDistanceMeasures(graph)\n",
    "        print(str.format(\"diameter: {0}\", parallelResults[\"diameter\"]))\n",
    "        print(str.format(\"average distance: {0}\", parallelResults[\"avgDistance\"]))\n",
    "        print(str.format(\"average betweenness centrality: {0}\", calcAvgBetweenness(nxp.betweenness_centrality(graph))))\n",
    "    else:\n",
    "        print(str.format(\"diameter: {0}\", nx.diameter(graph)))\n",
    "        print(str.format(\"avg. distance: {0}\", nx.average_shortest_path_length(graph)))\n",
    "        print(str.format(\"average betweenness centrality: {0}\", calcAvgBetweenness(nx.betweenness_centrality(graph))))\n",
    "        \n",
    "    print(str.format(\"avg. clustering: {0}\", nx.average_clustering(graph))) #no parallel implementation\n",
    "\n",
    "def parallelGetDistanceMeasures(graph):\n",
    "    maxDistance = 0\n",
    "    avgDistance = 0\n",
    "    for node, lengthDict in nxp.all_pairs_shortest_path_length(graph):\n",
    "        for k, v in lengthDict.items():\n",
    "            if k == node: continue\n",
    "            maxDistance = max(maxDistance, v)\n",
    "            avgDistance = avgDistance + v #python3 maxint does not have max size, so there shouldnt be an overflow risk.\n",
    "    nodes = graph.order()\n",
    "    avgDistance = avgDistance / (nodes * (nodes-1)) #handshake lemma, therefore double-counting of distance is fine.\n",
    "    return { \"diameter\" : maxDistance,  \"avgDistance\" : avgDistance }\n",
    "\n",
    "#TODO, could be combined with avgDistance calculation since basic function, input & output are the same\n",
    "#TODO, could be combined with getSortedDegreeList, getHighesDegNodes etc. since basic function, input & output are the same\n",
    "def calcAvgBetweenness(betweennessDict : dict):\n",
    "    #print(betweennessDict)\n",
    "    print(\"TODO\")\n",
    "    return\n",
    "\n",
    "def getSortedDegreeList(graph, desc=True):\n",
    "    return sorted(graph.degree, key=lambda nodeDegreePair : nodeDegreePair[1], reverse=desc) #descending order\n",
    "\n",
    "def getHighestDegNodes(graph, n):\n",
    "    return getSortedDegreeList(graph)[0:n] if n <= graph.number_of_nodes() else getSortedDegreeList(graph)\n",
    "\n",
    "def getLowestDegNodes(graph, n):\n",
    "    return getSortedDegreeList(graph, desc=False)[0:n] if n <= graph.number_of_nodes() else getSortedDegreeList(graph, desc=False)\n",
    "\n",
    "def getRawDegreeList(graph):\n",
    "    return [ nodeDegTuple[1] for nodeDegTuple in graph.degree ]\n",
    "\n",
    "def getDegProbabilityDict(graph):\n",
    "    degFrequencyList = np.array(nx.degree_histogram(graph))\n",
    "    totalNodes = graph.order()\n",
    "    res = {}\n",
    "    for deg in range(len(degFrequencyList)):\n",
    "        if degFrequencyList[deg] == 0: continue\n",
    "        else:\n",
    "            res[deg] = degFrequencyList[deg] / totalNodes\n",
    "    return res\n",
    "\n",
    "\n",
    "\n",
    "\n"
   ]
  },
  {
   "cell_type": "markdown",
   "id": "b84d5be0",
   "metadata": {},
   "source": [
    "## Visualisierung"
   ]
  },
  {
   "cell_type": "code",
   "execution_count": 4,
   "id": "312250ff",
   "metadata": {},
   "outputs": [],
   "source": [
    "#Visualisierung\n",
    "def degreeDistHist(graph):\n",
    "    #nx.degree_histogramm könnte sinnvoller sein.\n",
    "    data = np.array(getRawDegreeList(graph))\n",
    "    print(max(data))\n",
    "    plt.hist(data, bins=100)\n",
    "    plt.xlabel(\"Degree\")\n",
    "    plt.ylabel(\"Number of Nodes\")\n",
    "    plt.grid(True)\n",
    "    plt.show()\n",
    "\n",
    "def degreeScatterPlot(graph):\n",
    "    data = getDegProbabilityDict(graph)\n",
    "    x = np.array(list(data.keys()), dtype=float)\n",
    "    y = np.array(list(data.values()), dtype=float)\n",
    "    plt.scatter(x, y)\n",
    "    plt.xscale(\"log\")\n",
    "    plt.yscale(\"log\")\n",
    "    plt.xlabel(\"deg\")\n",
    "    plt.ylabel(\"p(deg)\")\n",
    "    plt.grid(True)\n",
    "    plt.show()\n",
    "\n"
   ]
  },
  {
   "cell_type": "code",
   "execution_count": null,
   "id": "3d030221-9064-42d3-90c0-a9ac987fbaa3",
   "metadata": {},
   "outputs": [
    {
     "name": "stdout",
     "output_type": "stream",
     "text": [
      "['mein', 'als', 'Dame', 'und', 'Herr', 'als', 'am', 'September', 'in', 'Bonn', 'der', 'von', 'der', 'damals', 'gerade', 'gewählt', 'Landtag', 'der', 'elf', 'Bundesland', 'bestellen', 'Mitglied', 'der', 'parlamentarisch', 'Rat', 'zusammentreten', 'Mann', 'und', 'ganz', 'Frau', 'auch', 'da', 'haben', 'mancher', 'in', 'dies', 'Jahrzehnt', 'weiterentwickel', 'um', 'der', 'nichtsouverän', 'unter', 'der', 'Kontrolle', 'alliiert', 'Besatzungsmacht', 'stehend', 'westlich', 'Teil', 'Deutschland', 'ein', 'gemeinsam', 'vorläufig', 'Verfassung', 'zu', 'geben', 'werden', 'in', 'ein', 'damals', 'kaum', 'vorhersehbar', 'von', 'viel', 'auch', 'schlicht', 'nicht', 'für', 'möglich', 'gehalten', 'nachhaltig', 'Weise', 'der', 'Grundlage', 'der', 'Bundesrepublik', 'Deutschland', 'legen', 'der', 'Geburtstag', 'wir', 'in', 'dies', 'Jahr', 'begehen', 'können', 'heute', 'wissen', 'wir', 'dass', 'mit', 'der', 'Konstituierung', 'der', 'parlamentarisch', 'Rat', 'gleich', 'drei', 'präjudizierende', 'Entscheidung', 'verbunden', 'sein', 'der', 'Entscheidung', 'für', 'ein', 'Standort', 'der', 'Entscheidung', 'für', 'ein', 'Persönlichkeit', 'und', 'der', 'Entscheidung', 'für', 'ein', 'Konzept', 'der', 'Entscheidung', 'für', 'Bonn', 'als', 'Standort', 'für', 'Konrad']\n",
      "126\n",
      "nodes: 82 edges: 111\n",
      "mean degree: 2.707317073170732\n",
      "median degree: 2.0\n",
      "diameter: 9\n",
      "avg. distance: 3.941282746160795\n",
      "betweenness centrality: {'mein': 0.0, 'als': 0.05714726631393297, 'Dame': 0.0030996472663139324, 'und': 0.11976998824221047, 'Herr': 0.0030996472663139324, 'am': 0.0020987654320987655, 'September': 0.006782774838330393, 'in': 0.2399977954144621, 'Bonn': 0.15312610229276893, 'der': 0.6101947383891829, 'von': 0.06591122868900645, 'damals': 0.06359567901234565, 'gerade': 0.004434156378600822, 'gewählt': 0.00030864197530864197, 'Landtag': 0.01994855967078189, 'elf': 0.024074074074074074, 'Bundesland': 0.00030864197530864197, 'bestellen': 0.00030864197530864197, 'Mitglied': 0.024074074074074074, 'parlamentarisch': 0.05013815402704292, 'Rat': 0.03146531452087007, 'zusammentreten': 0.0029320987654320985, 'Mann': 0.016682833627278074, 'ganz': 0.025180776014109344, 'Frau': 0.007212669018224573, 'auch': 0.027839506172839493, 'da': 0.008181951793062905, 'haben': 0.01463771310993533, 'mancher': 0.03462228101116991, 'dies': 0.06616769547325102, 'Jahrzehnt': 0.00560185185185185, 'weiterentwickel': 0.01383744855967078, 'um': 0.03230967078189301, 'nichtsouverän': 0.0, 'unter': 0.0, 'Kontrolle': 0.06039094650205761, 'alliiert': 0.03786008230452675, 'Besatzungsmacht': 0.015637860082304524, 'stehend': 0.0021604938271604936, 'westlich': 0.010905349794238683, 'Teil': 0.03343621399176955, 'Deutschland': 0.06282921810699588, 'ein': 0.1804284244562022, 'gemeinsam': 0.048060699588477356, 'vorläufig': 0.025221193415637874, 'Verfassung': 0.00471707818930041, 'zu': 0.0037242798353909466, 'geben': 0.023235596707818933, 'werden': 0.04607510288065843, 'kaum': 0.0042026748971193415, 'vorhersehbar': 0.0015432098765432098, 'viel': 0.027274397413286296, 'schlicht': 0.009151969429747208, 'nicht': 0.02594723691945915, 'für': 0.12156452087007638, 'möglich': 0.014290123456790125, 'gehalten': 0.0021604938271604936, 'nachhaltig': 0.011944444444444443, 'Weise': 0.03385802469135803, 'Grundlage': 0.0, 'Bundesrepublik': 0.015478395061728396, 'legen': 0.015478395061728396, 'Geburtstag': 0.04893004115226336, 'wir': 0.07654835390946502, 'Jahr': 0.029598765432098773, 'begehen': 0.007170781893004116, 'können': 0.00205761316872428, 'heute': 0.01911522633744856, 'wissen': 0.041697530864197536, 'dass': 0.002829218106995885, 'mit': 0.016481481481481482, 'Konstituierung': 0.0, 'gleich': 0.001851851851851852, 'drei': 0.0035493827160493828, 'präjudizierende': 0.025771604938271603, 'Entscheidung': 0.07710684891240445, 'verbunden': 0.0008333333333333334, 'sein': 0.0088940329218107, 'Standort': 0.05356334509112286, 'Persönlichkeit': 0.016405790711346267, 'Konzept': 0.009742798353909466, 'Konrad': 0.0}\n",
      "avg. clustering: 0.0274872264532922\n"
     ]
    }
   ],
   "source": [
    "#text = prepareText(TEXT,  lemmatize=True, greedy=True)\n",
    "#print(len(text))\n",
    "#G = textToGraph(text)\n",
    "#analyzeGraph(G, parallel=False)\n",
    "text2 = prepareTextWithLibaries(TEXT, removeStopwords=False)\n",
    "print(text2)\n",
    "print(len(text2))\n",
    "G = textToGraph(text2)\n",
    "analyzeGraph(G, parallel=False)\n"
   ]
  },
  {
   "cell_type": "markdown",
   "id": "2dea3ee3",
   "metadata": {},
   "source": [
    "#### spezifische political speeches Dinge"
   ]
  },
  {
   "cell_type": "code",
   "execution_count": 57,
   "id": "9a5dcdda",
   "metadata": {},
   "outputs": [],
   "source": [
    "import xml.etree.ElementTree as ET\n",
    "\n",
    "def iterateAndProcessDocumentTree(tree, graph):\n",
    "\n",
    "    root = tree.getroot()\n",
    "\n",
    "    #count = 0\n",
    "\n",
    "    for text_elem in root.findall(\"text\"):\n",
    "        #count = count + 1\n",
    "        person = text_elem.get(\"person\")\n",
    "        titel = text_elem.get(\"titel\")\n",
    "        datum = text_elem.get(\"datum\")\n",
    "        ort = text_elem.get(\"ort\")\n",
    "        untertitel = text_elem.get(\"untertitel\")\n",
    "        url = text_elem.get(\"untertitel\")\n",
    "        anrede = text_elem.get(\"anrede\")\n",
    "\n",
    "        rohtext_elem = text_elem.find(\"rohtext\")\n",
    "        rohtext = rohtext_elem.text if rohtext_elem is not None else \"\"\n",
    "\n",
    "        #if count == 1:\n",
    "        textArr = preprocessRohtextWithLibaries(rohtext)\n",
    "        #textArr = filterNounsAndNames(textArr)\n",
    "        addToGraph(textArr, graph)\n",
    "    return graph #not neccessary but w/e\n",
    "\n",
    "\n",
    "def preprocessRohtext(rohtext):\n",
    "    text = prepareText(rohtext, lemmatize=True, greedy=True)\n",
    "    return text\n",
    "\n",
    "def preprocessRohtextWithLibaries(rohtext):\n",
    "    return prepareTextWithLibaries(rohtext, removeStopwords=False)\n",
    "\n",
    "def addToGraph(text, graph):\n",
    "    graph.add_nodes_from(text)\n",
    "    for i in range(len(text)-1):\n",
    "        graph.add_edge(text[i], text[i+1])\n",
    "\n",
    "def processDocument(docPath, graph):\n",
    "    with open(docPath) as file:\n",
    "        tree = ET.parse(file)\n",
    "    iterateAndProcessDocumentTree(tree, graph)\n",
    "    return graph\n",
    "    \n",
    "\n"
   ]
  },
  {
   "cell_type": "code",
   "execution_count": 58,
   "id": "ccd41c1f",
   "metadata": {},
   "outputs": [],
   "source": [
    "G = nx.Graph()\n",
    "PATH = \"../Daten/Bundesregierung.xml\"\n",
    "res = processDocument(PATH, G)"
   ]
  },
  {
   "cell_type": "code",
   "execution_count": 59,
   "id": "e9bc0ef8",
   "metadata": {},
   "outputs": [
    {
     "name": "stdout",
     "output_type": "stream",
     "text": [
      "85924\n"
     ]
    },
    {
     "data": {
      "image/png": "[encoded data removed]",
      "text/plain": [
       "<Figure size 640x480 with 1 Axes>"
      ]
     },
     "metadata": {},
     "output_type": "display_data"
    }
   ],
   "source": [
    "print(G.order()) #85815\n",
    "#print(getLowestDegNodes(G, 100))\n",
    "#parralel backenend für diameter etc?\n",
    "#analyzeGraph(G, parallel=True)\n",
    "degreeScatterPlot(G)"
   ]
  },
  {
   "cell_type": "markdown",
   "id": "4b6fd9c4",
   "metadata": {},
   "source": [
    "## Kafka Test\n",
    "- Buch hat ca. 84.000 Wörter (überschlagen)\n",
    "- 2do: Beim Englischen werden ~84.000 Token verarbeitet und Graph hat am Ende nur 3300 Knoten. Ist etwas große Differenz finde ich.\n",
    "\n",
    "**Ergebnis ohne Stopwords**\n",
    "- ~1s Verarbeitung, 31.000 Tokens verarbeitet\n",
    "- 5400 Nodes, 27.000 Edges.\n",
    "- ~50s Analyse, nicht parallel\n",
    "- ~30s Analyse, parallel\n",
    "- mean degree: 10.03737971872687\n",
    "- median degree: 4.0\n",
    "- diameter: 9\n",
    "- average distance: 3.3626959444769353\n",
    "- avg. clustering: 0.09817590698451623\n",
    "\n",
    "**Ergebnis mit Stopwords**\n",
    "- ~1s Verarbeitung, 68.000 Tokens verarbeitet\n",
    "- 5508 Nodes, 33543 Edes\n",
    "- 57s Analyse, nicht parallel\n",
    "- 33s Analyse, parallel\n",
    "- nodes: 5508 edges: 33543\n",
    "- mean degree: 12.179738562091503\n",
    "- median degree: 3.0\n",
    "- diameter: 6\n",
    "- average distance: 2.7191990678266613\n",
    "- avg. clustering: 0.4789961888932891\n"
   ]
  },
  {
   "cell_type": "code",
   "execution_count": 13,
   "id": "08201ebe",
   "metadata": {},
   "outputs": [
    {
     "name": "stdout",
     "output_type": "stream",
     "text": [
      "processed 31141 tokens in total. Resulting graph has 5404 nodes and 27121 edges.\n"
     ]
    },
    {
     "data": {
      "text/plain": [
       "<networkx.classes.graph.Graph at 0x791c3e7bd0d0>"
      ]
     },
     "execution_count": 13,
     "metadata": {},
     "output_type": "execute_result"
    }
   ],
   "source": [
    "PROZESS_AUSZUG = \"../Ressourcen/Daten/Buecher/Kafka/Kafka_Der_Prozess_cleaned_Auszug.txt\"\n",
    "PROZESS_GESAMT_DE = \"../Ressourcen/Daten/Buecher/Kafka/Kafka_Der_Prozess_cleaned.txt\"\n",
    "PROZESS_GESAMT_EN = \"../Ressourcen/Daten/Buecher/Kafka/Kafka_The_Trial_cleaned.txt\"\n",
    "\n",
    "G = nx.Graph()\n",
    "fileToGraph(PROZESS_GESAMT_DE, G, filterNouns=False, removeStopwords=True, language=\"de\")"
   ]
  },
  {
   "cell_type": "code",
   "execution_count": 8,
   "id": "6150dc1a",
   "metadata": {},
   "outputs": [
    {
     "name": "stdout",
     "output_type": "stream",
     "text": [
      "nodes: 5404 edges: 27121\n",
      "mean degree: 10.03737971872687\n",
      "median degree: 4.0\n",
      "diameter: 9\n",
      "average distance: 3.3626959444769353\n",
      "TODO\n",
      "average betweenness centrality: None\n",
      "avg. clustering: 0.09817590698451623\n"
     ]
    }
   ],
   "source": [
    "analyzeGraph(G, parallel=True)\n",
    "#degreeScatterPlot(G)\n",
    "#res = nxp.betweenness_centrality(G)"
   ]
  },
  {
   "cell_type": "code",
   "execution_count": null,
   "id": "e612848b",
   "metadata": {},
   "outputs": [
    {
     "name": "stdout",
     "output_type": "stream",
     "text": [
      "processed 41226 tokens in total. Resulting graph has 9247 nodes and 59759 edges.\n"
     ]
    },
    {
     "data": {
      "text/plain": [
       "<networkx.classes.graph.Graph at 0x791c3e7bd0d0>"
      ]
     },
     "execution_count": 14,
     "metadata": {},
     "output_type": "execute_result"
    }
   ],
   "source": [
    "AMERIKA_DE = \"../Ressourcen/Daten/Buecher/Kafka/Kafka_Amerika_de_cleaned.txt\"\n",
    "fileToGraph(AMERIKA_DE, G, filterNouns=False, removeStopwords=True, language=\"de\")\n",
    "#Nur Amerika: processed 41226 tokens in total. Resulting graph has 7005 nodes and 35072 edges.\n",
    "tet = 123"
   ]
  },
  {
   "cell_type": "code",
   "execution_count": 16,
   "id": "f98dd8f7",
   "metadata": {},
   "outputs": [
    {
     "name": "stdout",
     "output_type": "stream",
     "text": [
      "processed 9016 tokens in total. Resulting graph has 9828 nodes and 66932 edges.\n"
     ]
    },
    {
     "data": {
      "text/plain": [
       "<networkx.classes.graph.Graph at 0x791c3e7bd0d0>"
      ]
     },
     "execution_count": 16,
     "metadata": {},
     "output_type": "execute_result"
    }
   ],
   "source": [
    "VERWANDLUNG_DE = \"../Ressourcen/Daten/Buecher/Kafka/Kafka_Verwandlung_de_cleaned.txt\"\n",
    "fileToGraph(VERWANDLUNG_DE, G, filterNouns=False, removeStopwords=True, language=\"de\")"
   ]
  },
  {
   "cell_type": "code",
   "execution_count": null,
   "id": "614eb24f",
   "metadata": {},
   "outputs": [
    {
     "data": {
      "image/png": "[encoded data removed]",
      "text/plain": [
       "<Figure size 640x480 with 1 Axes>"
      ]
     },
     "metadata": {},
     "output_type": "display_data"
    },
    {
     "name": "stdout",
     "output_type": "stream",
     "text": [
      "1164\n"
     ]
    },
    {
     "data": {
      "image/png": "[encoded data removed]",
      "text/plain": [
       "<Figure size 640x480 with 1 Axes>"
      ]
     },
     "metadata": {},
     "output_type": "display_data"
    },
    {
     "name": "stdout",
     "output_type": "stream",
     "text": [
      "nodes: 9828 edges: 66932\n",
      "mean degree: 13.620675620675621\n",
      "median degree: 4.0\n"
     ]
    }
   ],
   "source": [
    "degreeScatterPlot(G)\n",
    "degreeDistHist(G)\n",
    "analyzeGraph(G, parallel=True)"
   ]
  },
  {
   "cell_type": "markdown",
   "id": "1074c5d3",
   "metadata": {},
   "source": [
    "### Codeanalyse"
   ]
  },
  {
   "cell_type": "code",
   "execution_count": null,
   "id": "2a918fea",
   "metadata": {},
   "outputs": [],
   "source": [
    "### Code Analyse Dinge\n",
    "import string \n",
    "import keyword\n",
    "\n",
    "kw = keyword.kwlist\n",
    "\n",
    "def replacePunctuation(code : str):\n",
    "    punct = string.punctuation\n",
    "    for p in punct:\n",
    "        code = code.replace(p, \" \")\n",
    "    return code\n",
    "\n",
    "\n",
    "\n",
    "G = nx.Graph()\n",
    "\n",
    "with open(\"pixel_sort.py\", \"r\") as file:\n",
    "    total = []\n",
    "    for line in file:\n",
    "        if line.startswith(\"#\"): continue\n",
    "        token = replacePunctuation(line).strip().split(\" \")\n",
    "        #Zahlen entfernen?\n",
    "        #Kommentare besser entfernen da ggf hinter Code\n",
    "        token = [ t.lower() for t in token if t]\n",
    "        total += token\n",
    "    #print(total)\n",
    "    total = [t for t in total if t not in kw]\n",
    "    for i in range(0, len(total)-1):\n",
    "        G.add_edge(total[i], total[i+1])\n"
   ]
  },
  {
   "cell_type": "code",
   "execution_count": 33,
   "id": "29f9ccba",
   "metadata": {},
   "outputs": [
    {
     "name": "stdout",
     "output_type": "stream",
     "text": [
      "nodes: 200 edges: 469\n",
      "mean degree: 4.69\n",
      "median degree: 2.0\n",
      "diameter: 7\n",
      "avg. distance: 3.411507537688442\n",
      "avg. clustering: 0.1625798425621406\n",
      "['pixel', 'sorting', 'cv2', 'numpy', 'np', 'math', 'colorsys', 'pandas', 'pd', 'os', 'argparse', 'tqdm', 'sound', 'parser', 'argumentparser', 'you', 'iniatize', 'such', 'add', 'argument', 'f', 'required', 'true', 'help', 'enter', 'filename', 'of', 'your', 'picture', 'args', 'parse', 'take', 'the', 'arguments', 'command', 'line', 'makedirs', 'image', 'sort', 'str', 'print', 'capitalize', 'directory', 'created', 'df', 'total', '0', 'dict', 'final', 'img', 'list', 'createdataset', 'val', 'data', 'len', 'max', 'keys', 'dataframe', 'columns', 'blue', 'green', 'red', 'to', 'excel', 'output', 'xlsx', 'generatecolors', 'c', 'sorted', 'frame', 'row', 'height', '15', 'zeros', '3', 'uint8', 'x', 'range', 'r', 'g', 'b', '255', '1', '2', 'append', 'color', 'value', 'xth', 'column', 'this', 'gives', 'band', 'changes', 'added', 'every', 'measure', 'count', 'col', 'width', 'step', 'bgr', 'repetitions', 'lum', 'calculated', 'per', 'way', 'humans', 'view', 'colors', 'sqrt', '241', '691', '068', 'conversion', 'rgb', 'hsv', 'values', 'h', 's', 'v', 'a', 'better', 'option', 'classifying', 'each', 'are', 'taken', 'decrease', 'noise', 'h2', 'int', 'v2', 'get', 'smoother', 'findthreshold', 'lst', 'i', 'sum', 'min', 'makevideo', 'out', 'videowriter', 'mp4', 'fourcc', 'mp4v', '16', '800', '500', 'jpg', 'imread', 'write', 'remove', 'release', 'main', 'resize', 'shape', 'wise', 'n', 'tolist', 'includes', 'all', 'between', 'makes', 'easier', 'efficient', 'thresh', 'setting', 'threshold', 'specific', 'non', 'zero', 'then', 'it', 'asarray', 'key', '8', 'any', 'gets', 'false', 'ind', 'enumerate', 'accessing', 'within', 'element', 'their', 'less', 'than', 'imwrite', 'writing', 'down', 'displaying', 'formation', 'video', 'progress', 'calling', 'external', 'python', 'file', 'create', 'audio']\n"
     ]
    }
   ],
   "source": [
    "analyzeGraph(G)\n",
    "print(G.nodes)"
   ]
  },
  {
   "cell_type": "code",
   "execution_count": 27,
   "id": "584c0600",
   "metadata": {},
   "outputs": [
    {
     "name": "stdout",
     "output_type": "stream",
     "text": [
      "['False', 'None', 'True', 'and', 'as', 'assert', 'async', 'await', 'break', 'class', 'continue', 'def', 'del', 'elif', 'else', 'except', 'finally', 'for', 'from', 'global', 'if', 'import', 'in', 'is', 'lambda', 'nonlocal', 'not', 'or', 'pass', 'raise', 'return', 'try', 'while', 'with', 'yield']\n"
     ]
    }
   ],
   "source": [
    "print(keyword.kwlist)"
   ]
  }
 ],
 "metadata": {
  "kernelspec": {
   "display_name": "komplNetzeVenv",
   "language": "python",
   "name": "python3"
  },
  "language_info": {
   "codemirror_mode": {
    "name": "ipython",
    "version": 3
   },
   "file_extension": ".py",
   "mimetype": "text/x-python",
   "name": "python",
   "nbconvert_exporter": "python",
   "pygments_lexer": "ipython3",
   "version": "3.12.3"
  }
 },
 "nbformat": 4,
 "nbformat_minor": 5
}
