{
 "cells": [
  {
   "cell_type": "markdown",
   "id": "a28680df2df1ec9",
   "metadata": {},
   "source": [
    "### Imports"
   ]
  },
  {
   "cell_type": "code",
   "id": "initial_id",
   "metadata": {
    "ExecuteTime": {
     "end_time": "2025-06-14T13:38:59.881467Z",
     "start_time": "2025-06-14T13:38:59.874125Z"
    }
   },
   "source": [
    "from importlib import reload\n",
    "from itertools import chain\n",
    "\n",
    "import pandas as pd\n",
    "import numpy as np\n",
    "import networkx as nx\n",
    "import nx_parallel as nxp\n",
    "import scipy\n",
    "\n",
    "from os import listdir\n",
    "from os.path import isfile, join\n",
    "\n",
    "# Importieren und neu laden (damit aktuelle Änderungen übernommen werden)\n",
    "from helper import graph_analyzer, text_preprocesser\n",
    "reload(text_preprocesser)\n",
    "reload(graph_analyzer)\n",
    "\n",
    "\n",
    "from helper.text_preprocesser import prepare_text, prepare_text_with_libraries, convert_preprocessed_tokens_to_graph\n",
    "from helper.graph_analyzer import parallel_get_distance_measures, parallel_get_betweenness_list, get_powerlaw_alpha"
   ],
   "outputs": [],
   "execution_count": 324
  },
  {
   "cell_type": "markdown",
   "id": "9e89293a435834c1",
   "metadata": {},
   "source": [
    "### Optionen setzen"
   ]
  },
  {
   "cell_type": "code",
   "id": "c3e5119ec4e7a27",
   "metadata": {
    "ExecuteTime": {
     "end_time": "2025-06-14T13:38:59.909775Z",
     "start_time": "2025-06-14T13:38:59.906776Z"
    }
   },
   "source": [
    "PARALLEL = False\n",
    "nx.config.backends.parallel.active = True\n",
    "nx.config.backends.parallel.n_jobs = 4\n",
    "print(nx.config)"
   ],
   "outputs": [
    {
     "name": "stdout",
     "output_type": "stream",
     "text": [
      "NetworkXConfig(backend_priority=BackendPriorities(algos=[], generators=[]), backends=Config(parallel=ParallelConfig(active=True, backend='loky', n_jobs=4, verbose=0, temp_folder=None, max_nbytes='1M', mmap_mode='r', prefer=None, require=None, inner_max_num_threads=None, backend_params={})), cache_converted_graphs=True, fallback_to_nx=False, warnings_to_ignore=set())\n"
     ]
    }
   ],
   "execution_count": 325
  },
  {
   "cell_type": "markdown",
   "id": "5d747da102a04f1f",
   "metadata": {},
   "source": [
    "### Dateipfade laden"
   ]
  },
  {
   "cell_type": "code",
   "id": "8cb24543676e765c",
   "metadata": {
    "ExecuteTime": {
     "end_time": "2025-06-14T13:38:59.948163Z",
     "start_time": "2025-06-14T13:38:59.929067Z"
    }
   },
   "source": [
    "# Allgemeiner Pfad zu den Daten\n",
    "DATA_PATH = \"data/input/\"\n",
    "\n",
    "# Liste mit Dateinamen von Büchern\n",
    "file_name_list = [f for f in listdir(DATA_PATH) if isfile(join(DATA_PATH, f))]\n",
    "\n",
    "# Liste mit Inhalten von Dateien\n",
    "file_content_list = [\" \".join(open(join(DATA_PATH, f)).readlines()) for f in file_name_list]"
   ],
   "outputs": [],
   "execution_count": 326
  },
  {
   "cell_type": "markdown",
   "id": "4e806c9cb334c645",
   "metadata": {},
   "source": [
    "### Dataframe mit Dateinamen und Inhalt befüllen"
   ]
  },
  {
   "cell_type": "code",
   "id": "a042c30999b50a3e",
   "metadata": {
    "ExecuteTime": {
     "end_time": "2025-06-14T13:38:59.988926Z",
     "start_time": "2025-06-14T13:38:59.978054Z"
    }
   },
   "source": [
    "# Tabelle erstellen mit Spalten \"title\" und \"content\"\n",
    "df = pd.DataFrame({'file_name': file_name_list, 'file_content': file_content_list})\n",
    "\n",
    "\n",
    "def extract_metadata_from_file_name(file_name):\n",
    "    splitted_name = file_name[:-4].split(\"_\")\n",
    "    author = splitted_name[0]\n",
    "    title = splitted_name[1]\n",
    "    language = splitted_name[2]\n",
    "    return author, title, language\n",
    "\n",
    "file_metadata = df[\"file_name\"].apply(extract_metadata_from_file_name).apply(pd.Series)\n",
    "\n",
    "df[[\"author\", \"title\", \"language\"]] = file_metadata"
   ],
   "outputs": [],
   "execution_count": 327
  },
  {
   "cell_type": "markdown",
   "id": "acd741ebfb26e80a",
   "metadata": {},
   "source": [
    "### Text vorbereiten und Graphen erstellen"
   ]
  },
  {
   "cell_type": "code",
   "id": "f17fae84e6747569",
   "metadata": {
    "ExecuteTime": {
     "end_time": "2025-06-14T13:39:01.607030Z",
     "start_time": "2025-06-14T13:39:00.007742Z"
    }
   },
   "source": [
    "df[\"prepared_text\"] = df[\"file_content\"].apply(prepare_text_with_libraries)\n",
    "\n",
    "df[\"graph\"] = df[\"prepared_text\"].apply(lambda g: convert_preprocessed_tokens_to_graph(g, 1))"
   ],
   "outputs": [],
   "execution_count": 328
  },
  {
   "cell_type": "markdown",
   "id": "6ff579f7c571b267",
   "metadata": {},
   "source": [
    "### Metriken berechnen"
   ]
  },
  {
   "cell_type": "code",
   "id": "21e315e88630fd7c",
   "metadata": {
    "ExecuteTime": {
     "end_time": "2025-06-14T13:39:01.708477Z",
     "start_time": "2025-06-14T13:39:01.624240Z"
    }
   },
   "source": [
    "from helper.graph_analyzer import get_powerlaw_result\n",
    "\n",
    "# Basismetriken: Knotenanzahl und Kantenanzahl\n",
    "df[\"node_count\"] = df[\"graph\"].apply(lambda g: len(g.nodes))\n",
    "df[\"edge_count\"] = df[\"graph\"].apply(lambda g: len(g.edges))\n",
    "\n",
    "# Knotengrade\n",
    "df[\"degree_list\"] = df[\"graph\"].apply(lambda g: np.array([deg for node, deg in g.degree ]))\n",
    "\n",
    "# Ergebnisse von powerlaw\n",
    "powerlaw_result = df[\"degree_list\"].apply(get_powerlaw_result).apply(pd.Series)\n",
    "df[[\"powerlaw_alpha_value\", \"powerlaw_xmin_value\"]] = powerlaw_result\n",
    "\n",
    "print(df)\n"
   ],
   "outputs": [
    {
     "name": "stdout",
     "output_type": "stream",
     "text": [
      "                  file_name  \\\n",
      "0      Kafka_Amerika_de.txt   \n",
      "1      Kafka_Prozess_en.txt   \n",
      "2      Kafka_Schloss_de.txt   \n",
      "3  Kafka_Verwandlung_de.txt   \n",
      "4            ALL_ALL_DE.txt   \n",
      "5      Kafka_Schloss_en.txt   \n",
      "6  Kafka_Verwandlung_en.txt   \n",
      "7      Kafka_Prozess_de.txt   \n",
      "8      Kafka_Amerika_en.txt   \n",
      "\n",
      "                                        file_content author        title  \\\n",
      "0  Der Heizer\\n Als der sechzehnjährige Karl Roßm...  Kafka      Amerika   \n",
      "1  Chapter One\\n \\n Arrest--Conversation with Mrs...  Kafka      Prozess   \n",
      "2  Es war spätabends, als K. ankam. Das Dorf lag ...  Kafka      Schloss   \n",
      "3  Als Gregor Samsa eines Morgens aus unruhigen T...  Kafka  Verwandlung   \n",
      "4  IN THE BEGINNING was the myth. God, in his sea...    ALL          ALL   \n",
      "5  1\\n Arrival\\n It was late evening when K. arri...  Kafka      Schloss   \n",
      "6  One morning, when Gregor Samsa woke from troub...  Kafka  Verwandlung   \n",
      "7  ERSTES KAPITEL\\n \\n VERHAFTUNG · GESPRÄCH MIT ...  Kafka      Prozess   \n",
      "8  THE STOKER\\n As the seventeen-year-old Karl Ro...  Kafka      Amerika   \n",
      "\n",
      "  language                                      prepared_text  \\\n",
      "0       de  [Heizer, sechzehnjährig, Karl, Roßmann, arm, E...   \n",
      "1       en  [Chapter, One, Arrest, Conversation, with, Mrs...   \n",
      "2       de  [Spätabend, ankommen, Dorf, liegen, tief, Schn...   \n",
      "3       de  [Gregor, Samsa, Morgen, unruhig, Traum, erwach...   \n",
      "4       DE  [THE, BEGINNING, the, myth, God, His, Search, ...   \n",
      "5       en  [Arrival, It, Late, evening, when, arrived, Th...   \n",
      "6       en  [One, morning, when, Gregor, Samsa, woke, From...   \n",
      "7       de  [erster, KAPITEL, VERHAFTUNG, GESPRÄCH, FRAU, ...   \n",
      "8       en  [THE, STOKER, As, the, Karl, Rossmann, Who, ha...   \n",
      "\n",
      "                                               graph  node_count  edge_count  \\\n",
      "0  (Heizer, sechzehnjährig, Karl, Roßmann, arm, E...        7004       35071   \n",
      "1  (Chapter, One, Arrest, Conversation, with, Mrs...        4768       35307   \n",
      "2  (Spätabend, ankommen, Dorf, liegen, tief, Schn...        6981       39973   \n",
      "3  (Gregor, Samsa, Morgen, unruhig, Traum, erwach...        2754        8332   \n",
      "4  (THE, BEGINNING, the, myth, God, His, Search, ...        2130        5016   \n",
      "5  (Arrival, It, Late, evening, when, arrived, Th...        6359       50782   \n",
      "6  (One, morning, when, Gregor, Samsa, woke, From...        2590       12510   \n",
      "7  (erster, KAPITEL, VERHAFTUNG, GESPRÄCH, FRAU, ...        5404       27055   \n",
      "8  (THE, STOKER, As, the, Karl, Rossmann, Who, ha...        6993       44229   \n",
      "\n",
      "                                         degree_list  powerlaw_alpha_value  \\\n",
      "0  [149, 2, 1135, 67, 10, 36, 55, 20, 6, 5, 59, 1...              2.547158   \n",
      "1  [18, 185, 37, 2, 444, 37, 46, 58, 53, 57, 8, 4...              2.119249   \n",
      "2  [1, 21, 137, 152, 71, 59, 9, 7, 424, 6, 18, 8,...              2.157721   \n",
      "3  [350, 35, 21, 6, 8, 4, 18, 58, 4, 2, 2, 49, 2,...              2.509210   \n",
      "4  [1, 2, 378, 2, 12, 63, 2, 57, 4, 10, 250, 2, 2...              2.376179   \n",
      "5  [1, 256, 23, 36, 185, 20, 332, 89, 42, 22, 40,...              2.149242   \n",
      "6  [70, 25, 57, 261, 34, 3, 130, 2, 4, 338, 21, 1...              2.209856   \n",
      "7  [3, 19, 2, 2, 2, 2, 3, 3, 49, 149, 35, 2, 4, 1...              2.417523   \n",
      "8  [9, 2, 512, 2134, 760, 57, 287, 491, 233, 28, ...              2.065657   \n",
      "\n",
      "   powerlaw_xmin_value  \n",
      "0                 40.0  \n",
      "1                 20.0  \n",
      "2                 16.0  \n",
      "3                 10.0  \n",
      "4                 10.0  \n",
      "5                 34.0  \n",
      "6                 13.0  \n",
      "7                 25.0  \n",
      "8                  8.0  \n"
     ]
    },
    {
     "name": "stderr",
     "output_type": "stream",
     "text": [
      "Calculating best minimal value for power law fit\n",
      "/opt/anaconda3/lib/python3.12/site-packages/powerlaw.py:699: RuntimeWarning: invalid value encountered in divide\n",
      "  (CDF_diff**2) /\n",
      "Calculating best minimal value for power law fit\n",
      "Calculating best minimal value for power law fit\n",
      "Calculating best minimal value for power law fit\n",
      "Calculating best minimal value for power law fit\n",
      "Calculating best minimal value for power law fit\n",
      "Calculating best minimal value for power law fit\n",
      "Calculating best minimal value for power law fit\n",
      "Calculating best minimal value for power law fit\n"
     ]
    }
   ],
   "execution_count": 329
  }
 ],
 "metadata": {
  "kernelspec": {
   "display_name": "Python (komplNetzeEnv",
   "language": "python",
   "name": "jupyterkomplnetze"
  },
  "language_info": {
   "codemirror_mode": {
    "name": "ipython",
    "version": 3
   },
   "file_extension": ".py",
   "mimetype": "text/x-python",
   "name": "python",
   "nbconvert_exporter": "python",
   "pygments_lexer": "ipython3",
   "version": "3.12.3"
  }
 },
 "nbformat": 4,
 "nbformat_minor": 5
}
