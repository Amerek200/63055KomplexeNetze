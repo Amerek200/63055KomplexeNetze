{
 "cells": [
  {
   "cell_type": "markdown",
   "id": "a28680df2df1ec9",
   "metadata": {},
   "source": [
    "### Imports"
   ]
  },
  {
   "cell_type": "code",
   "id": "initial_id",
   "metadata": {
    "ExecuteTime": {
     "end_time": "2025-06-10T13:44:09.772113Z",
     "start_time": "2025-06-10T13:44:09.755760Z"
    }
   },
   "source": [
    "from importlib import reload\n",
    "from itertools import chain\n",
    "\n",
    "import pandas as pd\n",
    "import numpy as np\n",
    "import networkx as nx\n",
    "import scipy\n",
    "\n",
    "from os import listdir\n",
    "from os.path import isfile, join\n",
    "\n",
    "# Importieren und neu laden (damit aktuelle Änderungen übernommen werden)\n",
    "from helper import graph_analyzer, text_preprocesser\n",
    "reload(text_preprocesser)\n",
    "reload(graph_analyzer)\n",
    "\n",
    "\n",
    "from helper.text_preprocesser import prepareText, convert_preprocessed_tokens_to_graph\n",
    "from helper.graph_analyzer import parallelGetDistanceMeasures, parallel_get_betweenness_list"
   ],
   "outputs": [],
   "execution_count": 294
  },
  {
   "cell_type": "markdown",
   "id": "9e89293a435834c1",
   "metadata": {},
   "source": [
    "### Optionen setzen"
   ]
  },
  {
   "cell_type": "code",
   "id": "c3e5119ec4e7a27",
   "metadata": {
    "ExecuteTime": {
     "end_time": "2025-06-10T13:44:09.807128Z",
     "start_time": "2025-06-10T13:44:09.804397Z"
    }
   },
   "source": [
    "PARALLEL = False\n",
    "nx.config.backends.parallel.active = True\n",
    "nx.config.backends.parallel.n_jobs = 4\n",
    "print(nx.config)"
   ],
   "outputs": [
    {
     "name": "stdout",
     "output_type": "stream",
     "text": [
      "NetworkXConfig(backend_priority=BackendPriorities(algos=[], generators=[]), backends=Config(parallel=ParallelConfig(active=True, backend='loky', n_jobs=4, verbose=0, temp_folder=None, max_nbytes='1M', mmap_mode='r', prefer=None, require=None, inner_max_num_threads=None, backend_params={})), cache_converted_graphs=True, fallback_to_nx=False, warnings_to_ignore=set())\n"
     ]
    }
   ],
   "execution_count": 295
  },
  {
   "cell_type": "markdown",
   "id": "5d747da102a04f1f",
   "metadata": {},
   "source": [
    "### Dateipfade laden"
   ]
  },
  {
   "cell_type": "code",
   "id": "8cb24543676e765c",
   "metadata": {
    "ExecuteTime": {
     "end_time": "2025-06-10T13:44:09.858266Z",
     "start_time": "2025-06-10T13:44:09.853766Z"
    }
   },
   "source": [
    "# Allgemeiner Pfad zu den Daten\n",
    "DATA_PATH = \"data/input/\"\n",
    "\n",
    "# Liste mit Dateinamen von Büchern\n",
    "file_name_list = [f for f in listdir(DATA_PATH) if isfile(join(DATA_PATH, f))]\n",
    "\n",
    "# Liste mit Inhalten von Dateien\n",
    "file_content_list = [\" \".join(open(join(DATA_PATH, f)).readlines()) for f in file_name_list]\n"
   ],
   "outputs": [],
   "execution_count": 296
  },
  {
   "cell_type": "markdown",
   "id": "4e806c9cb334c645",
   "metadata": {},
   "source": [
    "### Dataframe mit Dateinamen und Inhalt befüllen"
   ]
  },
  {
   "cell_type": "code",
   "id": "a042c30999b50a3e",
   "metadata": {
    "ExecuteTime": {
     "end_time": "2025-06-10T13:44:09.896722Z",
     "start_time": "2025-06-10T13:44:09.892925Z"
    }
   },
   "source": [
    "# Tabelle erstellen mit Spalten \"title\" und \"content\"\n",
    "df = pd.DataFrame({'title': file_name_list, 'content': file_content_list})\n"
   ],
   "outputs": [],
   "execution_count": 297
  },
  {
   "cell_type": "markdown",
   "id": "acd741ebfb26e80a",
   "metadata": {},
   "source": [
    "### Text vorbereiten und Graphen erstellen"
   ]
  },
  {
   "cell_type": "code",
   "id": "f17fae84e6747569",
   "metadata": {
    "ExecuteTime": {
     "end_time": "2025-06-10T13:44:09.936232Z",
     "start_time": "2025-06-10T13:44:09.926891Z"
    }
   },
   "source": [
    "df[\"prepared_text\"] = df[\"content\"].apply(prepareText)\n",
    "\n",
    "df[\"graph\"] = df[\"prepared_text\"].apply(convert_preprocessed_tokens_to_graph)"
   ],
   "outputs": [],
   "execution_count": 298
  },
  {
   "cell_type": "markdown",
   "id": "6ff579f7c571b267",
   "metadata": {},
   "source": [
    "### Metriken berechnen"
   ]
  },
  {
   "cell_type": "code",
   "id": "21e315e88630fd7c",
   "metadata": {
    "ExecuteTime": {
     "end_time": "2025-06-10T13:44:18.136032Z",
     "start_time": "2025-06-10T13:44:09.958176Z"
    }
   },
   "source": [
    "\n",
    "# Basismetriken: Knotenanzahl und Kantenanzahl\n",
    "df[\"node_count\"] = df[\"graph\"].apply(lambda g: len(g.nodes))\n",
    "df[\"edge_count\"] = df[\"graph\"].apply(lambda g: len(g.edges))\n",
    "\n",
    "# Knotengrade\n",
    "df[\"degree_list\"] = df[\"graph\"].apply(lambda g: np.array([deg for node, deg in g.degree ]))\n",
    "# Alternative von ChatGPT: dataframe[\"degree_list\"] = dataframe[\"graph\"].apply(lambda g: np.fromiter(dict(g.degree).values(), dtype=float))\n",
    "df[\"average_degree\"] = df[\"degree_list\"].apply(lambda degree_list: np.mean(degree_list))\n",
    "df[\"median_degree\"] = df[\"degree_list\"].apply(lambda degree_list: np.median(degree_list))\n",
    "\n",
    "# Falls eingeschaltet: Parallele Berechnungen\n",
    "if PARALLEL:\n",
    "    distance_measures = df[\"graph\"].apply(parallelGetDistanceMeasures).apply(pd.Series)\n",
    "    df[[\"diameter\", \"average_distance\"]] = distance_measures\n",
    "    df[\"betweenness_list\"] = df[\"graph\"].apply(parallel_get_betweenness_list)\n",
    "\n",
    "# Ansonsten (NICHT parallel)\n",
    "else:\n",
    "    df[\"diameter\"] = df[\"graph\"].apply(lambda g: nx.diameter(g))\n",
    "    df[\"average_distance\"] = df[\"graph\"].apply(lambda g: nx.average_shortest_path_length(g))\n",
    "    df[\"betweenness_list\"] = df[\"graph\"].apply(lambda g : np.array( list(nx.betweenness_centrality(g).values()) ))\n",
    "\n",
    "# Parameter Lambda der Exponentialverteilung bestimmen\n",
    "# TODO: Besseren Name wählen\n",
    "df[\"lambda\"] = df[\"degree_list\"].apply(lambda d: 1 / scipy.stats.expon.fit(d)[1])\n",
    "\n",
    "# Betweenness aus Liste der Einzelwerte\n",
    "df[\"betweenness_min\"] = df[\"betweenness_list\"].apply(np.min)\n",
    "df[\"betweenness_max\"] = df[\"betweenness_list\"].apply(np.max)\n",
    "df[\"betweenness_average\"] = df[\"betweenness_list\"].apply(np.mean)\n",
    "df[\"betweenness_standard_deviation\"] = df[\"betweenness_list\"].apply(np.std)\n",
    "\n",
    "\n",
    "# Clustering\n",
    "df[\"average_clustering\"] = df[\"graph\"].apply(lambda g: nx.average_clustering(g))\n",
    "\n",
    "\n"
   ],
   "outputs": [],
   "execution_count": 299
  },
  {
   "cell_type": "markdown",
   "id": "9d6abf47b0fde5b8",
   "metadata": {},
   "source": [
    "### Speichern der Tabelle in Datei"
   ]
  },
  {
   "cell_type": "code",
   "id": "31b3b4be4d2fb7f0",
   "metadata": {
    "ExecuteTime": {
     "end_time": "2025-06-10T13:44:18.179593Z",
     "start_time": "2025-06-10T13:44:18.169315Z"
    }
   },
   "source": [
    "attributes_visible_in_file = [\n",
    "    \"title\",\n",
    "    \"node_count\",\n",
    "    \"edge_count\",\n",
    "    \"average_degree\",\n",
    "    \"median_degree\",\n",
    "    \"diameter\",\n",
    "    \"average_distance\",\n",
    "    \"betweenness_min\",\n",
    "    \"betweenness_max\",\n",
    "    \"betweenness_average\",\n",
    "    \"betweenness_standard_deviation\",\n",
    "    \"average_clustering\"\n",
    "]\n",
    "\n",
    "df[attributes_visible_in_file].to_csv(\"data/output/output.csv\", index=False)"
   ],
   "outputs": [],
   "execution_count": 300
  },
  {
   "metadata": {
    "ExecuteTime": {
     "end_time": "2025-06-10T12:25:52.536549Z",
     "start_time": "2025-06-10T12:25:44.078599Z"
    }
   },
   "cell_type": "code",
   "source": [
    "all_tokens = list(chain.from_iterable(dataframe[\"prepared_text\"]))\n",
    "\n",
    "row = {c: None for c in dataframe.columns}\n",
    "row.update({\n",
    "    \"title\": \"combined_text\",\n",
    "    \"prepared_text\": all_tokens,\n",
    "    \"graph\": convert_preprocessed_tokens_to_graph(all_tokens),\n",
    "})\n",
    "\n",
    "dataframe = pd.concat([dataframe, pd.DataFrame([row])], ignore_index=True)\n",
    "calculate_metrics(dataframe, rows=[len(dataframe) - 1], parallel=PARALLEL)\n"
   ],
   "id": "67b378b2a9a80768",
   "outputs": [
    {
     "name": "stderr",
     "output_type": "stream",
     "text": [
      "/var/folders/1b/4rzm4lxn2rl2qs92rlgd_4m80000gp/T/ipykernel_26510/228690055.py:10: FutureWarning: The behavior of DataFrame concatenation with empty or all-NA entries is deprecated. In a future version, this will no longer exclude empty or all-NA columns when determining the result dtypes. To retain the old behavior, exclude the relevant entries before the concat operation.\n",
      "  dataframe = pd.concat([dataframe, pd.DataFrame([row])], ignore_index=True)\n",
      "/var/folders/1b/4rzm4lxn2rl2qs92rlgd_4m80000gp/T/ipykernel_26510/3655638375.py:7: SettingWithCopyWarning: \n",
      "A value is trying to be set on a copy of a slice from a DataFrame.\n",
      "Try using .loc[row_indexer,col_indexer] = value instead\n",
      "\n",
      "See the caveats in the documentation: https://pandas.pydata.org/pandas-docs/stable/user_guide/indexing.html#returning-a-view-versus-a-copy\n",
      "  df[\"node_count\"] = df[\"graph\"].apply(lambda g: len(g.nodes))\n",
      "/var/folders/1b/4rzm4lxn2rl2qs92rlgd_4m80000gp/T/ipykernel_26510/3655638375.py:8: SettingWithCopyWarning: \n",
      "A value is trying to be set on a copy of a slice from a DataFrame.\n",
      "Try using .loc[row_indexer,col_indexer] = value instead\n",
      "\n",
      "See the caveats in the documentation: https://pandas.pydata.org/pandas-docs/stable/user_guide/indexing.html#returning-a-view-versus-a-copy\n",
      "  df[\"edge_count\"] = df[\"graph\"].apply(lambda g: len(g.edges))\n",
      "/var/folders/1b/4rzm4lxn2rl2qs92rlgd_4m80000gp/T/ipykernel_26510/3655638375.py:11: SettingWithCopyWarning: \n",
      "A value is trying to be set on a copy of a slice from a DataFrame.\n",
      "Try using .loc[row_indexer,col_indexer] = value instead\n",
      "\n",
      "See the caveats in the documentation: https://pandas.pydata.org/pandas-docs/stable/user_guide/indexing.html#returning-a-view-versus-a-copy\n",
      "  df[\"degree_list\"] = df[\"graph\"].apply(lambda g: np.array([deg for node, deg in g.degree ]))\n",
      "/var/folders/1b/4rzm4lxn2rl2qs92rlgd_4m80000gp/T/ipykernel_26510/3655638375.py:13: SettingWithCopyWarning: \n",
      "A value is trying to be set on a copy of a slice from a DataFrame.\n",
      "Try using .loc[row_indexer,col_indexer] = value instead\n",
      "\n",
      "See the caveats in the documentation: https://pandas.pydata.org/pandas-docs/stable/user_guide/indexing.html#returning-a-view-versus-a-copy\n",
      "  df[\"average_degree\"] = df[\"degree_list\"].apply(lambda degree_list: np.mean(degree_list))\n",
      "/var/folders/1b/4rzm4lxn2rl2qs92rlgd_4m80000gp/T/ipykernel_26510/3655638375.py:14: SettingWithCopyWarning: \n",
      "A value is trying to be set on a copy of a slice from a DataFrame.\n",
      "Try using .loc[row_indexer,col_indexer] = value instead\n",
      "\n",
      "See the caveats in the documentation: https://pandas.pydata.org/pandas-docs/stable/user_guide/indexing.html#returning-a-view-versus-a-copy\n",
      "  df[\"median_degree\"] = df[\"degree_list\"].apply(lambda degree_list: np.median(degree_list))\n",
      "/var/folders/1b/4rzm4lxn2rl2qs92rlgd_4m80000gp/T/ipykernel_26510/3655638375.py:24: SettingWithCopyWarning: \n",
      "A value is trying to be set on a copy of a slice from a DataFrame.\n",
      "Try using .loc[row_indexer,col_indexer] = value instead\n",
      "\n",
      "See the caveats in the documentation: https://pandas.pydata.org/pandas-docs/stable/user_guide/indexing.html#returning-a-view-versus-a-copy\n",
      "  df[\"diameter\"] = df[\"graph\"].apply(lambda g: nx.diameter(g))\n",
      "/var/folders/1b/4rzm4lxn2rl2qs92rlgd_4m80000gp/T/ipykernel_26510/3655638375.py:25: SettingWithCopyWarning: \n",
      "A value is trying to be set on a copy of a slice from a DataFrame.\n",
      "Try using .loc[row_indexer,col_indexer] = value instead\n",
      "\n",
      "See the caveats in the documentation: https://pandas.pydata.org/pandas-docs/stable/user_guide/indexing.html#returning-a-view-versus-a-copy\n",
      "  df[\"average_distance\"] = df[\"graph\"].apply(lambda g: nx.average_shortest_path_length(g))\n",
      "/var/folders/1b/4rzm4lxn2rl2qs92rlgd_4m80000gp/T/ipykernel_26510/3655638375.py:26: SettingWithCopyWarning: \n",
      "A value is trying to be set on a copy of a slice from a DataFrame.\n",
      "Try using .loc[row_indexer,col_indexer] = value instead\n",
      "\n",
      "See the caveats in the documentation: https://pandas.pydata.org/pandas-docs/stable/user_guide/indexing.html#returning-a-view-versus-a-copy\n",
      "  df[\"betweenness_list\"] = df[\"graph\"].apply(lambda g : np.array( list(nx.betweenness_centrality(g).values()) ))\n",
      "/var/folders/1b/4rzm4lxn2rl2qs92rlgd_4m80000gp/T/ipykernel_26510/3655638375.py:30: SettingWithCopyWarning: \n",
      "A value is trying to be set on a copy of a slice from a DataFrame.\n",
      "Try using .loc[row_indexer,col_indexer] = value instead\n",
      "\n",
      "See the caveats in the documentation: https://pandas.pydata.org/pandas-docs/stable/user_guide/indexing.html#returning-a-view-versus-a-copy\n",
      "  df[\"lambda\"] = df[\"degree_list\"].apply(lambda d: 1 / scipy.stats.expon.fit(d)[1])\n",
      "/var/folders/1b/4rzm4lxn2rl2qs92rlgd_4m80000gp/T/ipykernel_26510/3655638375.py:33: SettingWithCopyWarning: \n",
      "A value is trying to be set on a copy of a slice from a DataFrame.\n",
      "Try using .loc[row_indexer,col_indexer] = value instead\n",
      "\n",
      "See the caveats in the documentation: https://pandas.pydata.org/pandas-docs/stable/user_guide/indexing.html#returning-a-view-versus-a-copy\n",
      "  df[\"betweenness_min\"] = df[\"betweenness_list\"].apply(np.min)\n",
      "/var/folders/1b/4rzm4lxn2rl2qs92rlgd_4m80000gp/T/ipykernel_26510/3655638375.py:34: SettingWithCopyWarning: \n",
      "A value is trying to be set on a copy of a slice from a DataFrame.\n",
      "Try using .loc[row_indexer,col_indexer] = value instead\n",
      "\n",
      "See the caveats in the documentation: https://pandas.pydata.org/pandas-docs/stable/user_guide/indexing.html#returning-a-view-versus-a-copy\n",
      "  df[\"betweenness_max\"] = df[\"betweenness_list\"].apply(np.max)\n",
      "/var/folders/1b/4rzm4lxn2rl2qs92rlgd_4m80000gp/T/ipykernel_26510/3655638375.py:35: SettingWithCopyWarning: \n",
      "A value is trying to be set on a copy of a slice from a DataFrame.\n",
      "Try using .loc[row_indexer,col_indexer] = value instead\n",
      "\n",
      "See the caveats in the documentation: https://pandas.pydata.org/pandas-docs/stable/user_guide/indexing.html#returning-a-view-versus-a-copy\n",
      "  df[\"betweenness_average\"] = df[\"betweenness_list\"].apply(np.mean)\n",
      "/var/folders/1b/4rzm4lxn2rl2qs92rlgd_4m80000gp/T/ipykernel_26510/3655638375.py:36: SettingWithCopyWarning: \n",
      "A value is trying to be set on a copy of a slice from a DataFrame.\n",
      "Try using .loc[row_indexer,col_indexer] = value instead\n",
      "\n",
      "See the caveats in the documentation: https://pandas.pydata.org/pandas-docs/stable/user_guide/indexing.html#returning-a-view-versus-a-copy\n",
      "  df[\"betweenness_standard_deviation\"] = df[\"betweenness_list\"].apply(np.std)\n",
      "/var/folders/1b/4rzm4lxn2rl2qs92rlgd_4m80000gp/T/ipykernel_26510/3655638375.py:40: SettingWithCopyWarning: \n",
      "A value is trying to be set on a copy of a slice from a DataFrame.\n",
      "Try using .loc[row_indexer,col_indexer] = value instead\n",
      "\n",
      "See the caveats in the documentation: https://pandas.pydata.org/pandas-docs/stable/user_guide/indexing.html#returning-a-view-versus-a-copy\n",
      "  df[\"average_clustering\"] = df[\"graph\"].apply(lambda g: nx.average_clustering(g))\n"
     ]
    },
    {
     "data": {
      "text/plain": [
       "           title content                                      prepared_text  \\\n",
       "2  combined_text    None  [in, the, beginning, was, the, myth, god, in, ...   \n",
       "\n",
       "                                               graph  node_count  edge_count  \\\n",
       "2  (in, the, beginning, was, myth, god, His, Sear...        2190        5249   \n",
       "\n",
       "                                         degree_list  average_degree  \\\n",
       "2  [143, 370, 3, 95, 2, 8, 60, 2, 57, 2, 4, 10, 2...        4.793607   \n",
       "\n",
       "   median_degree  diameter  average_distance  \\\n",
       "2            2.0        10          3.348667   \n",
       "\n",
       "                                    betweenness_list    lambda  \\\n",
       "2  [0.1068067996628173, 0.2198904277169819, 5.739...  0.263601   \n",
       "\n",
       "   betweenness_min  betweenness_max  betweenness_average  \\\n",
       "2              0.0         0.308576             0.001073   \n",
       "\n",
       "   betweenness_standard_deviation  average_clustering  \n",
       "2                         0.00974            0.204184  "
      ],
      "text/html": [
       "<div>\n",
       "<style scoped>\n",
       "    .dataframe tbody tr th:only-of-type {\n",
       "        vertical-align: middle;\n",
       "    }\n",
       "\n",
       "    .dataframe tbody tr th {\n",
       "        vertical-align: top;\n",
       "    }\n",
       "\n",
       "    .dataframe thead th {\n",
       "        text-align: right;\n",
       "    }\n",
       "</style>\n",
       "<table border=\"1\" class=\"dataframe\">\n",
       "  <thead>\n",
       "    <tr style=\"text-align: right;\">\n",
       "      <th></th>\n",
       "      <th>title</th>\n",
       "      <th>content</th>\n",
       "      <th>prepared_text</th>\n",
       "      <th>graph</th>\n",
       "      <th>node_count</th>\n",
       "      <th>edge_count</th>\n",
       "      <th>degree_list</th>\n",
       "      <th>average_degree</th>\n",
       "      <th>median_degree</th>\n",
       "      <th>diameter</th>\n",
       "      <th>average_distance</th>\n",
       "      <th>betweenness_list</th>\n",
       "      <th>lambda</th>\n",
       "      <th>betweenness_min</th>\n",
       "      <th>betweenness_max</th>\n",
       "      <th>betweenness_average</th>\n",
       "      <th>betweenness_standard_deviation</th>\n",
       "      <th>average_clustering</th>\n",
       "    </tr>\n",
       "  </thead>\n",
       "  <tbody>\n",
       "    <tr>\n",
       "      <th>2</th>\n",
       "      <td>combined_text</td>\n",
       "      <td>None</td>\n",
       "      <td>[in, the, beginning, was, the, myth, god, in, ...</td>\n",
       "      <td>(in, the, beginning, was, myth, god, His, Sear...</td>\n",
       "      <td>2190</td>\n",
       "      <td>5249</td>\n",
       "      <td>[143, 370, 3, 95, 2, 8, 60, 2, 57, 2, 4, 10, 2...</td>\n",
       "      <td>4.793607</td>\n",
       "      <td>2.0</td>\n",
       "      <td>10</td>\n",
       "      <td>3.348667</td>\n",
       "      <td>[0.1068067996628173, 0.2198904277169819, 5.739...</td>\n",
       "      <td>0.263601</td>\n",
       "      <td>0.0</td>\n",
       "      <td>0.308576</td>\n",
       "      <td>0.001073</td>\n",
       "      <td>0.00974</td>\n",
       "      <td>0.204184</td>\n",
       "    </tr>\n",
       "  </tbody>\n",
       "</table>\n",
       "</div>"
      ]
     },
     "execution_count": 280,
     "metadata": {},
     "output_type": "execute_result"
    }
   ],
   "execution_count": 280
  }
 ],
 "metadata": {
  "kernelspec": {
   "display_name": "Python (komplNetzeEnv",
   "language": "python",
   "name": "jupyterkomplnetze"
  },
  "language_info": {
   "codemirror_mode": {
    "name": "ipython",
    "version": 3
   },
   "file_extension": ".py",
   "mimetype": "text/x-python",
   "name": "python",
   "nbconvert_exporter": "python",
   "pygments_lexer": "ipython3",
   "version": "3.12.3"
  }
 },
 "nbformat": 4,
 "nbformat_minor": 5
}
