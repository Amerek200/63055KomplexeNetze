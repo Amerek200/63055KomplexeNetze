{
 "cells": [
  {
   "cell_type": "markdown",
   "id": "a28680df2df1ec9",
   "metadata": {},
   "source": [
    "### Imports"
   ]
  },
  {
   "cell_type": "code",
   "execution_count": 18,
   "id": "initial_id",
   "metadata": {
    "ExecuteTime": {
     "end_time": "2025-06-18T14:26:03.119938Z",
     "start_time": "2025-06-18T14:26:03.107737Z"
    }
   },
   "outputs": [],
   "source": [
    "from importlib import reload\n",
    "from itertools import chain\n",
    "\n",
    "import pandas as pd\n",
    "import numpy as np\n",
    "import networkx as nx\n",
    "import nx_parallel as nxp\n",
    "import scipy\n",
    "\n",
    "from os import listdir\n",
    "from os.path import isfile, join\n",
    "\n",
    "# Importieren und neu laden (damit aktuelle Änderungen übernommen werden)\n",
    "import config\n",
    "from helper import graph_analyzer, file_preprocesser\n",
    "reload(config)\n",
    "reload(file_preprocesser)\n",
    "reload(graph_analyzer)\n",
    "\n",
    "\n",
    "from helper.file_preprocesser import prepare_text, prepare_text_with_libraries, convert_preprocessed_tokens_to_graph, extract_metadata_from_file_name\n",
    "from helper.graph_analyzer import parallel_get_distance_measures, parallel_get_betweenness_list, get_powerlaw_result, approx_exponent_first_five_groups\n",
    "import config"
   ]
  },
  {
   "cell_type": "markdown",
   "id": "9e89293a435834c1",
   "metadata": {},
   "source": [
    "### Optionen laden"
   ]
  },
  {
   "cell_type": "code",
   "execution_count": 13,
   "id": "c3e5119ec4e7a27",
   "metadata": {
    "ExecuteTime": {
     "end_time": "2025-06-18T14:26:03.142558Z",
     "start_time": "2025-06-18T14:26:03.140271Z"
    }
   },
   "outputs": [],
   "source": [
    "# Auslagern in config?\n",
    "nx.config.backends.parallel.active = config.PARALLEL\n",
    "nx.config.backends.parallel.n_jobs = config.N_JOBS"
   ]
  },
  {
   "cell_type": "markdown",
   "id": "5d747da102a04f1f",
   "metadata": {},
   "source": [
    "### Dateipfade laden"
   ]
  },
  {
   "cell_type": "code",
   "execution_count": 14,
   "id": "8cb24543676e765c",
   "metadata": {
    "ExecuteTime": {
     "end_time": "2025-06-18T14:26:03.231182Z",
     "start_time": "2025-06-18T14:26:03.156632Z"
    }
   },
   "outputs": [],
   "source": [
    "# Liste mit Dateinamen von Büchern\n",
    "file_name_list = [f for f in listdir(config.DATA_PATH) if isfile(join(config.DATA_PATH, f))]\n",
    "\n",
    "# Liste mit Inhalten von Dateien\n",
    "file_content_list = [\" \".join(open(join(config.DATA_PATH, f)).readlines()) for f in file_name_list]\n"
   ]
  },
  {
   "cell_type": "markdown",
   "id": "4e806c9cb334c645",
   "metadata": {},
   "source": [
    "### Dataframe mit Dateinamen und Inhalt befüllen"
   ]
  },
  {
   "cell_type": "code",
   "execution_count": null,
   "id": "a042c30999b50a3e",
   "metadata": {
    "ExecuteTime": {
     "end_time": "2025-06-18T14:26:03.302909Z",
     "start_time": "2025-06-18T14:26:03.245808Z"
    }
   },
   "outputs": [],
   "source": [
    "# Tabelle erstellen mit Spalten \"title\" und \"content\"\n",
    "df = pd.DataFrame({'file_name': file_name_list, 'file_content': file_content_list})\n",
    "\n",
    "file_metadata = df[\"file_name\"].apply(extract_metadata_from_file_name).apply(pd.Series)\n",
    "\n",
    "df[[\"author\", \"title\", \"language\"]] = file_metadata\n",
    "\n",
    "print(df)"
   ]
  },
  {
   "cell_type": "markdown",
   "id": "acd741ebfb26e80a",
   "metadata": {},
   "source": [
    "### Text vorbereiten, Graphen erstellen und Infos in Dataframe schreiben"
   ]
  },
  {
   "cell_type": "code",
   "execution_count": 16,
   "id": "f17fae84e6747569",
   "metadata": {
    "ExecuteTime": {
     "end_time": "2025-06-18T14:26:11.316321Z",
     "start_time": "2025-06-18T14:26:03.317202Z"
    }
   },
   "outputs": [],
   "source": [
    "df[\"token_list\"] = df.apply(\n",
    "    lambda row : prepare_text_with_libraries(\n",
    "        row[\"file_content\"], \n",
    "        remove_stopwords=config.REMOVE_STOPWORDS, \n",
    "        language=row[\"language\"]\n",
    "    ), \n",
    "    axis=1\n",
    ")\n",
    "\n",
    "df[\"fixed_token_count\"] = config.FIXED_TOKEN_COUNT\n",
    "if config.FIXED_TOKEN_COUNT > 0:\n",
    "    df[\"token_list\"] = df[\"token_list\"].apply(lambda token_list: token_list[:config.FIXED_TOKEN_COUNT])\n",
    "\n",
    "df[\"token_list_length\"] = df[\"token_list\"].apply(lambda text: len(text))\n",
    "\n",
    "# Graph erstellen\n",
    "df[\"graph\"] = df[\"token_list\"].apply(lambda g: convert_preprocessed_tokens_to_graph(g, config.LINK_DISTANCE))\n",
    "\n",
    "# Infos in df schreiben\n",
    "df[\"stopwords_removed\"] = config.REMOVE_STOPWORDS\n",
    "df[\"link_distance\"] = config.LINK_DISTANCE"
   ]
  },
  {
   "cell_type": "markdown",
   "id": "6ff579f7c571b267",
   "metadata": {},
   "source": [
    "### Metriken des Netzwerks berechnen"
   ]
  },
  {
   "cell_type": "code",
   "execution_count": null,
   "id": "21e315e88630fd7c",
   "metadata": {
    "ExecuteTime": {
     "end_time": "2025-06-18T14:26:11.383733Z",
     "start_time": "2025-06-18T14:26:11.336136Z"
    }
   },
   "outputs": [],
   "source": [
    "# Basismetriken: Knotenanzahl und Kantenanzahl\n",
    "df[\"node_count\"] = df[\"graph\"].apply(lambda g: len(g.nodes))\n",
    "df[\"edge_count\"] = df[\"graph\"].apply(lambda g: len(g.edges))\n",
    "\n",
    "# Knotengrade\n",
    "df[\"degree_list\"] = df[\"graph\"].apply(lambda g: np.array([deg for node, deg in g.degree ]))\n",
    "\n",
    "\n",
    "# Alternative von ChatGPT: dataframe[\"degree_list\"] = dataframe[\"graph\"].apply(lambda g: np.fromiter(dict(g.degree).values(), dtype=float))\n",
    "df[\"average_degree\"] = df[\"degree_list\"].apply(lambda degree_list: np.mean(degree_list))\n",
    "df[\"median_degree\"] = df[\"degree_list\"].apply(lambda degree_list: np.median(degree_list))\n",
    "\n",
    "# Falls eingeschaltet: Parallele Berechnungen\n",
    "if config.PARALLEL:\n",
    "    distance_measures = df[\"graph\"].apply(parallel_get_distance_measures).apply(pd.Series)\n",
    "    df[[\"diameter\", \"average_distance\"]] = distance_measures\n",
    "    df[\"betweenness_list\"] = df[\"graph\"].apply(parallel_get_betweenness_list)\n",
    "\n",
    "# Ansonsten (NICHT parallel)\n",
    "else:\n",
    "    df[\"diameter\"] = df[\"graph\"].apply(lambda g: nx.diameter(g))\n",
    "    df[\"average_distance\"] = df[\"graph\"].apply(lambda g: nx.average_shortest_path_length(g))\n",
    "    df[\"betweenness_list\"] = df[\"graph\"].apply(lambda g : np.array( list(nx.betweenness_centrality(g).values()) ))\n",
    "\n",
    "# powerlaw-Eigenschaften der Knotenverteilung bestimmen\n",
    "powerlaw_result = df[\"degree_list\"].apply(get_powerlaw_result).apply(pd.Series)\n",
    "df[[\"powerlaw_alpha_value\", \"powerlaw_xmin_value\"]] = powerlaw_result\n",
    "\n",
    "# Betweenness aus Liste der Einzelwerte\n",
    "df[\"betweenness_min\"] = df[\"betweenness_list\"].apply(np.min)\n",
    "df[\"betweenness_max\"] = df[\"betweenness_list\"].apply(np.max)\n",
    "df[\"betweenness_average\"] = df[\"betweenness_list\"].apply(np.mean)\n",
    "df[\"betweenness_standard_deviation\"] = df[\"betweenness_list\"].apply(np.std)\n",
    "\n",
    "# Clustering\n",
    "df[\"average_clustering\"] = df[\"graph\"].apply(lambda g: nx.average_clustering(g))\n",
    "\n",
    "#Assortativity\n",
    "df[\"assortativity_coefficient\"] = df[\"graph\"].apply(lambda g: nx.degree_assortativity_coefficient(g))\n",
    "\n",
    "#approximate degree distiribution for grouped degree values\n",
    "df[\"lin_reg_approximation\"] = df[\"graph\"].apply(lambda g: approx_exponent_first_five_groups(g).slope)\n"
   ]
  },
  {
   "cell_type": "markdown",
   "id": "9d6abf47b0fde5b8",
   "metadata": {},
   "source": [
    "### Speichern der Tabelle in Datei"
   ]
  },
  {
   "cell_type": "code",
   "execution_count": 19,
   "id": "31b3b4be4d2fb7f0",
   "metadata": {
    "ExecuteTime": {
     "end_time": "2025-06-18T14:26:11.401842Z",
     "start_time": "2025-06-18T14:26:11.395758Z"
    }
   },
   "outputs": [],
   "source": [
    "# Nur bestimmte Spalten sollen in Datei geschrieben werden\n",
    "df[config.ATTRIBUTES_VISIBLE_IN_FILE].to_csv(\"data/output/output_neu.csv\", index=False, mode=\"a\")"
   ]
  },
  {
   "cell_type": "markdown",
   "id": "f5f3dcb36b113b61",
   "metadata": {},
   "source": [
    "### Buch mit den wenigsten Wörtern finden"
   ]
  },
  {
   "cell_type": "code",
   "execution_count": 96,
   "id": "fc4bac29831ad83c",
   "metadata": {
    "ExecuteTime": {
     "end_time": "2025-06-18T14:26:11.420261Z",
     "start_time": "2025-06-18T14:26:11.415190Z"
    }
   },
   "outputs": [
    {
     "name": "stdout",
     "output_type": "stream",
     "text": [
      "file_name                                     Kafka_Verwandlung_de.txt\n",
      "file_content         Als Gregor Samsa eines Morgens aus unruhigen T...\n",
      "author                                                           Kafka\n",
      "title                                                      Verwandlung\n",
      "language                                                            de\n",
      "token_list           [als, Gregor, Samsa, ein, Morgen, aus, unruhig...\n",
      "token_list_length                                                18763\n",
      "graph                (als, Gregor, Samsa, ein, Morgen, aus, unruhig...\n",
      "stopwords_removed                                                False\n",
      "link_distance                                                        1\n",
      "node_count                                                        2854\n",
      "edge_count                                                       11742\n",
      "Name: 8, dtype: object\n"
     ]
    }
   ],
   "source": [
    "smallest_book_idx = df[\"token_list_length\"].idxmin()\n",
    "\n",
    "print(df.iloc[smallest_book_idx])\n",
    "\n"
   ]
  }
 ],
 "metadata": {
  "kernelspec": {
   "display_name": "Python (komplNetzeEnv",
   "language": "python",
   "name": "jupyterkomplnetze"
  },
  "language_info": {
   "codemirror_mode": {
    "name": "ipython",
    "version": 3
   },
   "file_extension": ".py",
   "mimetype": "text/x-python",
   "name": "python",
   "nbconvert_exporter": "python",
   "pygments_lexer": "ipython3",
   "version": "3.12.3"
  }
 },
 "nbformat": 4,
 "nbformat_minor": 5
}
