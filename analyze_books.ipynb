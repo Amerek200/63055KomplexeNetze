{
 "cells": [
  {
   "cell_type": "markdown",
   "id": "a28680df2df1ec9",
   "metadata": {},
   "source": [
    "### Imports"
   ]
  },
  {
   "cell_type": "code",
   "id": "initial_id",
   "metadata": {
    "ExecuteTime": {
     "end_time": "2025-06-18T14:26:03.119938Z",
     "start_time": "2025-06-18T14:26:03.107737Z"
    }
   },
   "source": [
    "from importlib import reload\n",
    "from itertools import chain\n",
    "\n",
    "import pandas as pd\n",
    "import numpy as np\n",
    "import networkx as nx\n",
    "import nx_parallel as nxp\n",
    "import scipy\n",
    "\n",
    "from os import listdir\n",
    "from os.path import isfile, join\n",
    "\n",
    "# Importieren und neu laden (damit aktuelle Änderungen übernommen werden)\n",
    "import config\n",
    "from helper import graph_analyzer, file_preprocesser\n",
    "reload(config)\n",
    "reload(file_preprocesser)\n",
    "reload(graph_analyzer)\n",
    "\n",
    "\n",
    "from helper.file_preprocesser import prepare_text, prepare_text_with_libraries, convert_preprocessed_tokens_to_graph, extract_metadata_from_file_name\n",
    "from helper.graph_analyzer import parallel_get_distance_measures, parallel_get_betweenness_list, get_powerlaw_result\n",
    "import config"
   ],
   "outputs": [],
   "execution_count": 89
  },
  {
   "cell_type": "markdown",
   "id": "9e89293a435834c1",
   "metadata": {},
   "source": "### Optionen laden"
  },
  {
   "cell_type": "code",
   "id": "c3e5119ec4e7a27",
   "metadata": {
    "ExecuteTime": {
     "end_time": "2025-06-18T14:26:03.142558Z",
     "start_time": "2025-06-18T14:26:03.140271Z"
    }
   },
   "source": [
    "# Auslagern in config?\n",
    "nx.config.backends.parallel.active = config.ACTIVE_PARALLEL\n",
    "nx.config.backends.parallel.n_jobs = config.N_JOBS"
   ],
   "outputs": [],
   "execution_count": 90
  },
  {
   "cell_type": "markdown",
   "id": "5d747da102a04f1f",
   "metadata": {},
   "source": [
    "### Dateipfade laden"
   ]
  },
  {
   "cell_type": "code",
   "id": "8cb24543676e765c",
   "metadata": {
    "ExecuteTime": {
     "end_time": "2025-06-18T14:26:03.231182Z",
     "start_time": "2025-06-18T14:26:03.156632Z"
    }
   },
   "source": [
    "# Liste mit Dateinamen von Büchern\n",
    "file_name_list = [f for f in listdir(config.DATA_PATH) if isfile(join(config.DATA_PATH, f))]\n",
    "\n",
    "# Liste mit Inhalten von Dateien\n",
    "file_content_list = [\" \".join(open(join(config.DATA_PATH, f)).readlines()) for f in file_name_list]\n"
   ],
   "outputs": [],
   "execution_count": 91
  },
  {
   "cell_type": "markdown",
   "id": "4e806c9cb334c645",
   "metadata": {},
   "source": [
    "### Dataframe mit Dateinamen und Inhalt befüllen"
   ]
  },
  {
   "cell_type": "code",
   "id": "a042c30999b50a3e",
   "metadata": {
    "ExecuteTime": {
     "end_time": "2025-06-18T14:26:03.302909Z",
     "start_time": "2025-06-18T14:26:03.245808Z"
    }
   },
   "source": [
    "# Tabelle erstellen mit Spalten \"title\" und \"content\"\n",
    "df = pd.DataFrame({'file_name': file_name_list, 'file_content': file_content_list})\n",
    "\n",
    "file_metadata = df[\"file_name\"].apply(extract_metadata_from_file_name).apply(pd.Series)\n",
    "\n",
    "df[[\"author\", \"title\", \"language\"]] = file_metadata\n",
    "\n",
    "print(df)"
   ],
   "outputs": [
    {
     "name": "stdout",
     "output_type": "stream",
     "text": [
      "                        file_name  \\\n",
      "0            Kafka_Amerika_de.txt   \n",
      "1          Hesse_Camenzind_de.txt   \n",
      "2              Austen_Anna_de.txt   \n",
      "3        Hesse_Steppenwolf_de.txt   \n",
      "4       Nietzsche_Jenseits_de.txt   \n",
      "5         Nietzsche_Geburt_en.txt   \n",
      "6            Kafka_Prozess_en.txt   \n",
      "7            Kafka_Schloss_de.txt   \n",
      "8        Kafka_Verwandlung_de.txt   \n",
      "9          Austen_Verstand_en.txt   \n",
      "10  Nietzsche_Menschliches_de.txt   \n",
      "11            Hesse_Demian_en.txt   \n",
      "12            Austen_Stolz_en.txt   \n",
      "13        Hesse_Siddhartha_en.txt   \n",
      "14       Nietzsche_Goetzen_de.txt   \n",
      "15        Austen_Mansfield_en.txt   \n",
      "16   Nietzsche_Zarathustra_de.txt   \n",
      "17            Austen_Stolz_de.txt   \n",
      "18        Hesse_Siddhartha_de.txt   \n",
      "19       Nietzsche_Goetzen_en.txt   \n",
      "20        Austen_Mansfield_de.txt   \n",
      "21   Nietzsche_Zarathustra_en.txt   \n",
      "22           Kafka_Schloss_en.txt   \n",
      "23       Kafka_Verwandlung_en.txt   \n",
      "24         Austen_Verstand_de.txt   \n",
      "25  Nietzsche_Menschliches_en.txt   \n",
      "26            Hesse_Demian_de.txt   \n",
      "27           Kafka_Prozess_de.txt   \n",
      "28           Kafka_Amerika_en.txt   \n",
      "29         Hesse_Camenzind_en.txt   \n",
      "30             Austen_Anna_en.txt   \n",
      "31       Hesse_Steppenwolf_en.txt   \n",
      "32      Nietzsche_Jenseits_en.txt   \n",
      "33        Nietzsche_Geburt_de.txt   \n",
      "\n",
      "                                         file_content     author  \\\n",
      "0   Der Heizer\\n Als der sechzehnjährige Karl Roßm...      Kafka   \n",
      "1   Im Anfang war der Mythus. Wie der große Gott i...      Hesse   \n",
      "2   Sir Walter Elliot, auf Kellynch-Hall in der Gr...     Austen   \n",
      "3   Dieses Buch enthält die uns gebliebenen Aufzei...      Hesse   \n",
      "4   Erstes Hauptstück:\\n \\n Von den Vorurtheilen d...  Nietzsche   \n",
      "5   \\n AN ATTEMPT AT SELF-CRITICISM.\\n \\n \\n \\n I....  Nietzsche   \n",
      "6   Chapter One\\n \\n Arrest--Conversation with Mrs...      Kafka   \n",
      "7   Es war spätabends, als K. ankam. Das Dorf lag ...      Kafka   \n",
      "8   Als Gregor Samsa eines Morgens aus unruhigen T...      Kafka   \n",
      "9   The family of Dashwood had been long settled i...     Austen   \n",
      "10  \\n Erstes Hauptstück.\\n \\n Von den ersten und ...  Nietzsche   \n",
      "11  I wanted only to try to live in obedience to t...      Hesse   \n",
      "12  It is a truth universally acknowledged, that a...     Austen   \n",
      "13  FIRST PART\\n \\n To Romain Rolland, my dear fri...      Hesse   \n",
      "14  \\n Sprüche und Pfeile.\\n \\n 1.\\n \\n Müssiggang...  Nietzsche   \n",
      "15  About thirty years ago, Miss Maria Ward, of Hu...     Austen   \n",
      "16  \\n Erster Theil\\n \\n \\n Zarathustra’s Vorrede....  Nietzsche   \n",
      "17  Nichts ist leichter vorauszusetzen, als daß ei...     Austen   \n",
      "18  ERSTER TEIL\\n \\n \\n \\n \\n Romain Rolland dem v...      Hesse   \n",
      "19  MAXIMS AND MISSILES\\n \\n \\n 1\\n \\n Idleness is...  Nietzsche   \n",
      "20  \\n Vor etwa dreißig Jahren hatte Miss Maria Wa...     Austen   \n",
      "21  FIRST PART. ZARATHUSTRA’S DISCOURSES.\\n \\n \\n ...  Nietzsche   \n",
      "22  1\\n Arrival\\n It was late evening when K. arri...      Kafka   \n",
      "23  One morning, when Gregor Samsa woke from troub...      Kafka   \n",
      "24  Jane Austen\\n Verstand und\\n Gefühl\\n Marianne...     Austen   \n",
      "25  FIRST DIVISION.\\n \\n \\n FIRST AND LAST THINGS....  Nietzsche   \n",
      "26  Ich wollte ja nichts als das zu leben\\n versuc...      Hesse   \n",
      "27  ERSTES KAPITEL\\n \\n VERHAFTUNG · GESPRÄCH MIT ...      Kafka   \n",
      "28  THE STOKER\\n As the seventeen-year-old Karl Ro...      Kafka   \n",
      "29  IN THE BEGINNING was the myth. God, in his sea...      Hesse   \n",
      "30  Sir Walter Elliot, of Kellynch-hall, in Somers...     Austen   \n",
      "31  This book contains the records left us by a ma...      Hesse   \n",
      "32  CHAPTER I. PREJUDICES OF PHILOSOPHERS\\n \\n \\n ...  Nietzsche   \n",
      "33  1.\\n \\n Was auch diesem fragwürdigen Buche zu ...  Nietzsche   \n",
      "\n",
      "           title language  \n",
      "0        Amerika       de  \n",
      "1      Camenzind       de  \n",
      "2           Anna       de  \n",
      "3    Steppenwolf       de  \n",
      "4       Jenseits       de  \n",
      "5         Geburt       en  \n",
      "6        Prozess       en  \n",
      "7        Schloss       de  \n",
      "8    Verwandlung       de  \n",
      "9       Verstand       en  \n",
      "10  Menschliches       de  \n",
      "11        Demian       en  \n",
      "12         Stolz       en  \n",
      "13    Siddhartha       en  \n",
      "14       Goetzen       de  \n",
      "15     Mansfield       en  \n",
      "16   Zarathustra       de  \n",
      "17         Stolz       de  \n",
      "18    Siddhartha       de  \n",
      "19       Goetzen       en  \n",
      "20     Mansfield       de  \n",
      "21   Zarathustra       en  \n",
      "22       Schloss       en  \n",
      "23   Verwandlung       en  \n",
      "24      Verstand       de  \n",
      "25  Menschliches       en  \n",
      "26        Demian       de  \n",
      "27       Prozess       de  \n",
      "28       Amerika       en  \n",
      "29     Camenzind       en  \n",
      "30          Anna       en  \n",
      "31   Steppenwolf       en  \n",
      "32      Jenseits       en  \n",
      "33        Geburt       de  \n"
     ]
    }
   ],
   "execution_count": 92
  },
  {
   "cell_type": "markdown",
   "id": "acd741ebfb26e80a",
   "metadata": {},
   "source": "### Text vorbereiten, Graphen erstellen und Infos in Dataframe schreiben"
  },
  {
   "cell_type": "code",
   "id": "f17fae84e6747569",
   "metadata": {
    "ExecuteTime": {
     "end_time": "2025-06-18T14:26:11.316321Z",
     "start_time": "2025-06-18T14:26:03.317202Z"
    }
   },
   "source": [
    "df[\"token_list\"] = df[\"file_content\"].apply(lambda text: prepare_text_with_libraries(text, remove_stopwords=config.REMOVE_STOPWORDS))\n",
    "df[\"token_list_length\"] = df[\"token_list\"].apply(lambda text: len(text))\n",
    "\n",
    "# Graph erstellen\n",
    "df[\"graph\"] = df[\"token_list\"].apply(lambda g: convert_preprocessed_tokens_to_graph(g, config.LINK_DISTANCE))\n",
    "\n",
    "# Infos in df schreiben\n",
    "df[\"stopwords_removed\"] = config.REMOVE_STOPWORDS\n",
    "df[\"link_distance\"] = config.LINK_DISTANCE"
   ],
   "outputs": [],
   "execution_count": 93
  },
  {
   "cell_type": "markdown",
   "id": "6ff579f7c571b267",
   "metadata": {},
   "source": "### Metriken des Netzwerks berechnen"
  },
  {
   "cell_type": "code",
   "id": "21e315e88630fd7c",
   "metadata": {
    "ExecuteTime": {
     "end_time": "2025-06-18T14:26:11.383733Z",
     "start_time": "2025-06-18T14:26:11.336136Z"
    }
   },
   "source": [
    "# Basismetriken: Knotenanzahl und Kantenanzahl\n",
    "df[\"node_count\"] = df[\"graph\"].apply(lambda g: len(g.nodes))\n",
    "df[\"edge_count\"] = df[\"graph\"].apply(lambda g: len(g.edges))\n",
    "\n",
    "# Knotengrade\n",
    "df[\"degree_list\"] = df[\"graph\"].apply(lambda g: np.array([deg for node, deg in g.degree ]))\n",
    "\n",
    "\n",
    "# Alternative von ChatGPT: dataframe[\"degree_list\"] = dataframe[\"graph\"].apply(lambda g: np.fromiter(dict(g.degree).values(), dtype=float))\n",
    "df[\"average_degree\"] = df[\"degree_list\"].apply(lambda degree_list: np.mean(degree_list))\n",
    "df[\"median_degree\"] = df[\"degree_list\"].apply(lambda degree_list: np.median(degree_list))\n",
    "\n",
    "# Falls eingeschaltet: Parallele Berechnungen\n",
    "if PARALLEL:\n",
    "    distance_measures = df[\"graph\"].apply(parallel_get_distance_measures).apply(pd.Series)\n",
    "    df[[\"diameter\", \"average_distance\"]] = distance_measures\n",
    "    df[\"betweenness_list\"] = df[\"graph\"].apply(parallel_get_betweenness_list)\n",
    "\n",
    "# Ansonsten (NICHT parallel)\n",
    "else:\n",
    "    df[\"diameter\"] = df[\"graph\"].apply(lambda g: nx.diameter(g))\n",
    "    df[\"average_distance\"] = df[\"graph\"].apply(lambda g: nx.average_shortest_path_length(g))\n",
    "    df[\"betweenness_list\"] = df[\"graph\"].apply(lambda g : np.array( list(nx.betweenness_centrality(g).values()) ))\n",
    "\n",
    "# powerlaw-Eigenschaften der Knotenverteilung bestimmen\n",
    "powerlaw_result = df[\"degree_list\"].apply(get_powerlaw_result).apply(pd.Series)\n",
    "df[[\"powerlaw_alpha_value\", \"powerlaw_xmin_value\"]] = powerlaw_result\n",
    "\n",
    "# Betweenness aus Liste der Einzelwerte\n",
    "df[\"betweenness_min\"] = df[\"betweenness_list\"].apply(np.min)\n",
    "df[\"betweenness_max\"] = df[\"betweenness_list\"].apply(np.max)\n",
    "df[\"betweenness_average\"] = df[\"betweenness_list\"].apply(np.mean)\n",
    "df[\"betweenness_standard_deviation\"] = df[\"betweenness_list\"].apply(np.std)\n",
    "\n",
    "\n",
    "# Clustering\n",
    "df[\"average_clustering\"] = df[\"graph\"].apply(lambda g: nx.average_clustering(g))\n"
   ],
   "outputs": [],
   "execution_count": 94
  },
  {
   "cell_type": "markdown",
   "id": "9d6abf47b0fde5b8",
   "metadata": {},
   "source": [
    "### Speichern der Tabelle in Datei"
   ]
  },
  {
   "cell_type": "code",
   "id": "31b3b4be4d2fb7f0",
   "metadata": {
    "ExecuteTime": {
     "end_time": "2025-06-18T14:26:11.401842Z",
     "start_time": "2025-06-18T14:26:11.395758Z"
    }
   },
   "source": [
    "# Nur bestimmte Spalten sollen in Datei geschrieben werden\n",
    "df[config.ATTRIBUTES_VISIBLE_IN_FILE].to_csv(\"data/output/output.csv\", index=False)"
   ],
   "outputs": [],
   "execution_count": 95
  },
  {
   "metadata": {},
   "cell_type": "markdown",
   "source": "### Buch mit den wenigsten Wörtern finden",
   "id": "f5f3dcb36b113b61"
  },
  {
   "metadata": {
    "ExecuteTime": {
     "end_time": "2025-06-18T14:26:11.420261Z",
     "start_time": "2025-06-18T14:26:11.415190Z"
    }
   },
   "cell_type": "code",
   "source": [
    "smallest_book_idx = df[\"token_list_length\"].idxmin()\n",
    "\n",
    "print(df.iloc[smallest_book_idx])\n",
    "\n"
   ],
   "id": "fc4bac29831ad83c",
   "outputs": [
    {
     "name": "stdout",
     "output_type": "stream",
     "text": [
      "file_name                                     Kafka_Verwandlung_de.txt\n",
      "file_content         Als Gregor Samsa eines Morgens aus unruhigen T...\n",
      "author                                                           Kafka\n",
      "title                                                      Verwandlung\n",
      "language                                                            de\n",
      "token_list           [als, Gregor, Samsa, ein, Morgen, aus, unruhig...\n",
      "token_list_length                                                18763\n",
      "graph                (als, Gregor, Samsa, ein, Morgen, aus, unruhig...\n",
      "stopwords_removed                                                False\n",
      "link_distance                                                        1\n",
      "node_count                                                        2854\n",
      "edge_count                                                       11742\n",
      "Name: 8, dtype: object\n"
     ]
    }
   ],
   "execution_count": 96
  }
 ],
 "metadata": {
  "kernelspec": {
   "display_name": "Python (komplNetzeEnv",
   "language": "python",
   "name": "jupyterkomplnetze"
  },
  "language_info": {
   "codemirror_mode": {
    "name": "ipython",
    "version": 3
   },
   "file_extension": ".py",
   "mimetype": "text/x-python",
   "name": "python",
   "nbconvert_exporter": "python",
   "pygments_lexer": "ipython3",
   "version": "3.12.3"
  }
 },
 "nbformat": 4,
 "nbformat_minor": 5
}
