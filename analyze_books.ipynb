{
 "cells": [
  {
   "cell_type": "markdown",
   "id": "a28680df2df1ec9",
   "metadata": {},
   "source": [
    "### Imports"
   ]
  },
  {
   "cell_type": "code",
   "execution_count": 30,
   "id": "initial_id",
   "metadata": {
    "ExecuteTime": {
     "end_time": "2025-06-05T17:27:01.943317Z",
     "start_time": "2025-06-05T17:27:01.930285Z"
    }
   },
   "outputs": [],
   "source": [
    "from importlib import reload\n",
    "import pandas as pd\n",
    "import numpy as np\n",
    "import networkx as nx\n",
    "\n",
    "from os import listdir\n",
    "from os.path import isfile, join\n",
    "\n",
    "# Importieren und neu laden (damit aktuelle Änderungen übernommen werden)\n",
    "from helper import graph_analyzer, text_preprocesser\n",
    "reload(text_preprocesser)\n",
    "reload(graph_analyzer)\n",
    "\n",
    "\n",
    "from helper.text_preprocesser import prepareText, convert_preprocessed_tokens_to_graph\n",
    "from helper.graph_analyzer import parallelGetDistanceMeasures, parallel_get_betweenness_list"
   ]
  },
  {
   "cell_type": "markdown",
   "id": "9e89293a435834c1",
   "metadata": {},
   "source": [
    "### Optionen setzen"
   ]
  },
  {
   "cell_type": "code",
   "execution_count": 38,
   "id": "c3e5119ec4e7a27",
   "metadata": {
    "ExecuteTime": {
     "end_time": "2025-06-05T17:27:01.946633Z",
     "start_time": "2025-06-05T17:27:01.944451Z"
    }
   },
   "outputs": [
    {
     "name": "stdout",
     "output_type": "stream",
     "text": [
      "NetworkXConfig(backend_priority=BackendPriorities(algos=[], generators=[]), backends=Config(parallel=ParallelConfig(active=True, backend='loky', n_jobs=4, verbose=0, temp_folder=None, max_nbytes='1M', mmap_mode='r', prefer=None, require=None, inner_max_num_threads=None, backend_params={})), cache_converted_graphs=True, fallback_to_nx=False, warnings_to_ignore=set())\n"
     ]
    }
   ],
   "source": [
    "PARALLEL = False\n",
    "nx.config.backends.parallel.active = True\n",
    "nx.config.backends.parallel.n_jobs = 4\n",
    "print(nx.config)"
   ]
  },
  {
   "cell_type": "markdown",
   "id": "5d747da102a04f1f",
   "metadata": {},
   "source": [
    "### Dateipfade laden"
   ]
  },
  {
   "cell_type": "code",
   "execution_count": 39,
   "id": "8cb24543676e765c",
   "metadata": {
    "ExecuteTime": {
     "end_time": "2025-06-05T17:27:01.956672Z",
     "start_time": "2025-06-05T17:27:01.949603Z"
    }
   },
   "outputs": [],
   "source": [
    "# Allgemeiner Pfad zu den Daten\n",
    "DATA_PATH = \"data/input/\"\n",
    "\n",
    "# Liste mit Dateinamen von Büchern\n",
    "file_name_list = [f for f in listdir(DATA_PATH) if isfile(join(DATA_PATH, f))]\n",
    "\n",
    "# Liste mit Inhalten von Dateien\n",
    "file_content_list = [\" \".join(open(join(DATA_PATH, f)).readlines()) for f in file_name_list]\n"
   ]
  },
  {
   "cell_type": "markdown",
   "id": "4e806c9cb334c645",
   "metadata": {},
   "source": [
    "### Dataframe mit Dateinamen und Inhalt befüllen"
   ]
  },
  {
   "cell_type": "code",
   "execution_count": 40,
   "id": "a042c30999b50a3e",
   "metadata": {
    "ExecuteTime": {
     "end_time": "2025-06-05T17:27:01.975479Z",
     "start_time": "2025-06-05T17:27:01.958825Z"
    }
   },
   "outputs": [],
   "source": [
    "# Tabelle erstellen mit Spalten \"title\" und \"content\"\n",
    "dataframe = pd.DataFrame({'title': file_name_list, 'content': file_content_list})\n"
   ]
  },
  {
   "cell_type": "markdown",
   "id": "acd741ebfb26e80a",
   "metadata": {},
   "source": [
    "### Text vorbereiten und Graphen erstellen"
   ]
  },
  {
   "cell_type": "code",
   "execution_count": null,
   "id": "f17fae84e6747569",
   "metadata": {
    "ExecuteTime": {
     "end_time": "2025-06-05T17:27:01.993735Z",
     "start_time": "2025-06-05T17:27:01.977247Z"
    }
   },
   "outputs": [
    {
     "name": "stdout",
     "output_type": "stream",
     "text": [
      "                             title  \\\n",
      "0   Peter_Camenzind_de_cleaned.txt   \n",
      "1  Peter_Camenzind_eng_cleaned.txt   \n",
      "\n",
      "                                             content  \\\n",
      "0  Im Anfang war der Mythus. Wie der große Gott i...   \n",
      "1  IN THE BEGINNING was the myth. God, in his sea...   \n",
      "\n",
      "                                       prepared_text  \\\n",
      "0  [im, Anfang, sein, der, Mythus, wie, der, groß...   \n",
      "1  [in, the, beginning, was, the, myth, god, in, ...   \n",
      "\n",
      "                                               graph  \n",
      "0  (im, Anfang, sein, der, Mythus, wie, groß, Got...  \n",
      "1  (in, the, beginning, was, myth, god, His, Sear...  \n"
     ]
    }
   ],
   "source": [
    "dataframe[\"prepared_text\"] = dataframe[\"content\"].apply(prepareText)\n",
    "\n",
    "dataframe[\"graph\"] = dataframe[\"prepared_text\"].apply(convert_preprocessed_tokens_to_graph)"
   ]
  },
  {
   "cell_type": "markdown",
   "id": "6ff579f7c571b267",
   "metadata": {},
   "source": [
    "### Metriken berechnen"
   ]
  },
  {
   "cell_type": "code",
   "execution_count": 43,
   "id": "21e315e88630fd7c",
   "metadata": {
    "ExecuteTime": {
     "end_time": "2025-06-05T17:27:08.501517Z",
     "start_time": "2025-06-05T17:27:01.994273Z"
    }
   },
   "outputs": [],
   "source": [
    "# Basismetriken: Knotenanzahl und Kantenanzahl\n",
    "dataframe[\"node_count\"] = dataframe[\"graph\"].apply(lambda g: len(g.nodes))\n",
    "dataframe[\"edge_count\"] = dataframe[\"graph\"].apply(lambda g: len(g.edges))\n",
    "\n",
    "# Knotengrade\n",
    "dataframe[\"degree_list\"] = dataframe[\"graph\"].apply(lambda g: np.array([deg for node, deg in g.degree ]))\n",
    "# Alternative von ChatGPT: dataframe[\"degree_list\"] = dataframe[\"graph\"].apply(lambda g: np.fromiter(dict(g.degree).values(), dtype=float))\n",
    "dataframe[\"average_degree\"] = dataframe[\"degree_list\"].apply(lambda degree_list: np.mean(degree_list))\n",
    "dataframe[\"median_degree\"] = dataframe[\"degree_list\"].apply(lambda degree_list: np.median(degree_list))\n",
    "\n",
    "# Falls eingeschaltet: Parallele Berechnungen\n",
    "if PARALLEL:\n",
    "    distance_measures = dataframe[\"graph\"].apply(parallelGetDistanceMeasures).apply(pd.Series)\n",
    "    dataframe[[\"diameter\", \"average_distance\"]] = distance_measures\n",
    "    dataframe[\"betweenness_list\"] = dataframe[\"graph\"].apply(parallel_get_betweenness_list)\n",
    "\n",
    "    \n",
    "# Ansonsten (NICHT parallel)\n",
    "else:\n",
    "    dataframe[\"diameter\"] = dataframe[\"graph\"].apply(lambda g: nx.diameter(g))\n",
    "    dataframe[\"average_distance\"] = dataframe[\"graph\"].apply(lambda g: nx.average_shortest_path_length(g))\n",
    "    dataframe[\"betweenness_list\"] = dataframe[\"graph\"].apply(lambda g : np.array( list(nx.betweenness_centrality(g).values()) ))\n",
    "\n",
    "# Betweenness aus Liste der Einzelwerte\n",
    "dataframe[\"betweenness_min\"] = dataframe[\"betweenness_list\"].apply(np.min)\n",
    "dataframe[\"betweenness_max\"] = dataframe[\"betweenness_list\"].apply(np.max)\n",
    "dataframe[\"betweenness_average\"] = dataframe[\"betweenness_list\"].apply(np.mean)\n",
    "dataframe[\"betweenness_standard_deviation\"] = dataframe[\"betweenness_list\"].apply(np.std)\n",
    "\n",
    "\n",
    "# Clustering\n",
    "dataframe[\"average_clustering\"] = dataframe[\"graph\"].apply(lambda g: nx.average_clustering(g))\n"
   ]
  },
  {
   "cell_type": "markdown",
   "id": "9d6abf47b0fde5b8",
   "metadata": {},
   "source": [
    "### Speichern der Tabelle in Datei"
   ]
  },
  {
   "cell_type": "code",
   "execution_count": 47,
   "id": "31b3b4be4d2fb7f0",
   "metadata": {
    "ExecuteTime": {
     "end_time": "2025-06-05T17:27:08.509963Z",
     "start_time": "2025-06-05T17:27:08.502788Z"
    }
   },
   "outputs": [],
   "source": [
    "attributes_visible_in_file = [\n",
    "    \"title\",\n",
    "    \"node_count\",\n",
    "    \"edge_count\",\n",
    "    \"average_degree\",\n",
    "    \"median_degree\",\n",
    "    \"diameter\",\n",
    "    \"average_distance\",\n",
    "    \"betweenness_min\",\n",
    "    \"betweenness_max\",\n",
    "    \"betweenness_average\",\n",
    "    \"betweenness_standard_deviation\",\n",
    "    \"average_clustering\"\n",
    "]\n",
    "\n",
    "dataframe[attributes_visible_in_file].to_csv(\"../olol/output/output.csv\", index=False)"
   ]
  },
  {
   "cell_type": "code",
   "execution_count": null,
   "id": "0f2b21c2",
   "metadata": {},
   "outputs": [],
   "source": []
  }
 ],
 "metadata": {
  "kernelspec": {
   "display_name": "Python 3",
   "language": "python",
   "name": "python3"
  },
  "language_info": {
   "codemirror_mode": {
    "name": "ipython",
    "version": 2
   },
   "file_extension": ".py",
   "mimetype": "text/x-python",
   "name": "python",
   "nbconvert_exporter": "python",
   "pygments_lexer": "ipython2",
   "version": "2.7.6"
  }
 },
 "nbformat": 4,
 "nbformat_minor": 5
}
