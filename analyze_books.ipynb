{
 "cells": [
  {
   "metadata": {},
   "cell_type": "markdown",
   "source": "### Imports",
   "id": "a28680df2df1ec9"
  },
  {
   "metadata": {
    "ExecuteTime": {
     "end_time": "2025-06-05T17:27:01.943317Z",
     "start_time": "2025-06-05T17:27:01.930285Z"
    }
   },
   "cell_type": "code",
   "source": [
    "from importlib import reload\n",
    "import pandas as pd\n",
    "import numpy as np\n",
    "import networkx as nx\n",
    "\n",
    "from os import listdir\n",
    "from os.path import isfile, join\n",
    "\n",
    "# Importieren und neu laden (damit aktuelle Änderungen übernommen werden)\n",
    "from helper import graph_analyzer, text_preprocesser\n",
    "reload(text_preprocesser)\n",
    "reload(graph_analyzer)\n",
    "\n",
    "\n",
    "from helper.text_preprocesser import prepareText, convert_preprocessed_tokens_to_graph\n",
    "from helper.graph_analyzer import parallelGetDistanceMeasures"
   ],
   "id": "initial_id",
   "outputs": [],
   "execution_count": 63
  },
  {
   "metadata": {},
   "cell_type": "markdown",
   "source": "### Optionen setzen",
   "id": "9e89293a435834c1"
  },
  {
   "metadata": {
    "ExecuteTime": {
     "end_time": "2025-06-05T17:27:01.946633Z",
     "start_time": "2025-06-05T17:27:01.944451Z"
    }
   },
   "cell_type": "code",
   "source": "PARALLEL = True",
   "id": "c3e5119ec4e7a27",
   "outputs": [],
   "execution_count": 64
  },
  {
   "metadata": {},
   "cell_type": "markdown",
   "source": "### Dateipfade laden",
   "id": "5d747da102a04f1f"
  },
  {
   "metadata": {
    "ExecuteTime": {
     "end_time": "2025-06-05T17:27:01.956672Z",
     "start_time": "2025-06-05T17:27:01.949603Z"
    }
   },
   "cell_type": "code",
   "source": [
    "# Allgemeiner Pfad zu den Daten\n",
    "DATA_PATH = \"data/input/\"\n",
    "\n",
    "# Liste mit Dateinamen von Büchern\n",
    "file_name_list = [f for f in listdir(DATA_PATH) if isfile(join(DATA_PATH, f))]\n",
    "\n",
    "# Liste mit Inhalten von Dateien\n",
    "file_content_list = [\" \".join(open(join(DATA_PATH, f)).readlines()) for f in file_name_list]\n"
   ],
   "id": "8cb24543676e765c",
   "outputs": [],
   "execution_count": 65
  },
  {
   "metadata": {},
   "cell_type": "markdown",
   "source": "### Dataframe mit Dateinamen und Inhalt befüllen",
   "id": "4e806c9cb334c645"
  },
  {
   "metadata": {
    "ExecuteTime": {
     "end_time": "2025-06-05T17:27:01.975479Z",
     "start_time": "2025-06-05T17:27:01.958825Z"
    }
   },
   "cell_type": "code",
   "source": [
    "# Tabelle erstellen mit Spalten \"title\" und \"content\"\n",
    "dataframe = pd.DataFrame({'title': file_name_list, 'content': file_content_list})\n"
   ],
   "id": "a042c30999b50a3e",
   "outputs": [],
   "execution_count": 66
  },
  {
   "metadata": {},
   "cell_type": "markdown",
   "source": "### Text vorbereiten und Graphen erstellen",
   "id": "acd741ebfb26e80a"
  },
  {
   "metadata": {
    "ExecuteTime": {
     "end_time": "2025-06-05T17:27:01.993735Z",
     "start_time": "2025-06-05T17:27:01.977247Z"
    }
   },
   "cell_type": "code",
   "source": [
    "dataframe[\"prepared_text\"] = dataframe[\"content\"].apply(prepareText)\n",
    "\n",
    "dataframe[\"graph\"] = dataframe[\"prepared_text\"].apply(convert_preprocessed_tokens_to_graph)"
   ],
   "id": "f17fae84e6747569",
   "outputs": [],
   "execution_count": 67
  },
  {
   "metadata": {},
   "cell_type": "markdown",
   "source": "### Metriken berechnen",
   "id": "6ff579f7c571b267"
  },
  {
   "metadata": {
    "ExecuteTime": {
     "end_time": "2025-06-05T17:27:08.501517Z",
     "start_time": "2025-06-05T17:27:01.994273Z"
    }
   },
   "cell_type": "code",
   "source": [
    "# Basismetriken: Knotenanzahl und Kantenanzahl\n",
    "dataframe[\"node_count\"] = dataframe[\"graph\"].apply(lambda g: len(g.nodes))\n",
    "dataframe[\"edge_count\"] = dataframe[\"graph\"].apply(lambda g: len(g.edges))\n",
    "\n",
    "# Knotengrade\n",
    "dataframe[\"degree_list\"] = dataframe[\"graph\"].apply(lambda g: np.array([deg for node, deg in g.degree ]))\n",
    "# Alternative von ChatGPT: dataframe[\"degree_list\"] = dataframe[\"graph\"].apply(lambda g: np.fromiter(dict(g.degree).values(), dtype=float))\n",
    "dataframe[\"average_degree\"] = dataframe[\"degree_list\"].apply(lambda degree_list: np.mean(degree_list))\n",
    "dataframe[\"median_degree\"] = dataframe[\"degree_list\"].apply(lambda degree_list: np.median(degree_list))\n",
    "\n",
    "# Falls eingeschaltet: Parallele Berechnungen\n",
    "if PARALLEL:\n",
    "    distance_measures = dataframe[\"graph\"].apply(parallelGetDistanceMeasures).apply(pd.Series)\n",
    "    dataframe[[\"diameter\", \"average_distance\"]] = distance_measures\n",
    "    \n",
    "# Ansonsten (NICHT parallel)\n",
    "else:\n",
    "    dataframe[\"diameter\"] = dataframe[\"graph\"].apply(lambda g: nx.diameter(g))\n",
    "    dataframe[\"average_distance\"] = dataframe[\"graph\"].apply(lambda g: nx.average_shortest_path_length(g))\n",
    "\n",
    "# Betweenness\n",
    "dataframe[\"betweenness_list\"] = dataframe[\"graph\"].apply(nx.betweenness_centrality)\n",
    "dataframe[\"betweenness_min\"] = dataframe[\"betweenness_list\"].apply(lambda d: np.min(list(d.values())))\n",
    "dataframe[\"betweenness_max\"] = dataframe[\"betweenness_list\"].apply(lambda d: np.max(list(d.values())))\n",
    "dataframe[\"betweenness_average\"] = dataframe[\"betweenness_list\"].apply(lambda d: np.mean(list(d.values())))\n",
    "dataframe[\"betweenness_standard_deviation\"] = dataframe[\"betweenness_list\"].apply(lambda d: np.std(list(d.values())))\n",
    "\n",
    "\n",
    "# Clustering\n",
    "dataframe[\"average_clustering\"] = dataframe[\"graph\"].apply(lambda g: nx.average_clustering(g))\n"
   ],
   "id": "21e315e88630fd7c",
   "outputs": [],
   "execution_count": 68
  },
  {
   "metadata": {},
   "cell_type": "markdown",
   "source": "### Speichern der Tabelle in Datei",
   "id": "9d6abf47b0fde5b8"
  },
  {
   "metadata": {
    "ExecuteTime": {
     "end_time": "2025-06-05T17:27:08.509963Z",
     "start_time": "2025-06-05T17:27:08.502788Z"
    }
   },
   "cell_type": "code",
   "source": [
    "attributes_visible_in_file = [\n",
    "    \"title\",\n",
    "    \"node_count\",\n",
    "    \"edge_count\",\n",
    "    \"average_degree\",\n",
    "    \"median_degree\",\n",
    "    \"diameter\",\n",
    "    \"average_distance\",\n",
    "    \"betweenness_min\",\n",
    "    \"betweenness_max\",\n",
    "    \"betweenness_average\",\n",
    "    \"betweenness_standard_deviation\",\n",
    "    \"average_clustering\"\n",
    "]\n",
    "\n",
    "dataframe[attributes_visible_in_file].to_csv(\"data/output/output.csv\", index=False)"
   ],
   "id": "31b3b4be4d2fb7f0",
   "outputs": [],
   "execution_count": 69
  }
 ],
 "metadata": {
  "kernelspec": {
   "display_name": "Python 3",
   "language": "python",
   "name": "python3"
  },
  "language_info": {
   "codemirror_mode": {
    "name": "ipython",
    "version": 2
   },
   "file_extension": ".py",
   "mimetype": "text/x-python",
   "name": "python",
   "nbconvert_exporter": "python",
   "pygments_lexer": "ipython2",
   "version": "2.7.6"
  }
 },
 "nbformat": 4,
 "nbformat_minor": 5
}
