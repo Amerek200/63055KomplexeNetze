{
 "cells": [
  {
   "cell_type": "markdown",
   "id": "a28680df2df1ec9",
   "metadata": {},
   "source": [
    "### Imports"
   ]
  },
  {
   "cell_type": "code",
   "execution_count": 1,
   "id": "initial_id",
   "metadata": {
    "ExecuteTime": {
     "end_time": "2025-06-18T14:26:03.119938Z",
     "start_time": "2025-06-18T14:26:03.107737Z"
    }
   },
   "outputs": [],
   "source": [
    "from importlib import reload\n",
    "from itertools import chain\n",
    "\n",
    "import pandas as pd\n",
    "import numpy as np\n",
    "import networkx as nx\n",
    "import nx_parallel as nxp\n",
    "import scipy\n",
    "\n",
    "from os import listdir\n",
    "from os.path import isfile, join\n",
    "\n",
    "# Importieren und neu laden (damit aktuelle Änderungen übernommen werden)\n",
    "import config\n",
    "from helper import graph_analyzer, file_preprocesser\n",
    "reload(config)\n",
    "reload(file_preprocesser)\n",
    "reload(graph_analyzer)\n",
    "\n",
    "\n",
    "from helper.file_preprocesser import prepare_text, prepare_text_with_libraries, convert_preprocessed_tokens_to_graph, extract_metadata_from_file_name\n",
    "from helper.graph_analyzer import parallel_get_distance_measures, parallel_get_betweenness_list, get_powerlaw_result\n",
    "import config"
   ]
  },
  {
   "cell_type": "markdown",
   "id": "9e89293a435834c1",
   "metadata": {},
   "source": [
    "### Optionen laden"
   ]
  },
  {
   "cell_type": "code",
   "execution_count": 2,
   "id": "c3e5119ec4e7a27",
   "metadata": {
    "ExecuteTime": {
     "end_time": "2025-06-18T14:26:03.142558Z",
     "start_time": "2025-06-18T14:26:03.140271Z"
    }
   },
   "outputs": [],
   "source": [
    "# Auslagern in config?\n",
    "nx.config.backends.parallel.active = config.PARALLEL\n",
    "nx.config.backends.parallel.n_jobs = config.N_JOBS"
   ]
  },
  {
   "cell_type": "markdown",
   "id": "5d747da102a04f1f",
   "metadata": {},
   "source": [
    "### Dateipfade laden"
   ]
  },
  {
   "cell_type": "code",
   "execution_count": 3,
   "id": "8cb24543676e765c",
   "metadata": {
    "ExecuteTime": {
     "end_time": "2025-06-18T14:26:03.231182Z",
     "start_time": "2025-06-18T14:26:03.156632Z"
    }
   },
   "outputs": [],
   "source": [
    "# Liste mit Dateinamen von Büchern\n",
    "file_name_list = [f for f in listdir(config.DATA_PATH) if isfile(join(config.DATA_PATH, f))]\n",
    "\n",
    "# Liste mit Inhalten von Dateien\n",
    "file_content_list = [\" \".join(open(join(config.DATA_PATH, f)).readlines()) for f in file_name_list]\n"
   ]
  },
  {
   "cell_type": "markdown",
   "id": "4e806c9cb334c645",
   "metadata": {},
   "source": [
    "### Dataframe mit Dateinamen und Inhalt befüllen"
   ]
  },
  {
   "cell_type": "code",
   "execution_count": 4,
   "id": "a042c30999b50a3e",
   "metadata": {
    "ExecuteTime": {
     "end_time": "2025-06-18T14:26:03.302909Z",
     "start_time": "2025-06-18T14:26:03.245808Z"
    }
   },
   "outputs": [
    {
     "name": "stdout",
     "output_type": "stream",
     "text": [
      "                        file_name  \\\n",
      "0    Kafka_Hungerkuenstler_de.txt   \n",
      "1              Austen_Anna_de.txt   \n",
      "2         Austen_Mansfield_de.txt   \n",
      "3        Hesse_Steppenwolf_de.txt   \n",
      "4       Kafka_Strafkolonie_de.txt   \n",
      "5             Hesse_Demian_de.txt   \n",
      "6       Nietzsche_Jenseits_de.txt   \n",
      "7             Kafka_Heizer_de.txt   \n",
      "8        Nietzsche_Goetzen_de.txt   \n",
      "9   Nietzsche_Menschliches_de.txt   \n",
      "10            Austen_Stolz_de.txt   \n",
      "11            Kafka_Urteil_de.txt   \n",
      "12           Kafka_Amerika_de.txt   \n",
      "13         Austen_Verstand_de.txt   \n",
      "14        Hesse_Siddhartha_de.txt   \n",
      "15         Hesse_Camenzind_de.txt   \n",
      "16           Kafka_Prozess_de.txt   \n",
      "17   Nietzsche_Zarathustra_de.txt   \n",
      "18        Nietzsche_Geburt_de.txt   \n",
      "19       Kafka_Verwandlung_de.txt   \n",
      "20           Kafka_Schloss_de.txt   \n",
      "\n",
      "                                         file_content     author  \\\n",
      "0   In den letzten Jahrzehnten ist das Interesse a...      Kafka   \n",
      "1   Sir Walter Elliot, auf Kellynch-Hall in der Gr...     Austen   \n",
      "2   \\n Vor etwa dreißig Jahren hatte Miss Maria Wa...     Austen   \n",
      "3   Dieses Buch enthält die uns gebliebenen Aufzei...      Hesse   \n",
      "4   »Es ist ein eigentümlicher Apparat,« sagte der...      Kafka   \n",
      "5   Ich wollte ja nichts als das zu leben\\n versuc...      Hesse   \n",
      "6   Erstes Hauptstück:\\n \\n Von den Vorurtheilen d...  Nietzsche   \n",
      "7   Als der sechzehnjährige Karl Roßmann, der von ...      Kafka   \n",
      "8   \\n Sprüche und Pfeile.\\n \\n 1.\\n \\n Müssiggang...  Nietzsche   \n",
      "9   \\n Erstes Hauptstück.\\n \\n Von den ersten und ...  Nietzsche   \n",
      "10  Nichts ist leichter vorauszusetzen, als daß ei...     Austen   \n",
      "11  Es war an einem Sonntagvormittag im schönsten ...      Kafka   \n",
      "12  Der Heizer\\n Als der sechzehnjährige Karl Roßm...      Kafka   \n",
      "13  Jane Austen\\n Verstand und\\n Gefühl\\n Marianne...     Austen   \n",
      "14  ERSTER TEIL\\n \\n \\n \\n \\n Romain Rolland dem v...      Hesse   \n",
      "15  Im Anfang war der Mythus. Wie der große Gott i...      Hesse   \n",
      "16  ERSTES KAPITEL\\n \\n VERHAFTUNG · GESPRÄCH MIT ...      Kafka   \n",
      "17  \\n Erster Theil\\n \\n \\n Zarathustra’s Vorrede....  Nietzsche   \n",
      "18  1.\\n \\n Was auch diesem fragwürdigen Buche zu ...  Nietzsche   \n",
      "19  Als Gregor Samsa eines Morgens aus unruhigen T...      Kafka   \n",
      "20  Es war spätabends, als K. ankam. Das Dorf lag ...      Kafka   \n",
      "\n",
      "              title language  \n",
      "0   Hungerkuenstler       de  \n",
      "1              Anna       de  \n",
      "2         Mansfield       de  \n",
      "3       Steppenwolf       de  \n",
      "4      Strafkolonie       de  \n",
      "5            Demian       de  \n",
      "6          Jenseits       de  \n",
      "7            Heizer       de  \n",
      "8           Goetzen       de  \n",
      "9      Menschliches       de  \n",
      "10            Stolz       de  \n",
      "11           Urteil       de  \n",
      "12          Amerika       de  \n",
      "13         Verstand       de  \n",
      "14       Siddhartha       de  \n",
      "15        Camenzind       de  \n",
      "16          Prozess       de  \n",
      "17      Zarathustra       de  \n",
      "18           Geburt       de  \n",
      "19      Verwandlung       de  \n",
      "20          Schloss       de  \n"
     ]
    }
   ],
   "source": [
    "# Tabelle erstellen mit Spalten \"title\" und \"content\"\n",
    "df = pd.DataFrame({'file_name': file_name_list, 'file_content': file_content_list})\n",
    "\n",
    "file_metadata = df[\"file_name\"].apply(extract_metadata_from_file_name).apply(pd.Series)\n",
    "\n",
    "df[[\"author\", \"title\", \"language\"]] = file_metadata\n",
    "\n",
    "print(df)"
   ]
  },
  {
   "cell_type": "markdown",
   "id": "acd741ebfb26e80a",
   "metadata": {},
   "source": [
    "### Text vorbereiten, Graphen erstellen und Infos in Dataframe schreiben"
   ]
  },
  {
   "cell_type": "code",
   "execution_count": 5,
   "id": "f17fae84e6747569",
   "metadata": {
    "ExecuteTime": {
     "end_time": "2025-06-18T14:26:11.316321Z",
     "start_time": "2025-06-18T14:26:03.317202Z"
    }
   },
   "outputs": [],
   "source": [
    "df[\"token_list\"] = df.apply(\n",
    "    lambda row : prepare_text_with_libraries(\n",
    "        row[\"file_content\"], \n",
    "        remove_stopwords=config.REMOVE_STOPWORDS, \n",
    "        language=row[\"language\"]\n",
    "    ), \n",
    "    axis=1\n",
    ")\n",
    "df[\"token_list_length\"] = df[\"token_list\"].apply(lambda text: len(text))\n",
    "\n",
    "# Graph erstellen\n",
    "df[\"graph\"] = df[\"token_list\"].apply(lambda g: convert_preprocessed_tokens_to_graph(g, config.LINK_DISTANCE))\n",
    "\n",
    "# Infos in df schreiben\n",
    "df[\"stopwords_removed\"] = config.REMOVE_STOPWORDS\n",
    "df[\"link_distance\"] = config.LINK_DISTANCE"
   ]
  },
  {
   "cell_type": "markdown",
   "id": "6ff579f7c571b267",
   "metadata": {},
   "source": [
    "### Metriken des Netzwerks berechnen"
   ]
  },
  {
   "cell_type": "code",
   "execution_count": 6,
   "id": "21e315e88630fd7c",
   "metadata": {
    "ExecuteTime": {
     "end_time": "2025-06-18T14:26:11.383733Z",
     "start_time": "2025-06-18T14:26:11.336136Z"
    }
   },
   "outputs": [
    {
     "ename": "KeyboardInterrupt",
     "evalue": "",
     "output_type": "error",
     "traceback": [
      "\u001b[31m---------------------------------------------------------------------------\u001b[39m",
      "\u001b[31mKeyboardInterrupt\u001b[39m                         Traceback (most recent call last)",
      "\u001b[36mCell\u001b[39m\u001b[36m \u001b[39m\u001b[32mIn[6]\u001b[39m\u001b[32m, line 15\u001b[39m\n\u001b[32m     13\u001b[39m \u001b[38;5;66;03m# Falls eingeschaltet: Parallele Berechnungen\u001b[39;00m\n\u001b[32m     14\u001b[39m \u001b[38;5;28;01mif\u001b[39;00m config.PARALLEL:\n\u001b[32m---> \u001b[39m\u001b[32m15\u001b[39m     distance_measures = \u001b[43mdf\u001b[49m\u001b[43m[\u001b[49m\u001b[33;43m\"\u001b[39;49m\u001b[33;43mgraph\u001b[39;49m\u001b[33;43m\"\u001b[39;49m\u001b[43m]\u001b[49m\u001b[43m.\u001b[49m\u001b[43mapply\u001b[49m\u001b[43m(\u001b[49m\u001b[43mparallel_get_distance_measures\u001b[49m\u001b[43m)\u001b[49m.apply(pd.Series)\n\u001b[32m     16\u001b[39m     df[[\u001b[33m\"\u001b[39m\u001b[33mdiameter\u001b[39m\u001b[33m\"\u001b[39m, \u001b[33m\"\u001b[39m\u001b[33maverage_distance\u001b[39m\u001b[33m\"\u001b[39m]] = distance_measures\n\u001b[32m     17\u001b[39m     df[\u001b[33m\"\u001b[39m\u001b[33mbetweenness_list\u001b[39m\u001b[33m\"\u001b[39m] = df[\u001b[33m\"\u001b[39m\u001b[33mgraph\u001b[39m\u001b[33m\"\u001b[39m].apply(parallel_get_betweenness_list)\n",
      "\u001b[36mFile \u001b[39m\u001b[32m~/Programming/Python/venvs/komplNetzeVenv/lib/python3.12/site-packages/pandas/core/series.py:4924\u001b[39m, in \u001b[36mSeries.apply\u001b[39m\u001b[34m(self, func, convert_dtype, args, by_row, **kwargs)\u001b[39m\n\u001b[32m   4789\u001b[39m \u001b[38;5;28;01mdef\u001b[39;00m\u001b[38;5;250m \u001b[39m\u001b[34mapply\u001b[39m(\n\u001b[32m   4790\u001b[39m     \u001b[38;5;28mself\u001b[39m,\n\u001b[32m   4791\u001b[39m     func: AggFuncType,\n\u001b[32m   (...)\u001b[39m\u001b[32m   4796\u001b[39m     **kwargs,\n\u001b[32m   4797\u001b[39m ) -> DataFrame | Series:\n\u001b[32m   4798\u001b[39m \u001b[38;5;250m    \u001b[39m\u001b[33;03m\"\"\"\u001b[39;00m\n\u001b[32m   4799\u001b[39m \u001b[33;03m    Invoke function on values of Series.\u001b[39;00m\n\u001b[32m   4800\u001b[39m \n\u001b[32m   (...)\u001b[39m\u001b[32m   4915\u001b[39m \u001b[33;03m    dtype: float64\u001b[39;00m\n\u001b[32m   4916\u001b[39m \u001b[33;03m    \"\"\"\u001b[39;00m\n\u001b[32m   4917\u001b[39m     \u001b[38;5;28;01mreturn\u001b[39;00m \u001b[43mSeriesApply\u001b[49m\u001b[43m(\u001b[49m\n\u001b[32m   4918\u001b[39m \u001b[43m        \u001b[49m\u001b[38;5;28;43mself\u001b[39;49m\u001b[43m,\u001b[49m\n\u001b[32m   4919\u001b[39m \u001b[43m        \u001b[49m\u001b[43mfunc\u001b[49m\u001b[43m,\u001b[49m\n\u001b[32m   4920\u001b[39m \u001b[43m        \u001b[49m\u001b[43mconvert_dtype\u001b[49m\u001b[43m=\u001b[49m\u001b[43mconvert_dtype\u001b[49m\u001b[43m,\u001b[49m\n\u001b[32m   4921\u001b[39m \u001b[43m        \u001b[49m\u001b[43mby_row\u001b[49m\u001b[43m=\u001b[49m\u001b[43mby_row\u001b[49m\u001b[43m,\u001b[49m\n\u001b[32m   4922\u001b[39m \u001b[43m        \u001b[49m\u001b[43margs\u001b[49m\u001b[43m=\u001b[49m\u001b[43margs\u001b[49m\u001b[43m,\u001b[49m\n\u001b[32m   4923\u001b[39m \u001b[43m        \u001b[49m\u001b[43mkwargs\u001b[49m\u001b[43m=\u001b[49m\u001b[43mkwargs\u001b[49m\u001b[43m,\u001b[49m\n\u001b[32m-> \u001b[39m\u001b[32m4924\u001b[39m \u001b[43m    \u001b[49m\u001b[43m)\u001b[49m\u001b[43m.\u001b[49m\u001b[43mapply\u001b[49m\u001b[43m(\u001b[49m\u001b[43m)\u001b[49m\n",
      "\u001b[36mFile \u001b[39m\u001b[32m~/Programming/Python/venvs/komplNetzeVenv/lib/python3.12/site-packages/pandas/core/apply.py:1427\u001b[39m, in \u001b[36mSeriesApply.apply\u001b[39m\u001b[34m(self)\u001b[39m\n\u001b[32m   1424\u001b[39m     \u001b[38;5;28;01mreturn\u001b[39;00m \u001b[38;5;28mself\u001b[39m.apply_compat()\n\u001b[32m   1426\u001b[39m \u001b[38;5;66;03m# self.func is Callable\u001b[39;00m\n\u001b[32m-> \u001b[39m\u001b[32m1427\u001b[39m \u001b[38;5;28;01mreturn\u001b[39;00m \u001b[38;5;28;43mself\u001b[39;49m\u001b[43m.\u001b[49m\u001b[43mapply_standard\u001b[49m\u001b[43m(\u001b[49m\u001b[43m)\u001b[49m\n",
      "\u001b[36mFile \u001b[39m\u001b[32m~/Programming/Python/venvs/komplNetzeVenv/lib/python3.12/site-packages/pandas/core/apply.py:1507\u001b[39m, in \u001b[36mSeriesApply.apply_standard\u001b[39m\u001b[34m(self)\u001b[39m\n\u001b[32m   1501\u001b[39m \u001b[38;5;66;03m# row-wise access\u001b[39;00m\n\u001b[32m   1502\u001b[39m \u001b[38;5;66;03m# apply doesn't have a `na_action` keyword and for backward compat reasons\u001b[39;00m\n\u001b[32m   1503\u001b[39m \u001b[38;5;66;03m# we need to give `na_action=\"ignore\"` for categorical data.\u001b[39;00m\n\u001b[32m   1504\u001b[39m \u001b[38;5;66;03m# TODO: remove the `na_action=\"ignore\"` when that default has been changed in\u001b[39;00m\n\u001b[32m   1505\u001b[39m \u001b[38;5;66;03m#  Categorical (GH51645).\u001b[39;00m\n\u001b[32m   1506\u001b[39m action = \u001b[33m\"\u001b[39m\u001b[33mignore\u001b[39m\u001b[33m\"\u001b[39m \u001b[38;5;28;01mif\u001b[39;00m \u001b[38;5;28misinstance\u001b[39m(obj.dtype, CategoricalDtype) \u001b[38;5;28;01melse\u001b[39;00m \u001b[38;5;28;01mNone\u001b[39;00m\n\u001b[32m-> \u001b[39m\u001b[32m1507\u001b[39m mapped = \u001b[43mobj\u001b[49m\u001b[43m.\u001b[49m\u001b[43m_map_values\u001b[49m\u001b[43m(\u001b[49m\n\u001b[32m   1508\u001b[39m \u001b[43m    \u001b[49m\u001b[43mmapper\u001b[49m\u001b[43m=\u001b[49m\u001b[43mcurried\u001b[49m\u001b[43m,\u001b[49m\u001b[43m \u001b[49m\u001b[43mna_action\u001b[49m\u001b[43m=\u001b[49m\u001b[43maction\u001b[49m\u001b[43m,\u001b[49m\u001b[43m \u001b[49m\u001b[43mconvert\u001b[49m\u001b[43m=\u001b[49m\u001b[38;5;28;43mself\u001b[39;49m\u001b[43m.\u001b[49m\u001b[43mconvert_dtype\u001b[49m\n\u001b[32m   1509\u001b[39m \u001b[43m\u001b[49m\u001b[43m)\u001b[49m\n\u001b[32m   1511\u001b[39m \u001b[38;5;28;01mif\u001b[39;00m \u001b[38;5;28mlen\u001b[39m(mapped) \u001b[38;5;129;01mand\u001b[39;00m \u001b[38;5;28misinstance\u001b[39m(mapped[\u001b[32m0\u001b[39m], ABCSeries):\n\u001b[32m   1512\u001b[39m     \u001b[38;5;66;03m# GH#43986 Need to do list(mapped) in order to get treated as nested\u001b[39;00m\n\u001b[32m   1513\u001b[39m     \u001b[38;5;66;03m#  See also GH#25959 regarding EA support\u001b[39;00m\n\u001b[32m   1514\u001b[39m     \u001b[38;5;28;01mreturn\u001b[39;00m obj._constructor_expanddim(\u001b[38;5;28mlist\u001b[39m(mapped), index=obj.index)\n",
      "\u001b[36mFile \u001b[39m\u001b[32m~/Programming/Python/venvs/komplNetzeVenv/lib/python3.12/site-packages/pandas/core/base.py:921\u001b[39m, in \u001b[36mIndexOpsMixin._map_values\u001b[39m\u001b[34m(self, mapper, na_action, convert)\u001b[39m\n\u001b[32m    918\u001b[39m \u001b[38;5;28;01mif\u001b[39;00m \u001b[38;5;28misinstance\u001b[39m(arr, ExtensionArray):\n\u001b[32m    919\u001b[39m     \u001b[38;5;28;01mreturn\u001b[39;00m arr.map(mapper, na_action=na_action)\n\u001b[32m--> \u001b[39m\u001b[32m921\u001b[39m \u001b[38;5;28;01mreturn\u001b[39;00m \u001b[43malgorithms\u001b[49m\u001b[43m.\u001b[49m\u001b[43mmap_array\u001b[49m\u001b[43m(\u001b[49m\u001b[43marr\u001b[49m\u001b[43m,\u001b[49m\u001b[43m \u001b[49m\u001b[43mmapper\u001b[49m\u001b[43m,\u001b[49m\u001b[43m \u001b[49m\u001b[43mna_action\u001b[49m\u001b[43m=\u001b[49m\u001b[43mna_action\u001b[49m\u001b[43m,\u001b[49m\u001b[43m \u001b[49m\u001b[43mconvert\u001b[49m\u001b[43m=\u001b[49m\u001b[43mconvert\u001b[49m\u001b[43m)\u001b[49m\n",
      "\u001b[36mFile \u001b[39m\u001b[32m~/Programming/Python/venvs/komplNetzeVenv/lib/python3.12/site-packages/pandas/core/algorithms.py:1743\u001b[39m, in \u001b[36mmap_array\u001b[39m\u001b[34m(arr, mapper, na_action, convert)\u001b[39m\n\u001b[32m   1741\u001b[39m values = arr.astype(\u001b[38;5;28mobject\u001b[39m, copy=\u001b[38;5;28;01mFalse\u001b[39;00m)\n\u001b[32m   1742\u001b[39m \u001b[38;5;28;01mif\u001b[39;00m na_action \u001b[38;5;129;01mis\u001b[39;00m \u001b[38;5;28;01mNone\u001b[39;00m:\n\u001b[32m-> \u001b[39m\u001b[32m1743\u001b[39m     \u001b[38;5;28;01mreturn\u001b[39;00m \u001b[43mlib\u001b[49m\u001b[43m.\u001b[49m\u001b[43mmap_infer\u001b[49m\u001b[43m(\u001b[49m\u001b[43mvalues\u001b[49m\u001b[43m,\u001b[49m\u001b[43m \u001b[49m\u001b[43mmapper\u001b[49m\u001b[43m,\u001b[49m\u001b[43m \u001b[49m\u001b[43mconvert\u001b[49m\u001b[43m=\u001b[49m\u001b[43mconvert\u001b[49m\u001b[43m)\u001b[49m\n\u001b[32m   1744\u001b[39m \u001b[38;5;28;01melse\u001b[39;00m:\n\u001b[32m   1745\u001b[39m     \u001b[38;5;28;01mreturn\u001b[39;00m lib.map_infer_mask(\n\u001b[32m   1746\u001b[39m         values, mapper, mask=isna(values).view(np.uint8), convert=convert\n\u001b[32m   1747\u001b[39m     )\n",
      "\u001b[36mFile \u001b[39m\u001b[32mlib.pyx:2972\u001b[39m, in \u001b[36mpandas._libs.lib.map_infer\u001b[39m\u001b[34m()\u001b[39m\n",
      "\u001b[36mFile \u001b[39m\u001b[32m~/OneDrive/Dokumente/FernUni/Komplexe Netze/Code/helper/graph_analyzer.py:9\u001b[39m, in \u001b[36mparallel_get_distance_measures\u001b[39m\u001b[34m(graph)\u001b[39m\n\u001b[32m      7\u001b[39m max_distance = \u001b[32m0\u001b[39m\n\u001b[32m      8\u001b[39m avg_distance = \u001b[32m0\u001b[39m\n\u001b[32m----> \u001b[39m\u001b[32m9\u001b[39m \u001b[43m\u001b[49m\u001b[38;5;28;43;01mfor\u001b[39;49;00m\u001b[43m \u001b[49m\u001b[43mnode\u001b[49m\u001b[43m,\u001b[49m\u001b[43m \u001b[49m\u001b[43mlength_dict\u001b[49m\u001b[43m \u001b[49m\u001b[38;5;129;43;01min\u001b[39;49;00m\u001b[43m \u001b[49m\u001b[43mnxp\u001b[49m\u001b[43m.\u001b[49m\u001b[43mall_pairs_shortest_path_length\u001b[49m\u001b[43m(\u001b[49m\u001b[43mgraph\u001b[49m\u001b[43m)\u001b[49m\u001b[43m:\u001b[49m\n\u001b[32m     10\u001b[39m \u001b[43m    \u001b[49m\u001b[38;5;28;43;01mfor\u001b[39;49;00m\u001b[43m \u001b[49m\u001b[43mk\u001b[49m\u001b[43m,\u001b[49m\u001b[43m \u001b[49m\u001b[43mv\u001b[49m\u001b[43m \u001b[49m\u001b[38;5;129;43;01min\u001b[39;49;00m\u001b[43m \u001b[49m\u001b[43mlength_dict\u001b[49m\u001b[43m.\u001b[49m\u001b[43mitems\u001b[49m\u001b[43m(\u001b[49m\u001b[43m)\u001b[49m\u001b[43m:\u001b[49m\n\u001b[32m     11\u001b[39m \u001b[43m        \u001b[49m\u001b[38;5;28;43;01mif\u001b[39;49;00m\u001b[43m \u001b[49m\u001b[43mk\u001b[49m\u001b[43m \u001b[49m\u001b[43m==\u001b[49m\u001b[43m \u001b[49m\u001b[43mnode\u001b[49m\u001b[43m:\u001b[49m\u001b[43m \u001b[49m\u001b[38;5;28;43;01mcontinue\u001b[39;49;00m\n",
      "\u001b[36mFile \u001b[39m\u001b[32m~/Programming/Python/venvs/komplNetzeVenv/lib/python3.12/site-packages/nx_parallel/algorithms/shortest_paths/unweighted.py:57\u001b[39m, in \u001b[36mall_pairs_shortest_path_length\u001b[39m\u001b[34m(G, cutoff, get_chunks)\u001b[39m\n\u001b[32m     51\u001b[39m     node_chunks = get_chunks(nodes)\n\u001b[32m     53\u001b[39m path_lengths_chunk_generator = (\n\u001b[32m     54\u001b[39m     delayed(_process_node_chunk)(node_chunk) \u001b[38;5;28;01mfor\u001b[39;00m node_chunk \u001b[38;5;129;01min\u001b[39;00m node_chunks\n\u001b[32m     55\u001b[39m )\n\u001b[32m---> \u001b[39m\u001b[32m57\u001b[39m \u001b[38;5;28;01mfor\u001b[39;00m path_length_chunk \u001b[38;5;129;01min\u001b[39;00m \u001b[43mParallel\u001b[49m\u001b[43m(\u001b[49m\u001b[43m)\u001b[49m\u001b[43m(\u001b[49m\u001b[43mpath_lengths_chunk_generator\u001b[49m\u001b[43m)\u001b[49m:\n\u001b[32m     58\u001b[39m     \u001b[38;5;28;01mfor\u001b[39;00m path_length \u001b[38;5;129;01min\u001b[39;00m path_length_chunk:\n\u001b[32m     59\u001b[39m         \u001b[38;5;28;01myield\u001b[39;00m path_length\n",
      "\u001b[36mFile \u001b[39m\u001b[32m~/Programming/Python/venvs/komplNetzeVenv/lib/python3.12/site-packages/joblib/parallel.py:1918\u001b[39m, in \u001b[36mParallel.__call__\u001b[39m\u001b[34m(self, iterable)\u001b[39m\n\u001b[32m   1916\u001b[39m     output = \u001b[38;5;28mself\u001b[39m._get_sequential_output(iterable)\n\u001b[32m   1917\u001b[39m     \u001b[38;5;28mnext\u001b[39m(output)\n\u001b[32m-> \u001b[39m\u001b[32m1918\u001b[39m     \u001b[38;5;28;01mreturn\u001b[39;00m output \u001b[38;5;28;01mif\u001b[39;00m \u001b[38;5;28mself\u001b[39m.return_generator \u001b[38;5;28;01melse\u001b[39;00m \u001b[38;5;28;43mlist\u001b[39;49m\u001b[43m(\u001b[49m\u001b[43moutput\u001b[49m\u001b[43m)\u001b[49m\n\u001b[32m   1920\u001b[39m \u001b[38;5;66;03m# Let's create an ID that uniquely identifies the current call. If the\u001b[39;00m\n\u001b[32m   1921\u001b[39m \u001b[38;5;66;03m# call is interrupted early and that the same instance is immediately\u001b[39;00m\n\u001b[32m   1922\u001b[39m \u001b[38;5;66;03m# re-used, this id will be used to prevent workers that were\u001b[39;00m\n\u001b[32m   1923\u001b[39m \u001b[38;5;66;03m# concurrently finalizing a task from the previous call to run the\u001b[39;00m\n\u001b[32m   1924\u001b[39m \u001b[38;5;66;03m# callback.\u001b[39;00m\n\u001b[32m   1925\u001b[39m \u001b[38;5;28;01mwith\u001b[39;00m \u001b[38;5;28mself\u001b[39m._lock:\n",
      "\u001b[36mFile \u001b[39m\u001b[32m~/Programming/Python/venvs/komplNetzeVenv/lib/python3.12/site-packages/joblib/parallel.py:1847\u001b[39m, in \u001b[36mParallel._get_sequential_output\u001b[39m\u001b[34m(self, iterable)\u001b[39m\n\u001b[32m   1845\u001b[39m \u001b[38;5;28mself\u001b[39m.n_dispatched_batches += \u001b[32m1\u001b[39m\n\u001b[32m   1846\u001b[39m \u001b[38;5;28mself\u001b[39m.n_dispatched_tasks += \u001b[32m1\u001b[39m\n\u001b[32m-> \u001b[39m\u001b[32m1847\u001b[39m res = \u001b[43mfunc\u001b[49m\u001b[43m(\u001b[49m\u001b[43m*\u001b[49m\u001b[43margs\u001b[49m\u001b[43m,\u001b[49m\u001b[43m \u001b[49m\u001b[43m*\u001b[49m\u001b[43m*\u001b[49m\u001b[43mkwargs\u001b[49m\u001b[43m)\u001b[49m\n\u001b[32m   1848\u001b[39m \u001b[38;5;28mself\u001b[39m.n_completed_tasks += \u001b[32m1\u001b[39m\n\u001b[32m   1849\u001b[39m \u001b[38;5;28mself\u001b[39m.print_progress()\n",
      "\u001b[36mFile \u001b[39m\u001b[32m~/Programming/Python/venvs/komplNetzeVenv/lib/python3.12/site-packages/nx_parallel/algorithms/shortest_paths/unweighted.py:37\u001b[39m, in \u001b[36mall_pairs_shortest_path_length.<locals>._process_node_chunk\u001b[39m\u001b[34m(node_chunk)\u001b[39m\n\u001b[32m     35\u001b[39m \u001b[38;5;28;01mdef\u001b[39;00m\u001b[38;5;250m \u001b[39m\u001b[34m_process_node_chunk\u001b[39m(node_chunk):\n\u001b[32m     36\u001b[39m     \u001b[38;5;28;01mreturn\u001b[39;00m [\n\u001b[32m---> \u001b[39m\u001b[32m37\u001b[39m         (node, \u001b[43msingle_source_shortest_path_length\u001b[49m\u001b[43m(\u001b[49m\u001b[43mG\u001b[49m\u001b[43m,\u001b[49m\u001b[43m \u001b[49m\u001b[43mnode\u001b[49m\u001b[43m,\u001b[49m\u001b[43m \u001b[49m\u001b[43mcutoff\u001b[49m\u001b[43m=\u001b[49m\u001b[43mcutoff\u001b[49m\u001b[43m)\u001b[49m)\n\u001b[32m     38\u001b[39m         \u001b[38;5;28;01mfor\u001b[39;00m node \u001b[38;5;129;01min\u001b[39;00m node_chunk\n\u001b[32m     39\u001b[39m     ]\n",
      "\u001b[36mFile \u001b[39m\u001b[32m<class 'networkx.utils.decorators.argmap'> compilation 4:3\u001b[39m, in \u001b[36margmap_single_source_shortest_path_length_1\u001b[39m\u001b[34m(G, source, cutoff, backend, **backend_kwargs)\u001b[39m\n\u001b[32m      1\u001b[39m \u001b[38;5;28;01mimport\u001b[39;00m\u001b[38;5;250m \u001b[39m\u001b[34;01mbz2\u001b[39;00m\n\u001b[32m      2\u001b[39m \u001b[38;5;28;01mimport\u001b[39;00m\u001b[38;5;250m \u001b[39m\u001b[34;01mcollections\u001b[39;00m\n\u001b[32m----> \u001b[39m\u001b[32m3\u001b[39m \u001b[38;5;28;01mimport\u001b[39;00m\u001b[38;5;250m \u001b[39m\u001b[34;01mgzip\u001b[39;00m\n\u001b[32m      4\u001b[39m \u001b[38;5;28;01mimport\u001b[39;00m\u001b[38;5;250m \u001b[39m\u001b[34;01minspect\u001b[39;00m\n\u001b[32m      5\u001b[39m \u001b[38;5;28;01mimport\u001b[39;00m\u001b[38;5;250m \u001b[39m\u001b[34;01mitertools\u001b[39;00m\n",
      "\u001b[36mFile \u001b[39m\u001b[32m~/Programming/Python/venvs/komplNetzeVenv/lib/python3.12/site-packages/networkx/utils/backends.py:1355\u001b[39m, in \u001b[36m_dispatchable.__call__\u001b[39m\u001b[34m(self, backend, *args, **kwargs)\u001b[39m\n\u001b[32m   1353\u001b[39m \u001b[38;5;28;01mif\u001b[39;00m \u001b[38;5;129;01mnot\u001b[39;00m graph_backend_names \u001b[38;5;129;01mor\u001b[39;00m graph_backend_names == {backend_name}:\n\u001b[32m   1354\u001b[39m     \u001b[38;5;28;01mif\u001b[39;00m \u001b[38;5;28mself\u001b[39m._can_backend_run(backend_name, args, kwargs):\n\u001b[32m-> \u001b[39m\u001b[32m1355\u001b[39m         \u001b[38;5;28;01mreturn\u001b[39;00m \u001b[38;5;28;43mself\u001b[39;49m\u001b[43m.\u001b[49m\u001b[43m_call_with_backend\u001b[49m\u001b[43m(\u001b[49m\u001b[43mbackend_name\u001b[49m\u001b[43m,\u001b[49m\u001b[43m \u001b[49m\u001b[43margs\u001b[49m\u001b[43m,\u001b[49m\u001b[43m \u001b[49m\u001b[43mkwargs\u001b[49m\u001b[43m)\u001b[49m\n\u001b[32m   1356\u001b[39m \u001b[38;5;28;01melif\u001b[39;00m \u001b[38;5;28mself\u001b[39m._can_convert(\n\u001b[32m   1357\u001b[39m     backend_name, graph_backend_names\n\u001b[32m   1358\u001b[39m ) \u001b[38;5;129;01mand\u001b[39;00m \u001b[38;5;28mself\u001b[39m._can_backend_run(backend_name, args, kwargs):\n\u001b[32m   1359\u001b[39m     \u001b[38;5;28;01mif\u001b[39;00m \u001b[38;5;28mself\u001b[39m._should_backend_run(backend_name, args, kwargs):\n",
      "\u001b[36mFile \u001b[39m\u001b[32m~/Programming/Python/venvs/komplNetzeVenv/lib/python3.12/site-packages/networkx/utils/backends.py:1858\u001b[39m, in \u001b[36m_dispatchable._call_with_backend\u001b[39m\u001b[34m(self, backend_name, args, kwargs, extra_message)\u001b[39m\n\u001b[32m   1856\u001b[39m \u001b[38;5;250m\u001b[39m\u001b[33;03m\"\"\"Call this dispatchable function with a backend without converting inputs.\"\"\"\u001b[39;00m\n\u001b[32m   1857\u001b[39m \u001b[38;5;28;01mif\u001b[39;00m backend_name == \u001b[33m\"\u001b[39m\u001b[33mnetworkx\u001b[39m\u001b[33m\"\u001b[39m:\n\u001b[32m-> \u001b[39m\u001b[32m1858\u001b[39m     \u001b[38;5;28;01mreturn\u001b[39;00m \u001b[38;5;28;43mself\u001b[39;49m\u001b[43m.\u001b[49m\u001b[43morig_func\u001b[49m\u001b[43m(\u001b[49m\u001b[43m*\u001b[49m\u001b[43margs\u001b[49m\u001b[43m,\u001b[49m\u001b[43m \u001b[49m\u001b[43m*\u001b[49m\u001b[43m*\u001b[49m\u001b[43mkwargs\u001b[49m\u001b[43m)\u001b[49m\n\u001b[32m   1859\u001b[39m backend = _load_backend(backend_name)\n\u001b[32m   1860\u001b[39m _logger.debug(\n\u001b[32m   1861\u001b[39m     \u001b[33m\"\u001b[39m\u001b[33mUsing backend \u001b[39m\u001b[33m'\u001b[39m\u001b[38;5;132;01m%s\u001b[39;00m\u001b[33m'\u001b[39m\u001b[33m for call to `\u001b[39m\u001b[38;5;132;01m%s\u001b[39;00m\u001b[33m'\u001b[39m\u001b[33m with arguments: \u001b[39m\u001b[38;5;132;01m%s\u001b[39;00m\u001b[33m\"\u001b[39m,\n\u001b[32m   1862\u001b[39m     backend_name,\n\u001b[32m   1863\u001b[39m     \u001b[38;5;28mself\u001b[39m.name,\n\u001b[32m   1864\u001b[39m     _LazyArgsRepr(\u001b[38;5;28mself\u001b[39m, args, kwargs),\n\u001b[32m   1865\u001b[39m )\n",
      "\u001b[36mFile \u001b[39m\u001b[32m~/Programming/Python/venvs/komplNetzeVenv/lib/python3.12/site-packages/networkx/algorithms/shortest_paths/unweighted.py:63\u001b[39m, in \u001b[36msingle_source_shortest_path_length\u001b[39m\u001b[34m(G, source, cutoff)\u001b[39m\n\u001b[32m     61\u001b[39m     cutoff = \u001b[38;5;28mfloat\u001b[39m(\u001b[33m\"\u001b[39m\u001b[33minf\u001b[39m\u001b[33m\"\u001b[39m)\n\u001b[32m     62\u001b[39m nextlevel = [source]\n\u001b[32m---> \u001b[39m\u001b[32m63\u001b[39m \u001b[38;5;28;01mreturn\u001b[39;00m \u001b[38;5;28;43mdict\u001b[39;49m\u001b[43m(\u001b[49m\u001b[43m_single_shortest_path_length\u001b[49m\u001b[43m(\u001b[49m\u001b[43mG\u001b[49m\u001b[43m.\u001b[49m\u001b[43m_adj\u001b[49m\u001b[43m,\u001b[49m\u001b[43m \u001b[49m\u001b[43mnextlevel\u001b[49m\u001b[43m,\u001b[49m\u001b[43m \u001b[49m\u001b[43mcutoff\u001b[49m\u001b[43m)\u001b[49m\u001b[43m)\u001b[49m\n",
      "\u001b[36mFile \u001b[39m\u001b[32m~/Programming/Python/venvs/komplNetzeVenv/lib/python3.12/site-packages/networkx/algorithms/shortest_paths/unweighted.py:91\u001b[39m, in \u001b[36m_single_shortest_path_length\u001b[39m\u001b[34m(adj, firstlevel, cutoff)\u001b[39m\n\u001b[32m     89\u001b[39m \u001b[38;5;28;01mfor\u001b[39;00m v \u001b[38;5;129;01min\u001b[39;00m thislevel:\n\u001b[32m     90\u001b[39m     \u001b[38;5;28;01mfor\u001b[39;00m w \u001b[38;5;129;01min\u001b[39;00m adj[v]:\n\u001b[32m---> \u001b[39m\u001b[32m91\u001b[39m         \u001b[38;5;28;01mif\u001b[39;00m w \u001b[38;5;129;01mnot\u001b[39;00m \u001b[38;5;129;01min\u001b[39;00m seen:\n\u001b[32m     92\u001b[39m             seen.add(w)\n\u001b[32m     93\u001b[39m             nextlevel.append(w)\n",
      "\u001b[31mKeyboardInterrupt\u001b[39m: "
     ]
    }
   ],
   "source": [
    "# Basismetriken: Knotenanzahl und Kantenanzahl\n",
    "df[\"node_count\"] = df[\"graph\"].apply(lambda g: len(g.nodes))\n",
    "df[\"edge_count\"] = df[\"graph\"].apply(lambda g: len(g.edges))\n",
    "\n",
    "# Knotengrade\n",
    "df[\"degree_list\"] = df[\"graph\"].apply(lambda g: np.array([deg for node, deg in g.degree ]))\n",
    "\n",
    "\n",
    "# Alternative von ChatGPT: dataframe[\"degree_list\"] = dataframe[\"graph\"].apply(lambda g: np.fromiter(dict(g.degree).values(), dtype=float))\n",
    "df[\"average_degree\"] = df[\"degree_list\"].apply(lambda degree_list: np.mean(degree_list))\n",
    "df[\"median_degree\"] = df[\"degree_list\"].apply(lambda degree_list: np.median(degree_list))\n",
    "\n",
    "# Falls eingeschaltet: Parallele Berechnungen\n",
    "if config.PARALLEL:\n",
    "    distance_measures = df[\"graph\"].apply(parallel_get_distance_measures).apply(pd.Series)\n",
    "    df[[\"diameter\", \"average_distance\"]] = distance_measures\n",
    "    df[\"betweenness_list\"] = df[\"graph\"].apply(parallel_get_betweenness_list)\n",
    "\n",
    "# Ansonsten (NICHT parallel)\n",
    "else:\n",
    "    df[\"diameter\"] = df[\"graph\"].apply(lambda g: nx.diameter(g))\n",
    "    df[\"average_distance\"] = df[\"graph\"].apply(lambda g: nx.average_shortest_path_length(g))\n",
    "    df[\"betweenness_list\"] = df[\"graph\"].apply(lambda g : np.array( list(nx.betweenness_centrality(g).values()) ))\n",
    "\n",
    "# powerlaw-Eigenschaften der Knotenverteilung bestimmen\n",
    "powerlaw_result = df[\"degree_list\"].apply(get_powerlaw_result).apply(pd.Series)\n",
    "df[[\"powerlaw_alpha_value\", \"powerlaw_xmin_value\"]] = powerlaw_result\n",
    "\n",
    "# Betweenness aus Liste der Einzelwerte\n",
    "df[\"betweenness_min\"] = df[\"betweenness_list\"].apply(np.min)\n",
    "df[\"betweenness_max\"] = df[\"betweenness_list\"].apply(np.max)\n",
    "df[\"betweenness_average\"] = df[\"betweenness_list\"].apply(np.mean)\n",
    "df[\"betweenness_standard_deviation\"] = df[\"betweenness_list\"].apply(np.std)\n",
    "\n",
    "\n",
    "# Clustering\n",
    "df[\"average_clustering\"] = df[\"graph\"].apply(lambda g: nx.average_clustering(g))\n"
   ]
  },
  {
   "cell_type": "markdown",
   "id": "9d6abf47b0fde5b8",
   "metadata": {},
   "source": [
    "### Speichern der Tabelle in Datei"
   ]
  },
  {
   "cell_type": "code",
   "execution_count": 95,
   "id": "31b3b4be4d2fb7f0",
   "metadata": {
    "ExecuteTime": {
     "end_time": "2025-06-18T14:26:11.401842Z",
     "start_time": "2025-06-18T14:26:11.395758Z"
    }
   },
   "outputs": [],
   "source": [
    "# Nur bestimmte Spalten sollen in Datei geschrieben werden\n",
    "df[config.ATTRIBUTES_VISIBLE_IN_FILE].to_csv(\"data/output/output.csv\", index=False)"
   ]
  },
  {
   "cell_type": "markdown",
   "id": "f5f3dcb36b113b61",
   "metadata": {},
   "source": [
    "### Buch mit den wenigsten Wörtern finden"
   ]
  },
  {
   "cell_type": "code",
   "execution_count": 96,
   "id": "fc4bac29831ad83c",
   "metadata": {
    "ExecuteTime": {
     "end_time": "2025-06-18T14:26:11.420261Z",
     "start_time": "2025-06-18T14:26:11.415190Z"
    }
   },
   "outputs": [
    {
     "name": "stdout",
     "output_type": "stream",
     "text": [
      "file_name                                     Kafka_Verwandlung_de.txt\n",
      "file_content         Als Gregor Samsa eines Morgens aus unruhigen T...\n",
      "author                                                           Kafka\n",
      "title                                                      Verwandlung\n",
      "language                                                            de\n",
      "token_list           [als, Gregor, Samsa, ein, Morgen, aus, unruhig...\n",
      "token_list_length                                                18763\n",
      "graph                (als, Gregor, Samsa, ein, Morgen, aus, unruhig...\n",
      "stopwords_removed                                                False\n",
      "link_distance                                                        1\n",
      "node_count                                                        2854\n",
      "edge_count                                                       11742\n",
      "Name: 8, dtype: object\n"
     ]
    }
   ],
   "source": [
    "smallest_book_idx = df[\"token_list_length\"].idxmin()\n",
    "\n",
    "print(df.iloc[smallest_book_idx])\n",
    "\n"
   ]
  }
 ],
 "metadata": {
  "kernelspec": {
   "display_name": "komplNetzeVenv",
   "language": "python",
   "name": "python3"
  },
  "language_info": {
   "codemirror_mode": {
    "name": "ipython",
    "version": 3
   },
   "file_extension": ".py",
   "mimetype": "text/x-python",
   "name": "python",
   "nbconvert_exporter": "python",
   "pygments_lexer": "ipython3",
   "version": "3.12.3"
  }
 },
 "nbformat": 4,
 "nbformat_minor": 5
}
