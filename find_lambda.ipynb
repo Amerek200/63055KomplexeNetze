{
 "cells": [
  {
   "cell_type": "code",
   "id": "initial_id",
   "metadata": {
    "collapsed": true,
    "ExecuteTime": {
     "end_time": "2025-06-08T11:31:49.065209Z",
     "start_time": "2025-06-08T11:31:49.054833Z"
    }
   },
   "source": [
    "import numpy as np\n",
    "import scipy\n",
    "\n",
    "# numpy-Array erstellen\n",
    "data = np.random.exponential(scale=2.0, size=1000)\n",
    "\n",
    "# Exponentialverteilung auf Daten \"fitten\"\n",
    "loc, scale = scipy.stats.expon.fit(data, floc=0)  # floc=0, weil \n",
    "\n",
    "# Lambda rückwärts berechnen\n",
    "lambda_hat = 1 / scale\n",
    "\n",
    "print(f\"Geschätztes λ: {lambda_hat}\")\n"
   ],
   "outputs": [
    {
     "name": "stdout",
     "output_type": "stream",
     "text": [
      "Geschätztes λ: 0.4898450403371218\n"
     ]
    }
   ],
   "execution_count": 16
  }
 ],
 "metadata": {
  "kernelspec": {
   "display_name": "Python 3",
   "language": "python",
   "name": "python3"
  },
  "language_info": {
   "codemirror_mode": {
    "name": "ipython",
    "version": 2
   },
   "file_extension": ".py",
   "mimetype": "text/x-python",
   "name": "python",
   "nbconvert_exporter": "python",
   "pygments_lexer": "ipython2",
   "version": "2.7.6"
  }
 },
 "nbformat": 4,
 "nbformat_minor": 5
}
